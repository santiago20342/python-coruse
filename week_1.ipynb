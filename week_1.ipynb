{
 "cells": [
  {
   "cell_type": "code",
   "execution_count": 1,
   "metadata": {},
   "outputs": [],
   "source": [
    "def sum(a,b):\n",
    "    c = a + b\n",
    "    return c"
   ]
  },
  {
   "cell_type": "code",
   "execution_count": 2,
   "metadata": {},
   "outputs": [
    {
     "name": "stdout",
     "output_type": "stream",
     "text": [
      "15.5\n"
     ]
    }
   ],
   "source": [
    "print(sum(10,5.5))"
   ]
  },
  {
   "cell_type": "code",
   "execution_count": null,
   "metadata": {},
   "outputs": [],
   "source": [
    "a = float(input('Enter a number:'))\n",
    "b = float(input('Enter a number:'))\n",
    "print(a + b)\n",
    "print(a - b)\n",
    "print(a / b)\n",
    "print(a * b)"
   ]
  },
  {
   "cell_type": "code",
   "execution_count": null,
   "metadata": {},
   "outputs": [],
   "source": [
    "a = 10 \n",
    "b = 5\n",
    "if a < 5:\n",
    "    print('finished')\n",
    "else:\n",
    "    a = a/2\n",
    "    print(a + b)"
   ]
  },
  {
   "cell_type": "code",
   "execution_count": null,
   "metadata": {},
   "outputs": [],
   "source": [
    "a = 15 \n",
    "if a == 12: \n",
    "    print('finished')\n",
    "elif a != 15:\n",
    "    print('not work')\n",
    "elif a > 20: \n",
    "    print('worked')\n",
    "elif a <= 16:\n",
    "    print('.')\n",
    "else:\n",
    "    print('did not work') "
   ]
  },
  {
   "cell_type": "code",
   "execution_count": null,
   "metadata": {},
   "outputs": [],
   "source": [
    "a = 1\n",
    "a == True"
   ]
  },
  {
   "cell_type": "code",
   "execution_count": null,
   "metadata": {},
   "outputs": [],
   "source": [
    "a =int(input('Enter a number:'))\n",
    "if a == 5:\n",
    "    print('right')\n",
    "else:\n",
    "    print('guess again') "
   ]
  },
  {
   "cell_type": "code",
   "execution_count": null,
   "metadata": {},
   "outputs": [],
   "source": [
    "def guessing_game(b): \n",
    "    a = int(input('enter number:'))\n",
    "    if a > b:\n",
    "    \n",
    "        print('too high')\n",
    "        return guessing_game(b)\n",
    "    elif a < b:\n",
    "        print('too low:')\n",
    "        return guessing_game(b)\n",
    "    else:\n",
    "        print('correct:')\n",
    "    \n",
    "guessing_game(15)"
   ]
  },
  {
   "cell_type": "code",
   "execution_count": null,
   "metadata": {},
   "outputs": [],
   "source": [
    "string2 = \"don't forget this\"\n",
    "for charater in string2 [:: -1]:\n",
    "    print(charater)"
   ]
  },
  {
   "cell_type": "code",
   "execution_count": null,
   "metadata": {},
   "outputs": [],
   "source": [
    "name = \"no lemon, no melon\"\n",
    "name = name.replace(' ','')\n",
    "name1 = name[::-1]\n",
    "if  name == name1:\n",
    "    print(\"True\")"
   ]
  },
  {
   "cell_type": "code",
   "execution_count": null,
   "metadata": {},
   "outputs": [],
   "source": [
    "for charater in name,name1[0::]:\n",
    "    print(charater)"
   ]
  },
  {
   "cell_type": "code",
   "execution_count": 44,
   "metadata": {},
   "outputs": [
    {
     "name": "stdout",
     "output_type": "stream",
     "text": [
      "it is a palindrome\n"
     ]
    }
   ],
   "source": [
    "string = \"no lemon, no melon\"\n",
    "# removing undesired characters \n",
    "string = string.replace(' ','')\n",
    "string = string.lower()\n",
    "#strating the pointers\n",
    "left = 0\n",
    "right = len(string)-1\n",
    "#checking the string for palidrome\n",
    "while left < right:\n",
    "    if string[left] != string[right]:\n",
    "        print('it is not a palindrome')\n",
    "        break\n",
    "    left += 1\n",
    "    right -= 1\n",
    "    if left >= right:\n",
    "        print('it is a palindrome')"
   ]
  },
  {
   "cell_type": "code",
   "execution_count": 63,
   "metadata": {},
   "outputs": [
    {
     "name": "stdout",
     "output_type": "stream",
     "text": [
      "yes\n"
     ]
    }
   ],
   "source": [
    "def palindrome_check(palindrome):\n",
    "#name of the function\n",
    "    string = palindrome\n",
    "    # removing undesired characters \n",
    "    string = string.replace(' ','')\n",
    "    string = string.lower()\n",
    "    #strating the pointers\n",
    "    left = 0\n",
    "    right = len(string)-1\n",
    "    #checking the string for palidrome\n",
    "    while left < right:\n",
    "        if string[left] != string[right]:\n",
    "            return \"no\"\n",
    "        left += 1\n",
    "        right -= 1\n",
    "        if left >= right:\n",
    "            return \"yes\"\n",
    "a= palindrome_check('no lemon, no melon')\n",
    "print(a)"
   ]
  },
  {
   "cell_type": "code",
   "execution_count": 64,
   "metadata": {},
   "outputs": [
    {
     "data": {
      "text/plain": [
       "6"
      ]
     },
     "execution_count": 64,
     "metadata": {},
     "output_type": "execute_result"
    }
   ],
   "source": [
    "def sum_of_numbers(num1,num2):\n",
    "#name of the fuction\n",
    "    return num1 + num2\n",
    "#telling it to add the numbers\n",
    "sum_of_numbers(2,4)"
   ]
  }
 ],
 "metadata": {
  "kernelspec": {
   "display_name": "Python 3",
   "language": "python",
   "name": "python3"
  },
  "language_info": {
   "codemirror_mode": {
    "name": "ipython",
    "version": 3
   },
   "file_extension": ".py",
   "mimetype": "text/x-python",
   "name": "python",
   "nbconvert_exporter": "python",
   "pygments_lexer": "ipython3",
   "version": "3.11.9"
  }
 },
 "nbformat": 4,
 "nbformat_minor": 2
}
