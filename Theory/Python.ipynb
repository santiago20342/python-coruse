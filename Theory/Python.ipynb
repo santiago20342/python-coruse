{
 "cells": [
  {
   "cell_type": "code",
   "execution_count": 1,
   "metadata": {},
   "outputs": [],
   "source": [
    "def sum(a,b):\n",
    "    c = a + b\n",
    "    return c"
   ]
  },
  {
   "cell_type": "code",
   "execution_count": 2,
   "metadata": {},
   "outputs": [
    {
     "name": "stdout",
     "output_type": "stream",
     "text": [
      "15.5\n"
     ]
    }
   ],
   "source": [
    "print(sum(10,5.5))"
   ]
  },
  {
   "cell_type": "code",
   "execution_count": 3,
   "metadata": {},
   "outputs": [
    {
     "name": "stdout",
     "output_type": "stream",
     "text": [
      "9.0\n",
      "5.0\n",
      "3.5\n",
      "14.0\n"
     ]
    }
   ],
   "source": [
    "a = float(input('Enter a number:'))\n",
    "b = float(input('Enter a number:'))\n",
    "print(a + b)\n",
    "print(a - b)\n",
    "print(a / b)\n",
    "print(a * b)"
   ]
  },
  {
   "cell_type": "code",
   "execution_count": 4,
   "metadata": {},
   "outputs": [
    {
     "name": "stdout",
     "output_type": "stream",
     "text": [
      "10.0\n"
     ]
    }
   ],
   "source": [
    "a = 10 \n",
    "b = 5\n",
    "if a < 5:\n",
    "    print('finished')\n",
    "else:\n",
    "    a = a/2\n",
    "    print(a + b)"
   ]
  },
  {
   "cell_type": "code",
   "execution_count": 5,
   "metadata": {},
   "outputs": [
    {
     "name": "stdout",
     "output_type": "stream",
     "text": [
      ".\n"
     ]
    }
   ],
   "source": [
    "a = 15 \n",
    "if a == 12: \n",
    "    print('finished')\n",
    "elif a != 15:\n",
    "    print('not work')\n",
    "elif a > 20: \n",
    "    print('worked')\n",
    "elif a <= 16:\n",
    "    print('.')\n",
    "else:\n",
    "    print('did not work') "
   ]
  },
  {
   "cell_type": "code",
   "execution_count": 6,
   "metadata": {},
   "outputs": [
    {
     "data": {
      "text/plain": [
       "True"
      ]
     },
     "execution_count": 6,
     "metadata": {},
     "output_type": "execute_result"
    }
   ],
   "source": [
    "a = 1\n",
    "a == True"
   ]
  },
  {
   "cell_type": "code",
   "execution_count": 7,
   "metadata": {},
   "outputs": [
    {
     "name": "stdout",
     "output_type": "stream",
     "text": [
      "guess again\n"
     ]
    }
   ],
   "source": [
    "a =int(input('Enter a number:'))\n",
    "if a == 5:\n",
    "    print('right')\n",
    "else:\n",
    "    print('guess again') "
   ]
  },
  {
   "cell_type": "code",
   "execution_count": 1,
   "metadata": {},
   "outputs": [
    {
     "name": "stdout",
     "output_type": "stream",
     "text": [
      "correct:\n"
     ]
    }
   ],
   "source": [
    "def guessing_game(b): \n",
    "    a = int(input('enter number:'))\n",
    "    if a > b:\n",
    "    \n",
    "        print('too high')\n",
    "        return guessing_game(b)\n",
    "    elif a < b:\n",
    "        print('too low:')\n",
    "        return guessing_game(b)\n",
    "    else:\n",
    "        print('correct:')\n",
    "    \n",
    "guessing_game(15)"
   ]
  },
  {
   "cell_type": "code",
   "execution_count": null,
   "metadata": {},
   "outputs": [],
   "source": [
    "string2 = \"don't forget this\"\n",
    "for charater in string2 [:: -1]:\n",
    "    print(charater)"
   ]
  },
  {
   "cell_type": "code",
   "execution_count": null,
   "metadata": {},
   "outputs": [],
   "source": [
    "name = \"no lemon, no melon\"\n",
    "name = name.replace(' ','')\n",
    "name1 = name[::-1]\n",
    "if  name == name1:\n",
    "    print(\"True\")"
   ]
  },
  {
   "cell_type": "code",
   "execution_count": null,
   "metadata": {},
   "outputs": [],
   "source": [
    "for charater in name,name1[0::]:\n",
    "    print(charater)"
   ]
  },
  {
   "cell_type": "code",
   "execution_count": null,
   "metadata": {},
   "outputs": [],
   "source": [
    "string = \"no lemon, no melon\"\n",
    "# removing undesired characters \n",
    "string = string.replace(' ','')\n",
    "string = string.lower()\n",
    "#strating the pointers\n",
    "left = 0\n",
    "right = len(string)-1\n",
    "#checking the string for palidrome\n",
    "while left < right:\n",
    "    if string[left] != string[right]:\n",
    "        print('it is not a palindrome')\n",
    "        break\n",
    "    left += 1\n",
    "    right -= 1\n",
    "    if left >= right:\n",
    "        print('it is a palindrome')"
   ]
  },
  {
   "cell_type": "code",
   "execution_count": null,
   "metadata": {},
   "outputs": [],
   "source": [
    "def palindrome_check(palindrome):\n",
    "#name of the function\n",
    "    string = palindrome\n",
    "    # removing undesired characters \n",
    "    string = string.replace(' ','')\n",
    "    string = string.lower()\n",
    "    #strating the pointers\n",
    "    left = 0\n",
    "    right = len(string)-1\n",
    "    #checking the string for palidrome\n",
    "    while left < right:\n",
    "        if string[left] != string[right]:\n",
    "            return \"no\"\n",
    "        left += 1\n",
    "        right -= 1\n",
    "        if left >= right:\n",
    "            return \"yes\"\n",
    "a= palindrome_check('no lemon, no melon')\n",
    "print(a)"
   ]
  },
  {
   "cell_type": "code",
   "execution_count": null,
   "metadata": {},
   "outputs": [
    {
     "name": "stdout",
     "output_type": "stream",
     "text": [
      "6.696\n",
      "0.32851481379310343\n"
     ]
    }
   ],
   "source": [
    "#To be continued\n",
    "\n",
    "def Beer(n,p,o=11.16):\n",
    "    return(n*p*o)\n",
    "print(Beer(5,0.12))\n",
    "\n",
    "\n",
    "def BAC(a,w,r,h,):\n",
    "    bac= (a * 5.14 / w * r) - 0.015 * h\n",
    "    return(bac) \n",
    "\n",
    "print(BAC(Beer(12,0.15),174,0.68,5))   "
   ]
  },
  {
   "cell_type": "markdown",
   "metadata": {},
   "source": [
    "### Lambda Functions"
   ]
  },
  {
   "cell_type": "code",
   "execution_count": 5,
   "metadata": {},
   "outputs": [
    {
     "name": "stdout",
     "output_type": "stream",
     "text": [
      "25\n",
      "25\n",
      "50\n",
      "[1, 4, 9, 16, 25]\n",
      "[1, 4, 9, 16, 25]\n"
     ]
    }
   ],
   "source": [
    "# declaring a function for squaring a number\n",
    "def square_number(num):\n",
    "    return num * num\n",
    "\n",
    "print(square_number(5))\n",
    "\n",
    "# Example lambda function\n",
    "square = lambda x: x * x\n",
    "print(square(5))\n",
    "\n",
    "# Lambda function with multiple arguments\n",
    "multiply = lambda x, y: x * y\n",
    "print(multiply(5, 10))\n",
    "\n",
    "#lambda with for loop\n",
    "numbers = [1, 2, 3, 4, 5]\n",
    "squared_numbers = list(map(lambda x: x * x, numbers))\n",
    "print(squared_numbers)\n",
    "\n",
    "# the for loop equivalent\n",
    "squared_numbers = []\n",
    "for number in numbers:\n",
    "    squared_numbers.append(number * number)\n",
    "print(squared_numbers)\n",
    "# Lambda function with filter"
   ]
  },
  {
   "cell_type": "code",
   "execution_count": 1,
   "metadata": {},
   "outputs": [
    {
     "name": "stdout",
     "output_type": "stream",
     "text": [
      "Year: 2025, Capital: 2160.00, previous capital: 1000.00,interest earned: 160.00\n",
      "Year: 2026, Capital: 3412.80, previous capital: 2160.00,interest earned: 252.80\n",
      "Year: 2027, Capital: 4765.82, previous capital: 3412.80,interest earned: 353.02\n",
      "Year: 2028, Capital: 6227.09, previous capital: 4765.82,interest earned: 461.27\n",
      "Year: 2029, Capital: 7805.26, previous capital: 6227.09,interest earned: 578.17\n",
      "Year: 2030, Capital: 9509.68, previous capital: 7805.26,interest earned: 704.42\n",
      "Year: 2031, Capital: 11350.45, previous capital: 9509.68,interest earned: 840.77\n",
      "Year: 2032, Capital: 13338.49, previous capital: 11350.45,interest earned: 988.04\n",
      "Year: 2033, Capital: 15485.57, previous capital: 13338.49,interest earned: 1147.08\n",
      "Year: 2034, Capital: 17804.41, previous capital: 15485.57,interest earned: 1318.85\n",
      "Year: 2035, Capital: 20308.77, previous capital: 17804.41,interest earned: 1504.35\n",
      "Year: 2036, Capital: 23013.47, previous capital: 20308.77,interest earned: 1704.70\n",
      "Year: 2037, Capital: 25934.54, previous capital: 23013.47,interest earned: 1921.08\n",
      "Year: 2038, Capital: 29089.31, previous capital: 25934.54,interest earned: 2154.76\n",
      "Year: 2039, Capital: 32496.45, previous capital: 29089.31,interest earned: 2407.14\n",
      "Year: 2040, Capital: 36176.17, previous capital: 32496.45,interest earned: 2679.72\n",
      "Year: 2041, Capital: 40150.26, previous capital: 36176.17,interest earned: 2974.09\n",
      "Year: 2042, Capital: 44442.28, previous capital: 40150.26,interest earned: 3292.02\n",
      "Year: 2043, Capital: 49077.67, previous capital: 44442.28,interest earned: 3635.38\n",
      "Year: 2044, Capital: 54083.88, previous capital: 49077.67,interest earned: 4006.21\n",
      "Year: 2045, Capital: 59490.59, previous capital: 54083.88,interest earned: 4406.71\n"
     ]
    }
   ],
   "source": [
    "#compound interest calculation\n",
    "capital = 1000\n",
    "interest_rate = 0.08\n",
    "counter = 1\n",
    "previous_capital = capital\n",
    "extra_year_investment = 1000\n",
    "for year in range(2025, 2046):\n",
    "    new_capital = (previous_capital+extra_year_investment)*(1+interest_rate)\n",
    "    print(f'Year: {year}, Capital: {new_capital:.2f}, previous capital: {previous_capital:.2f},interest earned: {new_capital-previous_capital-extra_year_investment:.2f}')\n",
    "    previous_capital = new_capital"
   ]
  },
  {
   "cell_type": "code",
   "execution_count": 5,
   "metadata": {},
   "outputs": [
    {
     "data": {
      "text/plain": [
       "{}"
      ]
     },
     "execution_count": 5,
     "metadata": {},
     "output_type": "execute_result"
    }
   ],
   "source": [
    "#tuple vs list\n",
    "my_list = [1, 2, 3, 4, 5]\n",
    "a = {}\n",
    "my_tuple = (1, a, 3, 4, 5)\n",
    "\n",
    "my_tuple[1]"
   ]
  }
 ],
 "metadata": {
  "kernelspec": {
   "display_name": "finance",
   "language": "python",
   "name": "python3"
  },
  "language_info": {
   "codemirror_mode": {
    "name": "ipython",
    "version": 3
   },
   "file_extension": ".py",
   "mimetype": "text/x-python",
   "name": "python",
   "nbconvert_exporter": "python",
   "pygments_lexer": "ipython3",
   "version": "3.13.2"
  }
 },
 "nbformat": 4,
 "nbformat_minor": 2
}
