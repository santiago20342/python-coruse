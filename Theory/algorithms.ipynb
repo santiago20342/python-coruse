{
 "cells": [
  {
   "cell_type": "markdown",
   "id": "607691e8",
   "metadata": {},
   "source": [
    "# Algorithms"
   ]
  },
  {
   "cell_type": "markdown",
   "id": "06251602",
   "metadata": {},
   "source": [
    "Algorithms is a set of step to complet a task"
   ]
  },
  {
   "cell_type": "markdown",
   "id": "8a558807",
   "metadata": {},
   "source": [
    "## 1. Algorithmic Thinking"
   ]
  },
  {
   "cell_type": "markdown",
   "id": "194d5909",
   "metadata": {},
   "source": [
    "Step 1 Understand what the question is asking.<br> \n",
    "Step 2 Make sure you know what are the limits of the question.<br>\n",
    "step 3 Break down the problem into smaller prombles.<br>\n",
    "Step 4 Your code must be in speific set of steps in a particular order if not then code would not run correctly.<br>\n",
    "Step 5 Each step in my code must not be a complex(which means can not be broken down into more steps) and needs to explicitly clear   and be easy to understand.<br>\n",
    "Step 6 Should have a reasult.<br>\n",
    "Step 7 Should be able to run at a good speed.<br>"
   ]
  },
  {
   "cell_type": "markdown",
   "id": "8ed2d59e",
   "metadata": {},
   "source": [
    "<h1> 1.Algorithms Seach<h1>"
   ]
  },
  {
   "cell_type": "markdown",
   "id": "e4e48c55",
   "metadata": {},
   "source": [
    "There are 2 types of Algorithm search One is liner search and other is binary search.<br> \n",
    "\n",
    "Liner search<br>\n",
    "liner search is when you start at beginning of a range of values then you compara the  current value to the target if it is the same you done, but it is not the move you 1 by 1 in the range till you find the target, if we reach the end of the range then the target is not in the range.<br>\n",
    "\n",
    "Binary search<br>\n",
    "Binary search is when you start at the middle of the range, and then depending on if the target value is higher or lower than the current value, it will help you eliminate the bottom half of the range or the top half of the range, and then you keep choosing the middle value of the new range until you get the target. This only works if the date is sorted.<br>\n",
    "To find worst case Scenario is log of n + 1<br>\n"
   ]
  },
  {
   "cell_type": "markdown",
   "id": "f8dcdc37",
   "metadata": {},
   "source": [
    "## Big O "
   ]
  },
  {
   "cell_type": "markdown",
   "id": "a66be82a",
   "metadata": {},
   "source": [
    "Big O notation is O(n)<br>\n",
    "O come form Order of size of complexity.<br>\n",
    "Complexity is relative, that mean we check with some algorithms not all of them.<br>\n",
    "Big O is usfuel to comepara time and space complexity but only when algorithms can solve the same the Problem.<br> \n",
    "Big O masseuse the complexity as the input size grows.<br>\n",
    "O(n) is linear complexity.<br>\n",
    "O(log n) is logic complexity.<br>\n",
    "O(n^2) is quadratic complexity.<br>\n",
    "O(1) is constant complexity.<br>\n",
    "O(n log n) is Quasilinear.<br>   \n",
    "O(x^n) is exponetial.<br>\n",
    "O(n!) is factorial ex is 4! = 4x3x2x1 = 24 <br>"
   ]
  },
  {
   "cell_type": "code",
   "execution_count": null,
   "id": "433327cb",
   "metadata": {},
   "outputs": [
    {
     "name": "stdout",
     "output_type": "stream",
     "text": [
      "Target not found in list\n",
      "Target found at index:  4\n"
     ]
    }
   ],
   "source": [
    "##Linear_search\n",
    "def linear_search(list,target):\n",
    "    '''\n",
    "    Returns the index of the target value if found, else returns None\n",
    "    '''\n",
    "    # len(list) is a constant time complexity\n",
    "    for i in range(0, len(list)):\n",
    "        if list[i] == target:\n",
    "            return i \n",
    "    return None\n",
    "\n",
    "def verify(index):\n",
    "    if index is not None:\n",
    "        print (\"Target found at index: \",index)\n",
    "    else:\n",
    "        print (\"Target not found in list\")\n",
    "numbers = [1,2,3,4,5,6,7,8,9,10]\n",
    "\n",
    "result = linear_search(numbers, 12)\n",
    "verify(result)\n",
    "\n",
    "result = linear_search(numbers, 5)\n",
    "verify(result)\n",
    "\n"
   ]
  },
  {
   "cell_type": "code",
   "execution_count": 9,
   "id": "b7edfc82",
   "metadata": {},
   "outputs": [
    {
     "name": "stdout",
     "output_type": "stream",
     "text": [
      "Target not found in list\n",
      "Target found at index:  5\n"
     ]
    }
   ],
   "source": [
    "#Binary search\n",
    "\n",
    "def binary_search(list, target):\n",
    "    first = 0\n",
    "    last = len(list) - 1\n",
    "\n",
    "    while first <= last:\n",
    "        midpoint = (first + last)//2\n",
    "\n",
    "        if list[midpoint] == target:\n",
    "            return midpoint\n",
    "        elif list[midpoint] < target:\n",
    "            first = midpoint + 1\n",
    "        else:\n",
    "            last = midpoint - 1\n",
    "\n",
    "    return None\n",
    "\n",
    "def verify(index):\n",
    "    if index is not None:\n",
    "        print (\"Target found at index: \",index)\n",
    "    else:\n",
    "        print (\"Target not found in list\")\n",
    "numbers = [1,2,3,4,5,6,7,8,9,10]\n",
    "\n",
    "result = binary_search(numbers, 12)\n",
    "verify(result)\n",
    "\n",
    "result = binary_search(numbers, 6)\n",
    "verify(result)"
   ]
  },
  {
   "cell_type": "code",
   "execution_count": null,
   "id": "0df8bf40",
   "metadata": {},
   "outputs": [
    {
     "name": "stdout",
     "output_type": "stream",
     "text": [
      "Target found: False\n",
      "Target found: True\n"
     ]
    }
   ],
   "source": [
    "#Recursive_binary_search\n",
    "\n",
    "def recursive_binary_search(list,target):\n",
    "    if len(list) == 0:\n",
    "        return False\n",
    "    else:\n",
    "        midpoint = (len(list))//2\n",
    "\n",
    "        if list[midpoint] == target:\n",
    "            return True\n",
    "        else:\n",
    "            if list[midpoint] < target:\n",
    "                return recursive_binary_search(list[midpoint + 1:], target)\n",
    "            else:\n",
    "                return recursive_binary_search(list[:midpoint],target)\n",
    "            \n",
    "def verify(result):\n",
    "    print(\"Target found:\" ,result)\n",
    "\n",
    "numbers = [1,2,3,4,5,6,7,8]\n",
    "result = recursive_binary_search(numbers, 12)\n",
    "verify(result)\n",
    "\n",
    "result = recursive_binary_search(numbers, 6)\n",
    "verify(result)\n",
    "\n"
   ]
  }
 ],
 "metadata": {
  "kernelspec": {
   "display_name": "finance",
   "language": "python",
   "name": "python3"
  },
  "language_info": {
   "codemirror_mode": {
    "name": "ipython",
    "version": 3
   },
   "file_extension": ".py",
   "mimetype": "text/x-python",
   "name": "python",
   "nbconvert_exporter": "python",
   "pygments_lexer": "ipython3",
   "version": "3.13.3"
  }
 },
 "nbformat": 4,
 "nbformat_minor": 5
}
