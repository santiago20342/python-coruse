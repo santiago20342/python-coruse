{
 "cells": [
  {
   "cell_type": "markdown",
   "id": "607691e8",
   "metadata": {},
   "source": [
    "# Algorithms"
   ]
  },
  {
   "cell_type": "markdown",
   "id": "8a558807",
   "metadata": {},
   "source": [
    "## 1. Algorithmic Trading"
   ]
  },
  {
   "cell_type": "code",
   "execution_count": null,
   "id": "3ca1cdaf",
   "metadata": {
    "vscode": {
     "languageId": "plaintext"
    }
   },
   "outputs": [],
   "source": []
  }
 ],
 "metadata": {
  "language_info": {
   "name": "python"
  }
 },
 "nbformat": 4,
 "nbformat_minor": 5
}
