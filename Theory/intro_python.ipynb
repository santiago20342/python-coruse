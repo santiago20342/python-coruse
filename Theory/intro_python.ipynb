{
 "cells": [
  {
   "cell_type": "markdown",
   "metadata": {},
   "source": [
    "# Introduction to Programming with Python"
   ]
  },
  {
   "cell_type": "markdown",
   "metadata": {},
   "source": [
    "## The Pillars of Computer Science\n",
    "The 4 concepts/areas of knowledge in which any issue in computer science fall onto\n",
    "1. Programming Languages: the way in which we give instructions to computers.\n",
    "2. Computer Architecture: the physical components of computers and how they relate to each other. \n",
    "3. Algorithms: Step-by-step instructions to solve a problem.\n",
    "4. Operating Systems: fundamental software that connects and manages the hardware of the computer. "
   ]
  },
  {
   "cell_type": "markdown",
   "metadata": {},
   "source": [
    "## 1. Programming Languages: Python"
   ]
  },
  {
   "cell_type": "markdown",
   "metadata": {},
   "source": [
    "### 1.1 Variables, Data Types and Basic Operations"
   ]
  },
  {
   "cell_type": "code",
   "execution_count": null,
   "metadata": {},
   "outputs": [],
   "source": [
    "# Variables and Assignment\n",
    "x = 5\n",
    "y = 'lol'\n",
    "z = {'key': 'value'}\n",
    "p = (x, y)\n",
    "q = [1, 2, 3]\n",
    "r = {1,2,3}\n",
    "a = True\n",
    "b = 3.14"
   ]
  },
  {
   "cell_type": "code",
   "execution_count": null,
   "metadata": {},
   "outputs": [],
   "source": [
    "# Basic Data Types: `int`, `float`, `str`, `bool`, `list`, `tuple`, `dict`, 'set'\n",
    "print(type(x))#Integer is a whole number, discrete (without decimals)\n",
    "print(type(y))#Characters and can be anything but will behave like 'string' or 'text';\n",
    "              #numbers can be used as strings, but will no behave like numbers: HEX html (encoding colors with numbes) #FF0001112\n",
    "              #numbers can also be used to store information #like phone numbers, zip codes, etc.\n",
    "print(type(z))#Dictionary is a collection of key-value pairs, where each key is unique\n",
    "print(type(p))#Tuple is an ordered collection of elements, similar to a list, but immutable (cannot be changed)\n",
    "print(type(q))#List is an ordered collection of elements, which can be changed (mutable)\n",
    "print(type(r))#Set is an unordered collection of unique elements, which can be changed (mutable)\n",
    "print(type(a))#Boolean is a binary value, either True or False\n",
    "print(type(b))#Float is a number that can have decimal points"
   ]
  },
  {
   "cell_type": "code",
   "execution_count": null,
   "metadata": {},
   "outputs": [],
   "source": [
    "# Arithmetic Operators: `+`, `-`, `*`, `/`, `%`,'**', '//'\n",
    "x = 10\n",
    "y = 7 \n",
    "z = 220\n",
    "print(x + y)# Adds the numbers together \n",
    "print(x - z)# Substars the numbers \n",
    "print(z / y)# Divides the numbers \n",
    "print(x * z)# Multipliy the numbers\n",
    "print(220 % y)# Divides the numbers and returns the remainder(can be used to chekc odd or even)\n",
    "print(y ** x)# Power of the second number to the first number\n",
    "print(y // z)# Divides the numbers and rounds it down if it is a float\n",
    "#how // works\n",
    "numbers  = (list(range(0,11)))\n",
    "for number in numbers:\n",
    "    print(number,number/10,number // 10)"
   ]
  },
  {
   "cell_type": "code",
   "execution_count": null,
   "metadata": {},
   "outputs": [],
   "source": [
    "# String manipulation: concatenation, string formatting\n",
    "# define a string \n",
    "my_string = \"hello world\"\n",
    "# slice a string\n",
    "word1 = my_string[:5]\n",
    "print(word1)\n",
    "str_list = my_string.split()\n",
    "print(str_list[0])\n",
    "word1,word2= my_string.split()\n",
    "print(word1)\n",
    "print(word2)\n",
    "\n",
    "#If you try this there will be an error\n",
    "# string = \"hello word my\"\n",
    "# word1,word2= string.split()\n",
    "# print(word1)\n",
    "# print(word2)\n",
    "\n",
    "# multiply a string by a number\n",
    "x = my_string * 3\n",
    "print(x)\n",
    "# use a for to iterate over a string\n",
    "for character in my_string:\n",
    "    print(character * 4)"
   ]
  },
  {
   "cell_type": "code",
   "execution_count": null,
   "metadata": {},
   "outputs": [],
   "source": [
    "# replace method\n",
    "replace_string = my_string.replace(\"e\",str(3))\n",
    "print(replace_string)\n",
    "# reverse a string\n",
    "reversed_string = my_string[:5:-1]\n",
    "print(reversed_string)\n",
    "\n",
    "reversed_string = my_string[4::-1]\n",
    "print(reversed_string)\n",
    "\n",
    "reversed_string_1 = my_string[-7::-1]\n",
    "print(reversed_string_1)\n",
    "# capitalize a string\n",
    "string_upper = my_string.upper()\n",
    "print(string_upper)\n",
    "# make the string lower case\n",
    "string_lower = string_upper.lower()\n",
    "print(string_lower)\n",
    "# paste two strings together\n",
    "together_string = string_upper + ' '  + string_lower\n",
    "print(together_string)"
   ]
  },
  {
   "cell_type": "code",
   "execution_count": null,
   "metadata": {},
   "outputs": [],
   "source": [
    "# User input with `input()`\n",
    "#assign a variable to the input\n",
    "\n",
    "user_input = input('Please enter something: ')\n",
    "print(\"You entered:\", user_input)\n",
    "print(\"Type of input:\", type(user_input))\n",
    "try:\n",
    "    user_input = int(user_input)\n",
    "    print('Square of number:', user_input ** 2)\n",
    "except:\n",
    "    print('Invalid input. Please enter a number.')"
   ]
  },
  {
   "cell_type": "code",
   "execution_count": null,
   "metadata": {},
   "outputs": [],
   "source": [
    "name_input = input(\"Please enter your name\")\n",
    "print(type(name_input))\n",
    "for letter in name_input:\n",
    "    print(letter.upper()*2)    \n",
    "reverse_name_input = name_input[::-1]\n",
    "for reverse_letter in reverse_name_input:\n",
    "    print(reverse_letter.upper()*2)\n",
    "print(len(reverse_name_input))\n",
    "print(len(name_input))\n"
   ]
  },
  {
   "cell_type": "markdown",
   "metadata": {},
   "source": [
    "### 1.2 Control Flow"
   ]
  },
  {
   "cell_type": "markdown",
   "metadata": {},
   "source": [
    "Control flow refers to the <b>order</b> in which individual instructions, statements, or function calls <u>are executed or evaluated in a program</u>.\n",
    "\n",
    "In Python (and most programming languages), code is usually executed top to bottom, one line at a time. \n",
    "\n",
    "However, control flow structures allow you to:\n",
    "<ul>\n",
    "<li>Make decisions using conditionals like if, elif, and else.\n",
    "<li>Repeat actions using loops like for and while.\n",
    "</ul>\n",
    "\n",
    "\n",
    "These tools let you write programs that can react to different inputs, handle multiple scenarios, and automate repetitive tasks"
   ]
  },
  {
   "cell_type": "markdown",
   "metadata": {},
   "source": [
    "#### 1.2.1 Conditionals: If, Elif and Else"
   ]
  },
  {
   "cell_type": "markdown",
   "metadata": {},
   "source": [
    "Conditionals are programming statements that allow your program to make decisions.\n",
    "They let you execute certain blocks of code only if specific conditions are true — like answering “yes” or “no” questions inside your program."
   ]
  },
  {
   "cell_type": "code",
   "execution_count": null,
   "metadata": {},
   "outputs": [],
   "source": [
    "# Using the input function + the if statement\n",
    "input_number1 = input(\"Enter number\")\n",
    "input_number2 = input(\"Enter number\")\n",
    "input_letter = input(\"Enter a or b or c or d\")\n",
    "if input_letter == \"a\":\n",
    "    print(int(input_number1)+int(input_number2))\n",
    "if input_letter == \"b\":\n",
    "    print(int(input_number1)-int(input_number2))\n",
    "if input_letter == \"c\":\n",
    "    print(int(input_number1)*int(input_number2))\n",
    "if input_letter == \"d\":\n",
    "    print(int(input_number1)/int(input_number2))"
   ]
  },
  {
   "cell_type": "code",
   "execution_count": null,
   "metadata": {},
   "outputs": [],
   "source": [
    "# if + else statement\n",
    "#write code to print a password as asterisks or the real string based on a condition\n",
    "target = 5\n",
    "input_guess = int(input(\"Guess a number (1-10):\"))\n",
    "if input_guess == target:\n",
    "    print(\"Correct! The number is\", target)\n",
    "else:\n",
    "    print(\"Incorrect! Try again.\")"
   ]
  },
  {
   "cell_type": "code",
   "execution_count": null,
   "metadata": {},
   "outputs": [],
   "source": [
    "#if + elif + else statement\n",
    "input_bmi = float(input(\"Enter your BMI: \"))\n",
    "\n",
    "if input_bmi <= 18.9:\n",
    "    print(\"Underweight\")\n",
    "elif input_bmi < 24.9:\n",
    "    print(\"Normal weight\")\n",
    "elif input_bmi < 29.9:\n",
    "    print(\"Overweight\")\n",
    "else:\n",
    "    print(\"Obesity\")\n",
    "    "
   ]
  },
  {
   "cell_type": "code",
   "execution_count": 8,
   "metadata": {},
   "outputs": [
    {
     "name": "stdout",
     "output_type": "stream",
     "text": [
      "!\n"
     ]
    }
   ],
   "source": [
    "#Take the input from user and check if it is a number, a vowel or something else\n",
    "number = ['1','2','3','4','5','6','7','8','9']\n",
    "vowel = ['a','e','i','o','u']\n",
    "user_input = input(\"enter something\")\n",
    "if user_input in number:\n",
    "    print(\"number\",user_input)\n",
    "elif user_input in vowel:\n",
    "    print(\"vowel\",user_input)\n",
    "else:\n",
    "    print(user_input)"
   ]
  },
  {
   "cell_type": "markdown",
   "metadata": {},
   "source": [
    "#### 1.2.2 For Loops"
   ]
  },
  {
   "cell_type": "markdown",
   "metadata": {},
   "source": [
    "A for loop is a control flow structure that lets you repeat a block of code for each item in a sequence (like a list, string, or range of numbers).\n",
    "\n",
    "Definition:\n",
    "A for loop is used to iterate over a sequence and execute code once for each item in that sequence."
   ]
  },
  {
   "cell_type": "code",
   "execution_count": 1,
   "metadata": {},
   "outputs": [
    {
     "name": "stdout",
     "output_type": "stream",
     "text": [
      "0\n",
      "2\n",
      "4\n",
      "6\n",
      "8\n",
      "10\n",
      "12\n",
      "14\n",
      "16\n",
      "18\n",
      "20\n",
      "[1, 4, 9, 16, 25]\n"
     ]
    }
   ],
   "source": [
    "#This are the main uses of for loop but they can be used in othoer ways such to Automate things \n",
    "#For loop can be used to iterate a (list, dictionary ,tuple) into individual elements.\n",
    "#You can perform operations continuously as long as it is running inside a for loop such printing number for 1 to 100 or send a message 100 times.\n",
    "\n",
    "#example 1: Print all even numbers from 0 to 20\n",
    "for number in range(0, 21):\n",
    "    if number % 2 == 0:\n",
    "        print(number)\n",
    "\n",
    "#example 2: transform a list of numbers to their squares\n",
    "numbers = [1, 2, 3, 4, 5]\n",
    "for i, num in enumerate(numbers):\n",
    "    numbers[i] = num ** 2\n",
    "\n",
    "print(numbers)  "
   ]
  },
  {
   "cell_type": "code",
   "execution_count": 33,
   "metadata": {},
   "outputs": [
    {
     "name": "stdout",
     "output_type": "stream",
     "text": [
      "1\n",
      "2\n",
      "6\n",
      "24\n",
      "120\n",
      "720\n",
      "5040\n",
      "40320\n",
      "362880\n"
     ]
    }
   ],
   "source": [
    "#Factorial n! \n",
    "#4! = 4 * 3 * 2 * 1 = 24\n",
    "#Calculate factorial of a number using a for loop + Input\n",
    "sum = 1\n",
    "factorial_list = list(range(1,int(input(\"number\") )+1))\n",
    "for number in factorial_list:\n",
    "    sum = sum * number\n",
    "    print(sum)"
   ]
  },
  {
   "cell_type": "markdown",
   "metadata": {},
   "source": [
    "#### 1.2.3 While Loops"
   ]
  },
  {
   "cell_type": "markdown",
   "metadata": {},
   "source": [
    "A while loop is a control flow structure that repeats a block of code as long as a condition remains True.\n",
    "\n",
    "Definition:\n",
    "A while loop keeps running until its condition becomes False. It's useful when you don't know in advance how many times you'll need to repeat something."
   ]
  },
  {
   "cell_type": "code",
   "execution_count": null,
   "metadata": {},
   "outputs": [
    {
     "name": "stdout",
     "output_type": "stream",
     "text": [
      "0\n",
      "1\n",
      "2\n",
      "3\n",
      "4\n",
      "5\n",
      "Count reached: 6\n"
     ]
    }
   ],
   "source": [
    "#While loop checks a Bool statement and run when it is true.\n",
    "#A while run is when the Conditionn is true, until the Conditionn is met(False), it will keep on looping.\n",
    "# Example of a while loop: print numbers uo to the given input\n",
    "given_input = int(input(\"Enter a number: \"))\n",
    "count = 0\n",
    "while count < given_input:\n",
    "    print(count)\n",
    "    count += 1\n",
    "print(\"Count reached:\", count) #this will print after the while loop is done"
   ]
  },
  {
   "cell_type": "code",
   "execution_count": 17,
   "metadata": {},
   "outputs": [
    {
     "name": "stdout",
     "output_type": "stream",
     "text": [
      "Too high!\n",
      "Too high!\n",
      "Too low!\n",
      "Too high!\n",
      "Too low!\n",
      "Too low!\n",
      "Congratulations! You guessed the number: 17\n"
     ]
    }
   ],
   "source": [
    "# guess the number game\n",
    "import random\n",
    "number_to_guess = random.randint(1, 100)\n",
    "guess = int(input(\"Guess a number between 1 and 100: \"))\n",
    "\n",
    "while guess != number_to_guess: \n",
    "    if guess < number_to_guess:\n",
    "        print(\"Too low!\")\n",
    "    else:\n",
    "        print(\"Too high!\")\n",
    "    guess = int(input(\"Try again: \"))\n",
    "\n",
    "\n",
    "print(\"Congratulations! You guessed the number:\", number_to_guess)"
   ]
  },
  {
   "cell_type": "code",
   "execution_count": null,
   "metadata": {},
   "outputs": [
    {
     "name": "stdout",
     "output_type": "stream",
     "text": [
      "[0, 1]\n",
      "[0, 1, 1]\n",
      "[0, 1, 1, 2]\n",
      "[0, 1, 1, 2, 3]\n",
      "[0, 1, 1, 2, 3, 5]\n",
      "[0, 1, 1, 2, 3, 5, 8]\n",
      "[0, 1, 1, 2, 3, 5, 8, 13]\n",
      "[0, 1, 1, 2, 3, 5, 8, 13, 21]\n",
      "[0, 1, 1, 2, 3, 5, 8, 13, 21, 34]\n",
      "[0, 1, 1, 2, 3, 5, 8, 13, 21, 34, 55]\n",
      "[0, 1, 1, 2, 3, 5, 8, 13, 21, 34, 55, 89]\n",
      "[0, 1, 1, 2, 3, 5, 8, 13, 21, 34, 55, 89, 144]\n",
      "[0, 1, 1, 2, 3, 5, 8, 13, 21, 34, 55, 89, 144, 233]\n",
      "[0, 1, 1, 2, 3, 5, 8, 13, 21, 34, 55, 89, 144, 233, 377]\n",
      "[0, 1, 1, 2, 3, 5, 8, 13, 21, 34, 55, 89, 144, 233, 377, 610]\n",
      "[0, 1, 1, 2, 3, 5, 8, 13, 21, 34, 55, 89, 144, 233, 377, 610, 987]\n",
      "[0, 1, 1, 2, 3, 5, 8, 13, 21, 34, 55, 89, 144, 233, 377, 610, 987, 1597]\n",
      "[0, 1, 1, 2, 3, 5, 8, 13, 21, 34, 55, 89, 144, 233, 377, 610, 987, 1597, 2584]\n",
      "[0, 1, 1, 2, 3, 5, 8, 13, 21, 34, 55, 89, 144, 233, 377, 610, 987, 1597, 2584, 4181]\n",
      "[0, 1, 1, 2, 3, 5, 8, 13, 21, 34, 55, 89, 144, 233, 377, 610, 987, 1597, 2584, 4181, 6765]\n"
     ]
    }
   ],
   "source": [
    "# calculate the golden ratio with a while loop\n",
    "golden_list  = [0,1]\n",
    "length = int(input(\"number\"))\n",
    "while len(golden_list) <= length:\n",
    "    print(golden_list)\n",
    "    number = golden_list[-2] + golden_list[-1]\n",
    "    golden_list.append(number)"
   ]
  },
  {
   "cell_type": "code",
   "execution_count": 51,
   "metadata": {},
   "outputs": [
    {
     "name": "stdout",
     "output_type": "stream",
     "text": [
      "{'s': 1, 'a': 2, 'n': 1, 't': 1, 'i': 1, 'g': 1, 'o': 1}\n"
     ]
    }
   ],
   "source": [
    "#count the characters in a string (input) -> return a dictionary with each character and its count\n",
    "#ex: 'lol' -> {'l': 2, 'o': 1}\n",
    "count = {}\n",
    "string = input(\"string\")\n",
    "while len(string) != 0:\n",
    "    # print(string[0])\n",
    "    if string[0] in count:\n",
    "            count[string[0]] += 1\n",
    "    else:\n",
    "        count[string[0]] = 1\n",
    "    string = string[1:]\n",
    "print(count)"
   ]
  },
  {
   "cell_type": "code",
   "execution_count": 60,
   "metadata": {},
   "outputs": [
    {
     "name": "stdout",
     "output_type": "stream",
     "text": [
      "['s', 'a', 'n', 't', 'i', 'a', 'g', 'o']\n",
      "{'s': 1, 'a': 2, 'n': 1, 't': 1, 'i': 1, 'g': 1, 'o': 1}\n"
     ]
    }
   ],
   "source": [
    "count = {}\n",
    "string = list(input(\"string\"))\n",
    "print(string)\n",
    "for letter in string:\n",
    "    if letter in count:\n",
    "        count[letter] += 1\n",
    "    else:\n",
    "        count[letter] = 1\n",
    "print(count)"
   ]
  },
  {
   "cell_type": "markdown",
   "metadata": {},
   "source": [
    "#### 1.2.4 Exercises"
   ]
  },
  {
   "cell_type": "code",
   "execution_count": 20,
   "metadata": {},
   "outputs": [
    {
     "name": "stdout",
     "output_type": "stream",
     "text": [
      "['s', 'a', 'n', 't', 'i', 'a', 'g', 'o']\n",
      "['o', 'g', 'a', 'i', 't', 'n', 'a', 's']\n",
      "s\n",
      "o\n",
      "a\n",
      "g\n",
      "n\n",
      "a\n",
      "t\n",
      "i\n",
      "i\n",
      "t\n",
      "a\n",
      "n\n",
      "g\n",
      "a\n",
      "o\n",
      "s\n"
     ]
    }
   ],
   "source": [
    "# print a string with a while loop\n",
    "#1. make a string input\n",
    "#2. make a value to track the index \n",
    "#3. make a while loop condition\n",
    "#4. print the first letter of the string\n",
    "#5. increase the index by 1 to move the letter by one   \n",
    "string = list(input(\"Enter string\"))\n",
    "index  = len(string)-1 \n",
    "reversed_string = string[::-1]\n",
    "reversed_index = len(reversed_string)-1\n",
    "print(string)\n",
    "print(reversed_string)\n",
    "while len(string) > 0:\n",
    "    print(string[0])\n",
    "    string.pop(0)\n",
    "    print(reversed_string[0])\n",
    "    reversed_string.pop(0)"
   ]
  },
  {
   "cell_type": "code",
   "execution_count": null,
   "metadata": {},
   "outputs": [
    {
     "name": "stdout",
     "output_type": "stream",
     "text": [
      "s\n",
      "a\n",
      "n\n",
      "t\n",
      "i\n"
     ]
    }
   ],
   "source": [
    "string = \"santi\"\n",
    "index  = 0 \n",
    "while index <= len(string)-1:\n",
    "    print(string[index])\n",
    "    index  = index + 1"
   ]
  },
  {
   "cell_type": "code",
   "execution_count": null,
   "metadata": {},
   "outputs": [
    {
     "name": "stdout",
     "output_type": "stream",
     "text": [
      "i\n",
      "t\n",
      "n\n",
      "a\n",
      "s\n"
     ]
    }
   ],
   "source": [
    "reversed_string = \"santi\"\n",
    "index = len(string)-1\n",
    "while index >= 0:\n",
    "    print(reversed_string[index])\n",
    "    index = index - 1"
   ]
  },
  {
   "cell_type": "code",
   "execution_count": 44,
   "metadata": {},
   "outputs": [
    {
     "name": "stdout",
     "output_type": "stream",
     "text": [
      "s\n",
      "n\n",
      "i\n"
     ]
    }
   ],
   "source": [
    "#make a string \n",
    "#make a value of a index \n",
    "# make a while loop that states \n",
    "#slice the string so that it will print out every other letter\n",
    "string = \"santi\"\n",
    "index = 0 \n",
    "while index <= len(string)-1:\n",
    "    print(string[index])\n",
    "    index = index + 2"
   ]
  },
  {
   "cell_type": "code",
   "execution_count": 46,
   "metadata": {},
   "outputs": [
    {
     "name": "stdout",
     "output_type": "stream",
     "text": [
      "i\n",
      "n\n",
      "s\n"
     ]
    }
   ],
   "source": [
    "string ='santi'\n",
    "index = len(string)-1\n",
    "while index >= 0:\n",
    "    print(string[index])\n",
    "    index = index - 2"
   ]
  },
  {
   "cell_type": "code",
   "execution_count": 50,
   "metadata": {},
   "outputs": [
    {
     "name": "stdout",
     "output_type": "stream",
     "text": [
      "1\n",
      "2\n",
      "3\n",
      "4\n",
      "5\n",
      "6\n",
      "7\n",
      "8\n",
      "9\n",
      "10\n",
      "11\n",
      "12\n",
      "13\n",
      "14\n",
      "15\n",
      "16\n",
      "17\n",
      "18\n",
      "19\n",
      "20\n"
     ]
    }
   ],
   "source": [
    "numbers= list(range(1,21))\n",
    "for number in numbers:\n",
    "    print(number)"
   ]
  },
  {
   "cell_type": "code",
   "execution_count": 49,
   "metadata": {},
   "outputs": [
    {
     "name": "stdout",
     "output_type": "stream",
     "text": [
      "20\n",
      "19\n",
      "18\n",
      "17\n",
      "16\n",
      "15\n",
      "14\n",
      "13\n",
      "12\n",
      "11\n",
      "10\n",
      "9\n",
      "8\n",
      "7\n",
      "6\n",
      "5\n",
      "4\n",
      "3\n",
      "2\n",
      "1\n"
     ]
    }
   ],
   "source": [
    "numbers[::-1] = list(range(1,21))\n",
    "for number in numbers:\n",
    "    print(number)"
   ]
  },
  {
   "cell_type": "code",
   "execution_count": 62,
   "metadata": {},
   "outputs": [
    {
     "name": "stdout",
     "output_type": "stream",
     "text": [
      "1 20\n",
      "2 19\n",
      "3 18\n",
      "4 17\n",
      "5 16\n",
      "6 15\n",
      "7 14\n",
      "8 13\n",
      "9 12\n",
      "10 11\n",
      "11 10\n",
      "12 9\n",
      "13 8\n",
      "14 7\n",
      "15 6\n",
      "16 5\n",
      "17 4\n",
      "18 3\n",
      "19 2\n",
      "20 1\n"
     ]
    }
   ],
   "source": [
    "numebrs = list(range(1,21))\n",
    "index = len(numbers)-1\n",
    "for number in numbers:\n",
    "    print(number,numbers[index])\n",
    "    index = index -1 "
   ]
  },
  {
   "cell_type": "code",
   "execution_count": null,
   "metadata": {},
   "outputs": [
    {
     "name": "stdout",
     "output_type": "stream",
     "text": [
      "index:  7\n",
      "letter:  o\n",
      "index:  6\n",
      "letter:  g\n",
      "index:  5\n",
      "letter:  a\n",
      "index:  4\n",
      "letter:  i\n",
      "index:  3\n",
      "letter:  t\n",
      "index:  2\n",
      "letter:  n\n",
      "index:  1\n",
      "letter:  a\n",
      "index:  0\n",
      "letter:  S\n",
      "Finished! original:  Santiago reversed:  ogaitnaS\n"
     ]
    }
   ],
   "source": [
    "#print a string in reverse order\n",
    "#breaking down the problem into smaller steps:\n",
    "#1. Get the string from the user\n",
    "#2. Initialize an empty string to hold the reversed string\n",
    "#3. Use a while loop to iterate over the string in reverse order\n",
    "#4. Append each character to the reversed string\n",
    "#5. Print the reversed string\n",
    "string = input(\"Enter a string to reverse: \")\n",
    "reversed_string = \"\"\n",
    "index = len(string)-1\n",
    "while index >= 0:\n",
    "    print('index: ', index)\n",
    "    print('letter: ', string[index])\n",
    "    reversed_string = reversed_string + string[index]\n",
    "    index -= 1\n",
    "    \n",
    "\n",
    "print(\"Finished!\", 'original: ', string, 'reversed: ', reversed_string)"
   ]
  },
  {
   "cell_type": "code",
   "execution_count": 23,
   "metadata": {},
   "outputs": [
    {
     "name": "stdout",
     "output_type": "stream",
     "text": [
      "index:  0\n",
      "a\n",
      "index:  1\n",
      "b\n",
      "index:  2\n",
      "c\n",
      "index:  3\n",
      "d\n",
      "index:  4\n",
      "e\n"
     ]
    }
   ],
   "source": [
    "#exercises for paper\n",
    "list_1 = ['a', 'b', 'c', 'd', 'e']\n",
    "for i in range(len(list_1)):\n",
    "    print('index: ', i)\n",
    "    print(list_1[i])"
   ]
  },
  {
   "cell_type": "code",
   "execution_count": 25,
   "metadata": {},
   "outputs": [
    {
     "name": "stdout",
     "output_type": "stream",
     "text": [
      "index:  4\n",
      "a\n",
      "element:  e\n",
      "index:  3\n",
      "b\n",
      "element:  d\n",
      "index:  2\n",
      "c\n",
      "element:  c\n",
      "index:  1\n",
      "d\n",
      "element:  b\n",
      "index:  0\n",
      "e\n",
      "element:  a\n"
     ]
    }
   ],
   "source": [
    "list_2 = ['a', 'b', 'c', 'd', 'e']\n",
    "inverted_index = len(list_2) - 1\n",
    "for element in list_2:\n",
    "    print('index: ', inverted_index)\n",
    "    print(element)\n",
    "    print('element: ', list_2[inverted_index])\n",
    "    inverted_index -= 1"
   ]
  },
  {
   "cell_type": "code",
   "execution_count": 26,
   "metadata": {},
   "outputs": [
    {
     "name": "stdout",
     "output_type": "stream",
     "text": [
      "index:  0\n",
      "element:  r\n",
      "inverted index:  6\n",
      "inverted element:  r\n",
      "Same element: r\n",
      "index:  1\n",
      "element:  a\n",
      "inverted index:  5\n",
      "inverted element:  a\n",
      "Same element: a\n",
      "index:  2\n",
      "element:  c\n",
      "inverted index:  4\n",
      "inverted element:  c\n",
      "Same element: c\n",
      "index:  3\n",
      "element:  e\n",
      "inverted index:  3\n",
      "inverted element:  e\n",
      "Same element: e\n",
      "index:  4\n",
      "element:  c\n",
      "inverted index:  2\n",
      "inverted element:  c\n",
      "Same element: c\n",
      "index:  5\n",
      "element:  a\n",
      "inverted index:  1\n",
      "inverted element:  a\n",
      "Same element: a\n",
      "index:  6\n",
      "element:  r\n",
      "inverted index:  0\n",
      "inverted element:  r\n",
      "Same element: r\n"
     ]
    }
   ],
   "source": [
    "#my_list = ['s', 'a', 'n', 't', 'i']\n",
    "#my_list = ['k', 'a','y','a','k']\n",
    "my_list = ['r', 'a', 'c', 'e', 'c', 'a', 'r']\n",
    "index = 0\n",
    "inv_i = len(my_list) - 1\n",
    "\n",
    "while index <= len(my_list) - 1:\n",
    "    print('index: ', index)\n",
    "    print('element: ', my_list[index])\n",
    "    print('inverted index: ', inv_i)\n",
    "    print('inverted element: ', my_list[inv_i])\n",
    "    if my_list[index] == my_list[inv_i]:\n",
    "        print('Same element:', my_list[index])\n",
    "    else:\n",
    "        print('Different elements:', my_list[index], my_list[inv_i])\n",
    "    index += 1\n",
    "    inv_i -= 1"
   ]
  },
  {
   "cell_type": "code",
   "execution_count": null,
   "metadata": {},
   "outputs": [
    {
     "name": "stdout",
     "output_type": "stream",
     "text": [
      "[97, 98, 99, 100, 101, 102, 103, 104, 105, 106, 107, 108, 109, 110, 111, 112, 113, 114, 115, 116]\n",
      "0 a\n",
      "1 a\n",
      "1 b\n",
      "2 a\n",
      "2 b\n",
      "2 c\n",
      "3 a\n",
      "3 b\n",
      "3 c\n",
      "3 d\n",
      "4 a\n",
      "4 b\n",
      "4 c\n",
      "4 d\n",
      "4 e\n",
      "5 a\n",
      "5 b\n",
      "5 c\n",
      "5 d\n",
      "5 e\n",
      "5 f\n",
      "6 a\n",
      "6 b\n",
      "6 c\n",
      "6 d\n",
      "6 e\n",
      "6 f\n",
      "6 g\n",
      "7 a\n",
      "7 b\n",
      "7 c\n",
      "7 d\n",
      "7 e\n",
      "7 f\n",
      "7 g\n",
      "7 h\n",
      "8 a\n",
      "8 b\n",
      "8 c\n",
      "8 d\n",
      "8 e\n",
      "8 f\n",
      "8 g\n",
      "8 h\n",
      "8 i\n",
      "9 a\n",
      "9 b\n",
      "9 c\n",
      "9 d\n",
      "9 e\n",
      "9 f\n",
      "9 g\n",
      "9 h\n",
      "9 i\n",
      "9 j\n",
      "10 a\n",
      "10 b\n",
      "10 c\n",
      "10 d\n",
      "10 e\n",
      "10 f\n",
      "10 g\n",
      "10 h\n",
      "10 i\n",
      "10 j\n",
      "10 k\n",
      "11 a\n",
      "11 b\n",
      "11 c\n",
      "11 d\n",
      "11 e\n",
      "11 f\n",
      "11 g\n",
      "11 h\n",
      "11 i\n",
      "11 j\n",
      "11 k\n",
      "11 l\n",
      "12 a\n",
      "12 b\n",
      "12 c\n",
      "12 d\n",
      "12 e\n",
      "12 f\n",
      "12 g\n",
      "12 h\n",
      "12 i\n",
      "12 j\n",
      "12 k\n",
      "12 l\n",
      "12 m\n",
      "13 a\n",
      "13 b\n",
      "13 c\n",
      "13 d\n",
      "13 e\n",
      "13 f\n",
      "13 g\n",
      "13 h\n",
      "13 i\n",
      "13 j\n",
      "13 k\n",
      "13 l\n",
      "13 m\n",
      "13 n\n",
      "14 a\n",
      "14 b\n",
      "14 c\n",
      "14 d\n",
      "14 e\n",
      "14 f\n",
      "14 g\n",
      "14 h\n",
      "14 i\n",
      "14 j\n",
      "14 k\n",
      "14 l\n",
      "14 m\n",
      "14 n\n",
      "14 o\n",
      "15 a\n",
      "15 b\n",
      "15 c\n",
      "15 d\n",
      "15 e\n",
      "15 f\n",
      "15 g\n",
      "15 h\n",
      "15 i\n",
      "15 j\n",
      "15 k\n",
      "15 l\n",
      "15 m\n",
      "15 n\n",
      "15 o\n",
      "15 p\n",
      "16 a\n",
      "16 b\n",
      "16 c\n",
      "16 d\n",
      "16 e\n",
      "16 f\n",
      "16 g\n",
      "16 h\n",
      "16 i\n",
      "16 j\n",
      "16 k\n",
      "16 l\n",
      "16 m\n",
      "16 n\n",
      "16 o\n",
      "16 p\n",
      "16 q\n",
      "17 a\n",
      "17 b\n",
      "17 c\n",
      "17 d\n",
      "17 e\n",
      "17 f\n",
      "17 g\n",
      "17 h\n",
      "17 i\n",
      "17 j\n",
      "17 k\n",
      "17 l\n",
      "17 m\n",
      "17 n\n",
      "17 o\n",
      "17 p\n",
      "17 q\n",
      "17 r\n",
      "18 a\n",
      "18 b\n",
      "18 c\n",
      "18 d\n",
      "18 e\n",
      "18 f\n",
      "18 g\n",
      "18 h\n",
      "18 i\n",
      "18 j\n",
      "18 k\n",
      "18 l\n",
      "18 m\n",
      "18 n\n",
      "18 o\n",
      "18 p\n",
      "18 q\n",
      "18 r\n",
      "18 s\n",
      "19 a\n",
      "19 b\n",
      "19 c\n",
      "19 d\n",
      "19 e\n",
      "19 f\n",
      "19 g\n",
      "19 h\n",
      "19 i\n",
      "19 j\n",
      "19 k\n",
      "19 l\n",
      "19 m\n",
      "19 n\n",
      "19 o\n",
      "19 p\n",
      "19 q\n",
      "19 r\n",
      "19 s\n",
      "19 t\n"
     ]
    }
   ],
   "source": [
    "number_list = list(range(97,117))\n",
    "print(number_list)\n",
    "letter_list = []\n",
    "for index,number in enumerate(number_list):\n",
    "    letter_list.append(chr(number))\n",
    "    print(letter_list)"
   ]
  },
  {
   "cell_type": "code",
   "execution_count": 11,
   "metadata": {},
   "outputs": [
    {
     "name": "stdout",
     "output_type": "stream",
     "text": [
      "[97, 98, 99, 100, 101, 102, 103, 104, 105, 106, 107, 108, 109, 110, 111, 112, 113, 114, 115, 116]\n",
      "0 a\n",
      "1 b\n",
      "2 c\n",
      "3 d\n",
      "4 e\n",
      "5 f\n",
      "6 g\n",
      "7 h\n",
      "8 i\n",
      "9 j\n",
      "10 k\n",
      "11 l\n",
      "12 m\n",
      "13 n\n",
      "14 o\n",
      "15 p\n",
      "16 q\n",
      "17 r\n",
      "18 s\n",
      "19 t\n"
     ]
    }
   ],
   "source": [
    "number_list = list(range(97,117))\n",
    "print(number_list)\n",
    "for index,number in enumerate(number_list):\n",
    "    print(index,chr(number))"
   ]
  },
  {
   "cell_type": "code",
   "execution_count": null,
   "metadata": {},
   "outputs": [
    {
     "name": "stdout",
     "output_type": "stream",
     "text": [
      "[116, 115, 114, 113, 112, 111, 110, 109, 108, 107, 106, 105, 104, 103, 102, 101, 100, 99, 98, 97]\n",
      "0 t\n",
      "1 s\n",
      "2 r\n",
      "3 q\n",
      "4 p\n",
      "5 o\n",
      "6 n\n",
      "7 m\n",
      "8 l\n",
      "9 k\n",
      "10 j\n",
      "11 i\n",
      "12 h\n",
      "13 g\n",
      "14 f\n",
      "15 e\n",
      "16 d\n",
      "17 c\n",
      "18 b\n",
      "19 a\n"
     ]
    }
   ],
   "source": [
    "number_list[::-1] = list(range(97,117))\n",
    "print(number_list)\n",
    "for index,number in enumerate(number_list):\n",
    "    print(index,chr(number))"
   ]
  },
  {
   "cell_type": "code",
   "execution_count": null,
   "metadata": {},
   "outputs": [
    {
     "name": "stdout",
     "output_type": "stream",
     "text": [
      "[97, 98, 99, 100, 101, 102, 103, 104, 105, 106, 107, 108, 109, 110, 111, 112, 113, 114, 115, 116]\n",
      "['t', 's', 'r', 'q', 'p', 'o', 'n', 'm', 'l', 'k', 'j', 'i', 'h', 'g', 'f', 'e', 'd', 'c', 'b', 'a']\n",
      "0 a t\n",
      "1 b s\n",
      "2 c r\n",
      "3 d q\n",
      "4 e p\n",
      "5 f o\n",
      "6 g n\n",
      "7 h m\n",
      "8 i l\n",
      "9 j k\n",
      "10 k j\n",
      "11 l i\n",
      "12 m h\n",
      "13 n g\n",
      "14 o f\n",
      "15 p e\n",
      "16 q d\n",
      "17 r c\n",
      "18 s b\n",
      "19 t a\n"
     ]
    }
   ],
   "source": [
    "number_list = list(range(97,117))\n",
    "print(number_list)\n",
    "letter_list = sorted(letter_list,reverse= True)\n",
    "print(letter_list)\n",
    "for index,number in enumerate(number_list):\n",
    "        print(index,chr(number),letter_list[index])"
   ]
  },
  {
   "cell_type": "code",
   "execution_count": 31,
   "metadata": {},
   "outputs": [
    {
     "name": "stdout",
     "output_type": "stream",
     "text": [
      "['t', 's', 'r', 'q', 'p', 'o', 'n', 'm', 'l', 'k', 'j', 'i', 'h', 'g', 'f', 'e', 'd', 'c', 'b', 'a']\n",
      "0 t a\n",
      "1 s b\n",
      "2 r c\n",
      "3 q d\n",
      "4 p e\n",
      "5 o f\n",
      "6 n g\n",
      "7 m h\n",
      "8 l i\n",
      "9 k j\n",
      "10 j k\n",
      "11 i l\n",
      "12 h m\n",
      "13 g n\n",
      "14 f o\n",
      "15 e p\n",
      "16 d q\n",
      "17 c r\n",
      "18 b s\n",
      "19 a t\n"
     ]
    }
   ],
   "source": [
    "print(letter_list)\n",
    "index_list = len(letter_list) -1\n",
    "for index,letter in enumerate(letter_list):\n",
    "        print(index,letter,letter_list[index_list])\n",
    "        index_list -= 1"
   ]
  },
  {
   "cell_type": "code",
   "execution_count": null,
   "metadata": {},
   "outputs": [
    {
     "name": "stdout",
     "output_type": "stream",
     "text": [
      "20\n",
      "19\n",
      "18\n",
      "17\n",
      "16\n",
      "15\n",
      "14\n",
      "13\n",
      "12\n",
      "11\n",
      "10\n",
      "9\n",
      "8\n",
      "7\n",
      "6\n",
      "5\n",
      "4\n",
      "3\n",
      "2\n",
      "1\n"
     ]
    }
   ],
   "source": [
    "number_list = list(range(1,21))\n",
    "number_index  = len(number_list) -1 \n",
    "while number_index >= 0:\n",
    "    print(number_list[number_index])\n",
    "    number_index -= 1"
   ]
  },
  {
   "cell_type": "code",
   "execution_count": 36,
   "metadata": {},
   "outputs": [
    {
     "name": "stdout",
     "output_type": "stream",
     "text": [
      "1\n",
      "2\n",
      "3\n",
      "4\n",
      "5\n",
      "6\n",
      "7\n",
      "8\n",
      "9\n",
      "10\n",
      "11\n",
      "12\n",
      "13\n",
      "14\n",
      "15\n",
      "16\n",
      "17\n",
      "18\n",
      "19\n",
      "20\n"
     ]
    }
   ],
   "source": [
    "number_list = list(range(1,21))\n",
    "number_index  = 0\n",
    "while number_index < 20:\n",
    "    print(number_list[number_index])\n",
    "    number_index += 1"
   ]
  },
  {
   "cell_type": "code",
   "execution_count": 37,
   "metadata": {},
   "outputs": [
    {
     "name": "stdout",
     "output_type": "stream",
     "text": [
      "1 20\n",
      "2 19\n",
      "3 18\n",
      "4 17\n",
      "5 16\n",
      "6 15\n",
      "7 14\n",
      "8 13\n",
      "9 12\n",
      "10 11\n",
      "11 10\n",
      "12 9\n",
      "13 8\n",
      "14 7\n",
      "15 6\n",
      "16 5\n",
      "17 4\n",
      "18 3\n",
      "19 2\n",
      "20 1\n"
     ]
    }
   ],
   "source": [
    "number_list = list(range(1,21))\n",
    "number_index  = 0\n",
    "reversed_index = len(number_list) -1\n",
    "while number_index < 20:\n",
    "    print(number_list[number_index],number_list[reversed_index])\n",
    "    reversed_index -= 1\n",
    "    number_index += 1"
   ]
  },
  {
   "cell_type": "markdown",
   "metadata": {},
   "source": [
    "<h5> 1.2.5  How to calulate the golden ratio </h5>"
   ]
  },
  {
   "cell_type": "code",
   "execution_count": null,
   "metadata": {},
   "outputs": [],
   "source": [
    "golden_list  = [0,1]\n",
    "for number in golden_list:\n",
    "    print(golden_list[-1])\n",
    "    new_number = golden_list[-1] + golden_list[-2] \n",
    "    golden_list.append(new_number)\n",
    "    if len(golden_list) == 100:\n",
    "        break"
   ]
  },
  {
   "cell_type": "code",
   "execution_count": null,
   "metadata": {},
   "outputs": [],
   "source": [
    "golden_list  = [0,1]\n",
    "for number in range(0,101):\n",
    "    new_number = golden_list[-2] + golden_list[-1]\n",
    "    golden_list.append(new_number)\n",
    "    print(golden_list[-1])\n",
    "print(len(golden_list))"
   ]
  },
  {
   "cell_type": "code",
   "execution_count": null,
   "metadata": {},
   "outputs": [],
   "source": [
    "golden_list = [0,1]\n",
    "while len(golden_list) != 100:\n",
    "        print(golden_list[-1])\n",
    "        new_number = golden_list[-2] + golden_list[-1]\n",
    "        golden_list.append(new_number)"
   ]
  },
  {
   "cell_type": "markdown",
   "metadata": {},
   "source": [
    "### 1.3 Functions"
   ]
  },
  {
   "cell_type": "markdown",
   "metadata": {},
   "source": [
    "A function is a named block of code that performs a specific task. You can reuse it whenever needed — this helps keep your code organized, readable, and efficient.\n",
    "\n",
    "\n",
    "Definition:\n",
    "A function is a reusable section of code that performs a specific task when it is \"called.\"\n",
    "\n",
    "\n",
    "Why Use Functions?\n",
    "\n",
    "Avoid repeating code\n",
    "\n",
    "Make programs easier to understand\n",
    "\n",
    "Break complex problems into simpler parts\n",
    "\n",
    "\n",
    "Parts: \n",
    "parameters: when we create a function, the variables we pass it for calculation (e.g. a, b, etc.) are called parameters. \n",
    "\n",
    "arguments: are the specific values we pass the function when we call it"
   ]
  },
  {
   "cell_type": "code",
   "execution_count": null,
   "metadata": {},
   "outputs": [
    {
     "name": "stdout",
     "output_type": "stream",
     "text": [
      "Hello, World!\n",
      "15\n"
     ]
    }
   ],
   "source": [
    "#VOID function\n",
    "def my_function():\n",
    "    print(\"Hello, World!\")\n",
    "\n",
    "my_function()\n",
    "\n",
    "#value-returning function\n",
    "def add_numbers(a, b): #a, b are parameters\n",
    "    return a + b\n",
    "\n",
    "result = add_numbers(5, 10) #5, 10 are arguments\n",
    "print(result)  # → 15"
   ]
  },
  {
   "cell_type": "markdown",
   "metadata": {},
   "source": [
    "#### 1.3.1 Exercises"
   ]
  },
  {
   "cell_type": "code",
   "execution_count": 2,
   "metadata": {},
   "outputs": [
    {
     "name": "stdout",
     "output_type": "stream",
     "text": [
      "True\n"
     ]
    }
   ],
   "source": [
    "word1 = \"santiago\" \n",
    "word2 = \"gustavo\"\n",
    "def check_len(x,y):\n",
    "    if len(x) == len(y):\n",
    "        return True \n",
    "    else:\n",
    "        return False\n",
    "result = check_len(word1,word1)\n",
    "print(result)"
   ]
  },
  {
   "cell_type": "code",
   "execution_count": 31,
   "metadata": {},
   "outputs": [
    {
     "name": "stdout",
     "output_type": "stream",
     "text": [
      "[11, 22, 33, 44, 55]\n"
     ]
    }
   ],
   "source": [
    "list_3 = []\n",
    "def sum_list(x,y):\n",
    "    if len(x) == len(y):\n",
    "        for index,number1 in enumerate(x):\n",
    "            for i,number2 in enumerate(y):\n",
    "                if index == i:\n",
    "                    list_3.append(number1 + number2)\n",
    "        return(list_3)\n",
    "list_1 = list(range(1,6))\n",
    "list_2 = list(range(10,60,10))\n",
    "new_list = sum_list(list_1,list_2)\n",
    "print(new_list)"
   ]
  },
  {
   "cell_type": "code",
   "execution_count": 21,
   "metadata": {},
   "outputs": [
    {
     "name": "stdout",
     "output_type": "stream",
     "text": [
      "[11, 22, 33, 44, 55]\n"
     ]
    }
   ],
   "source": [
    "list_3 = []\n",
    "def sum_list(x,y):\n",
    "    if len(x) == len(y):\n",
    "        for index in range(0,5):\n",
    "                    list_3.append(x[index] + y[index])\n",
    "        return(list_3)\n",
    "list_1 = list(range(1,6))\n",
    "list_2 = list(range(10,60,10))\n",
    "new_list = sum_list(list_1,list_2)\n",
    "print(new_list)"
   ]
  },
  {
   "cell_type": "code",
   "execution_count": 38,
   "metadata": {},
   "outputs": [
    {
     "name": "stdout",
     "output_type": "stream",
     "text": [
      "[0, 10, 20, 30, 40, 50, 60, 70, 80, 90, 1, 11, 21, 31, 41, 51, 61, 71, 81, 91, 2, 12, 22, 32, 42, 52, 62, 72, 82, 92, 3, 13, 23, 33, 43, 53, 63, 73, 83, 93, 4, 14, 24, 34, 44, 54, 64, 74, 84, 94, 5, 15, 25, 35, 45, 55, 65, 75, 85, 95, 6, 16, 26, 36, 46, 56, 66, 76, 86, 96, 7, 17, 27, 37, 47, 57, 67, 77, 87, 97, 8, 18, 28, 38, 48, 58, 68, 78, 88, 98, 9, 19, 29, 39, 49, 59, 69, 79, 89, 99]\n",
      "(9, 90, 9, 9)\n"
     ]
    }
   ],
   "source": [
    "list_3 = []\n",
    "def sum_list(x,y):\n",
    "    if len(x) == len(y):\n",
    "        target = int(input())\n",
    "        for index,number1 in enumerate(x):\n",
    "            for i,number2 in enumerate(y):\n",
    "                list_3.append(number1+number2)\n",
    "                if number1 + number2 == target:\n",
    "                    return number1,number2,index,i\n",
    "                else:\n",
    "                    pass\n",
    "list_1 = list(range(0,10))\n",
    "list_2 = list(range(0,100,10))\n",
    "new_list = sum_list(list_1,list_2)\n",
    "print(list_3)\n",
    "print(new_list)"
   ]
  },
  {
   "cell_type": "markdown",
   "metadata": {},
   "source": [
    "#### 1.3.1 Write Recursive Functions"
   ]
  },
  {
   "cell_type": "markdown",
   "metadata": {},
   "source": [
    "A recursive function is a function that calls itself in order to solve a problem.\n",
    "It breaks a complex problem into smaller sub-problems of the same type, solving them step by step — until it reaches a base case that stops the recursion.\n",
    "\n",
    "Definition:\n",
    "A recursive function is a function that solves a problem by calling itself with a smaller input, and combines the results.\n",
    "\n",
    "Key Components:\n",
    "<ul>\n",
    "<li>Base Case – the condition under which the function stops calling itself.\n",
    "<li>Recursive Case – the part of the function where it calls itself with a smaller input.\n",
    "</ul>"
   ]
  },
  {
   "cell_type": "code",
   "execution_count": null,
   "metadata": {},
   "outputs": [],
   "source": [
    "def countdown(n):\n",
    "    if n == 0:\n",
    "        print(\"Blast off!\")\n",
    "    else:\n",
    "        print(n)\n",
    "        countdown(n - 1)\n",
    "\n",
    "countdown(5)\n"
   ]
  },
  {
   "cell_type": "code",
   "execution_count": null,
   "metadata": {},
   "outputs": [],
   "source": [
    "# example Factorial function"
   ]
  },
  {
   "cell_type": "markdown",
   "metadata": {},
   "source": [
    "#### 1.3.2 Exercises"
   ]
  },
  {
   "cell_type": "code",
   "execution_count": null,
   "metadata": {},
   "outputs": [],
   "source": [
    "# Calculate a Fibonacci sequence recursively"
   ]
  },
  {
   "cell_type": "markdown",
   "metadata": {},
   "source": [
    "### 1.4 Data Structures"
   ]
  },
  {
   "cell_type": "markdown",
   "metadata": {},
   "source": [
    "| Structure      | Ordered | Mutable | Allows Duplicates | Example Use   |\n",
    "| -------------- | ------- | ------- | ----------------- | ------------- |\n",
    "| **List**       | ✅ Yes   | ✅ Yes   | ✅ Yes             | Shopping list |\n",
    "| **Tuple**      | ✅ Yes   | ❌ No    | ✅ Yes             | Coordinates   |\n",
    "| **Dictionary** | ❌ No\\*  | ✅ Yes   | Keys ❌ / Values ✅ | Phonebook     |\n",
    "| **Set**        | ❌ No    | ✅ Yes   | ❌ No              | Unique IDs    |\n"
   ]
  },
  {
   "cell_type": "markdown",
   "metadata": {},
   "source": [
    "#### 1.4.1 Lists \n",
    "Definition: An ordered, mutable (changeable) collection of items.\n",
    "\n",
    "Use case: When you need to store items in order and change them later.\n",
    "\n",
    "Syntax: Square brackets [].\n"
   ]
  },
  {
   "cell_type": "code",
   "execution_count": 1,
   "metadata": {},
   "outputs": [
    {
     "name": "stdout",
     "output_type": "stream",
     "text": [
      "apple\n"
     ]
    }
   ],
   "source": [
    "fruits = [\"apple\", \"banana\", \"cherry\"]\n",
    "print(fruits[0])     # Access by index → \"apple\"\n",
    "\n",
    "fruits.append(\"orange\")  # Add\n",
    "fruits[1] = \"pear\"       # Modify\n"
   ]
  },
  {
   "cell_type": "markdown",
   "metadata": {},
   "source": [
    "#### 1.4.2 Tuple\n",
    "\n",
    "Definition: An ordered, immutable (unchangeable) collection of items.\n",
    "\n",
    "Use case: When you want data that should not be modified (like fixed coordinates).\n",
    "\n",
    "Syntax: Parentheses ()."
   ]
  },
  {
   "cell_type": "code",
   "execution_count": 9,
   "metadata": {},
   "outputs": [
    {
     "name": "stdout",
     "output_type": "stream",
     "text": [
      "10\n"
     ]
    }
   ],
   "source": [
    "coordinates = (10, 20)\n",
    "print(coordinates[0])   # → 10\n",
    "\n",
    "#coordinates[0] = 30  # Error: tuples can’t be changed\n"
   ]
  },
  {
   "cell_type": "markdown",
   "metadata": {},
   "source": [
    "#### 1.4.3 Dictionaries\n",
    "\n",
    "Definition: An unordered collection of key–value pairs.\n",
    "\n",
    "Use case: When you want to look up values by a unique key (like a phonebook).\n",
    "\n",
    "Syntax: Curly braces {key: value}."
   ]
  },
  {
   "cell_type": "code",
   "execution_count": 4,
   "metadata": {},
   "outputs": [
    {
     "name": "stdout",
     "output_type": "stream",
     "text": [
      "Alice\n"
     ]
    }
   ],
   "source": [
    "person = {\"name\": \"Alice\", \"age\": 25, \"city\": \"London\"}\n",
    "\n",
    "print(person[\"name\"])   # → \"Alice\"\n",
    "\n",
    "person[\"age\"] = 26      # Modify value\n",
    "person[\"email\"] = \"a@example.com\"  # Add new pair\n"
   ]
  },
  {
   "cell_type": "markdown",
   "metadata": {},
   "source": [
    "#### 1.4.4 Sets\n",
    "\n",
    "Definition: An unordered collection of unique items.\n",
    "\n",
    "Use case: When you need to store items without duplicates, or perform set operations (union, intersection).\n",
    "\n",
    "Syntax: Curly braces {} but only values (no key–value pairs)."
   ]
  },
  {
   "cell_type": "code",
   "execution_count": 5,
   "metadata": {},
   "outputs": [
    {
     "name": "stdout",
     "output_type": "stream",
     "text": [
      "{1, 2, 3, 4}\n"
     ]
    }
   ],
   "source": [
    "numbers = {1, 2, 3, 3, 4}\n",
    "print(numbers)   # → {1, 2, 3, 4} (duplicates removed)\n",
    "\n",
    "numbers.add(5)   # Add\n",
    "numbers.remove(2)  # Remove\n"
   ]
  },
  {
   "cell_type": "code",
   "execution_count": 6,
   "metadata": {},
   "outputs": [
    {
     "name": "stdout",
     "output_type": "stream",
     "text": [
      "{1, 2, 3, 4, 5}\n",
      "{3}\n"
     ]
    }
   ],
   "source": [
    "a = {1, 2, 3}\n",
    "b = {3, 4, 5}\n",
    "print(a | b)  # Union → {1, 2, 3, 4, 5}\n",
    "print(a & b)  # Intersection → {3}\n"
   ]
  },
  {
   "cell_type": "markdown",
   "metadata": {},
   "source": [
    "##### 1.4.5 exercises "
   ]
  },
  {
   "cell_type": "code",
   "execution_count": 42,
   "metadata": {},
   "outputs": [
    {
     "name": "stdout",
     "output_type": "stream",
     "text": [
      "[0, 1, 2, 3, 4, 5, 6, 7, 8, 9]\n",
      "{'even': [0, 2, 4, 6, 8], 'odd': [1, 3, 5, 7, 9]}\n"
     ]
    }
   ],
   "source": [
    "even = []\n",
    "odd = []\n",
    "x = int(input())\n",
    "list_x = list(range(0,x))\n",
    "print(list_x)\n",
    "for number in list_x:\n",
    "    x = number % 2\n",
    "    if x == 0:\n",
    "        even.append(number)\n",
    "    elif x == 1:\n",
    "        odd.append(number)\n",
    "dictory = {\"even\":even ,\"odd\":odd}\n",
    "print(dictory)"
   ]
  },
  {
   "cell_type": "markdown",
   "metadata": {},
   "source": [
    "### 1.5 Error Handling and Debugging"
   ]
  },
  {
   "cell_type": "code",
   "execution_count": null,
   "metadata": {},
   "outputs": [],
   "source": []
  },
  {
   "cell_type": "markdown",
   "metadata": {},
   "source": [
    "### 1.6 Object Oriented Programming"
   ]
  },
  {
   "cell_type": "code",
   "execution_count": null,
   "metadata": {},
   "outputs": [],
   "source": []
  },
  {
   "cell_type": "markdown",
   "metadata": {},
   "source": [
    "#### 1.6.x Advanced OOP"
   ]
  },
  {
   "cell_type": "code",
   "execution_count": null,
   "metadata": {},
   "outputs": [],
   "source": []
  },
  {
   "cell_type": "markdown",
   "metadata": {},
   "source": [
    "### 1.7 Third Party Libraries"
   ]
  },
  {
   "cell_type": "code",
   "execution_count": null,
   "metadata": {},
   "outputs": [],
   "source": []
  },
  {
   "cell_type": "markdown",
   "metadata": {},
   "source": [
    "### 1.8 Projects"
   ]
  },
  {
   "cell_type": "code",
   "execution_count": null,
   "metadata": {},
   "outputs": [],
   "source": []
  },
  {
   "cell_type": "markdown",
   "metadata": {},
   "source": [
    "### 1.9 Exercises"
   ]
  },
  {
   "cell_type": "code",
   "execution_count": null,
   "metadata": {},
   "outputs": [],
   "source": [
    "def sum(a,b):\n",
    "    c = a + b\n",
    "    return c"
   ]
  },
  {
   "cell_type": "code",
   "execution_count": null,
   "metadata": {},
   "outputs": [],
   "source": [
    "print(sum(10,5.5))"
   ]
  },
  {
   "cell_type": "code",
   "execution_count": null,
   "metadata": {},
   "outputs": [],
   "source": [
    "a = float(input('Enter a number:'))\n",
    "b = float(input('Enter a number:'))\n",
    "print(a + b)\n",
    "print(a - b)\n",
    "print(a / b)\n",
    "print(a * b)"
   ]
  },
  {
   "cell_type": "code",
   "execution_count": null,
   "metadata": {},
   "outputs": [],
   "source": [
    "a = 10 \n",
    "b = 5\n",
    "if a < 5:\n",
    "    print('finished')\n",
    "else:\n",
    "    a = a/2\n",
    "    print(a + b)"
   ]
  },
  {
   "cell_type": "code",
   "execution_count": null,
   "metadata": {},
   "outputs": [],
   "source": [
    "a = 15 \n",
    "if a == 12: \n",
    "    print('finished')\n",
    "elif a != 15:\n",
    "    print('not work')\n",
    "elif a > 20: \n",
    "    print('worked')\n",
    "elif a <= 16:\n",
    "    print('.')\n",
    "else:\n",
    "    print('did not work') "
   ]
  },
  {
   "cell_type": "code",
   "execution_count": null,
   "metadata": {},
   "outputs": [],
   "source": [
    "a = 1\n",
    "a == True"
   ]
  },
  {
   "cell_type": "code",
   "execution_count": null,
   "metadata": {},
   "outputs": [],
   "source": [
    "a =int(input('Enter a number:'))\n",
    "if a == 5:\n",
    "    print('right')\n",
    "else:\n",
    "    print('guess again') "
   ]
  },
  {
   "cell_type": "code",
   "execution_count": null,
   "metadata": {},
   "outputs": [],
   "source": [
    "def guessing_game(b): \n",
    "    a = int(input('enter number:'))\n",
    "    if a > b:\n",
    "    \n",
    "        print('too high')\n",
    "        return guessing_game(b)\n",
    "    elif a < b:\n",
    "        print('too low:')\n",
    "        return guessing_game(b)\n",
    "    else:\n",
    "        print('correct:')\n",
    "    \n",
    "guessing_game(15)"
   ]
  },
  {
   "cell_type": "code",
   "execution_count": null,
   "metadata": {},
   "outputs": [],
   "source": [
    "string2 = \"don't forget this\"\n",
    "for charater in string2 [:: -1]:\n",
    "    print(charater)"
   ]
  },
  {
   "cell_type": "code",
   "execution_count": null,
   "metadata": {},
   "outputs": [],
   "source": [
    "name = \"no lemon, no melon\"\n",
    "name = name.replace(' ','')\n",
    "name1 = name[::-1]\n",
    "if  name == name1:\n",
    "    print(\"True\")"
   ]
  },
  {
   "cell_type": "code",
   "execution_count": null,
   "metadata": {},
   "outputs": [],
   "source": [
    "for charater in name,name1[0::]:\n",
    "    print(charater)"
   ]
  },
  {
   "cell_type": "code",
   "execution_count": null,
   "metadata": {},
   "outputs": [],
   "source": [
    "string = \"no lemon, no melon\"\n",
    "# removing undesired characters \n",
    "string = string.replace(' ','')\n",
    "string = string.lower()\n",
    "#strating the pointers\n",
    "left = 0\n",
    "right = len(string)-1\n",
    "#checking the string for palidrome\n",
    "while left < right:\n",
    "    if string[left] != string[right]:\n",
    "        print('it is not a palindrome')\n",
    "        break\n",
    "    left += 1\n",
    "    right -= 1\n",
    "    if left >= right:\n",
    "        print('it is a palindrome')"
   ]
  },
  {
   "cell_type": "code",
   "execution_count": null,
   "metadata": {},
   "outputs": [],
   "source": [
    "def palindrome_check(palindrome):\n",
    "#name of the function\n",
    "    string = palindrome\n",
    "    # removing undesired characters \n",
    "    string = string.replace(' ','')\n",
    "    string = string.lower()\n",
    "    #strating the pointers\n",
    "    left = 0\n",
    "    right = len(string)-1\n",
    "    #checking the string for palidrome\n",
    "    while left < right:\n",
    "        if string[left] != string[right]:\n",
    "            return \"no\"\n",
    "        left += 1\n",
    "        right -= 1\n",
    "        if left >= right:\n",
    "            return \"yes\"\n",
    "a= palindrome_check('no lemon, no melon')\n",
    "print(a)"
   ]
  },
  {
   "cell_type": "code",
   "execution_count": null,
   "metadata": {},
   "outputs": [],
   "source": [
    "#To be continued\n",
    "\n",
    "def Beer(n,p,o=11.16):\n",
    "    return(n*p*o)\n",
    "print(Beer(5,0.12))\n",
    "\n",
    "\n",
    "def BAC(a,w,r,h,):\n",
    "    bac= (a * 5.14 / w * r) - 0.015 * h\n",
    "    return(bac) \n",
    "\n",
    "print(BAC(Beer(12,0.15),174,0.68,5))   "
   ]
  },
  {
   "cell_type": "code",
   "execution_count": null,
   "metadata": {},
   "outputs": [],
   "source": [
    "# declaring a function for squaring a number\n",
    "def square_number(num):\n",
    "    return num * num\n",
    "\n",
    "print(square_number(5))\n",
    "\n",
    "# Example lambda function\n",
    "square = lambda x: x * x\n",
    "print(square(5))\n",
    "\n",
    "# Lambda function with multiple arguments\n",
    "multiply = lambda x, y: x * y\n",
    "print(multiply(5, 10))\n",
    "\n",
    "#lambda with for loop\n",
    "numbers = [1, 2, 3, 4, 5]\n",
    "squared_numbers = list(map(lambda x: x * x, numbers))\n",
    "print(squared_numbers)\n",
    "\n",
    "# the for loop equivalent\n",
    "squared_numbers = []\n",
    "for number in numbers:\n",
    "    squared_numbers.append(number * number)\n",
    "print(squared_numbers)\n",
    "# Lambda function with filter"
   ]
  },
  {
   "cell_type": "code",
   "execution_count": null,
   "metadata": {},
   "outputs": [],
   "source": [
    "#compound interest calculation\n",
    "capital = 1000\n",
    "interest_rate = 0.08\n",
    "counter = 1\n",
    "previous_capital = capital\n",
    "extra_year_investment = 1000\n",
    "for year in range(2025, 2046):\n",
    "    new_capital = (previous_capital+extra_year_investment)*(1+interest_rate)\n",
    "    print(f'Year: {year}, Capital: {new_capital:.2f}, previous capital: {previous_capital:.2f},interest earned: {new_capital-previous_capital-extra_year_investment:.2f}')\n",
    "    previous_capital = new_capital"
   ]
  },
  {
   "cell_type": "code",
   "execution_count": null,
   "metadata": {},
   "outputs": [],
   "source": [
    "#tuple vs list\n",
    "my_list = [1, 2, 3, 4, 5]\n",
    "a = {}\n",
    "my_tuple = (1, a, 3, 4, 5)\n",
    "\n",
    "my_tuple[1]"
   ]
  },
  {
   "cell_type": "markdown",
   "metadata": {},
   "source": [
    "## 2. Algorithms"
   ]
  },
  {
   "cell_type": "markdown",
   "metadata": {},
   "source": [
    "### 2.1 O Notation"
   ]
  },
  {
   "cell_type": "code",
   "execution_count": null,
   "metadata": {},
   "outputs": [],
   "source": [
    "list_1 = [1, 2, 3, 4, 5]\n",
    "list_2 = [6, 7, 8, 9, 10]\n",
    "list_3 = [11, 12, 13, 14, 15]\n",
    "counter = 0 \n",
    "\n",
    "#nested for loops are exponential in complexity\n",
    "for i in range(100):\n",
    "    for j in range(20):\n",
    "        for z in range(3):\n",
    "            #print(f\"({list_1[i]}, {list_2[j]}, {list_1[z]})\")\n",
    "            counter += 1\n",
    "\n",
    "print(f\"Total combinations: {counter}\")\n",
    "import math\n",
    "print('exponent', math.log(counter, 100)) "
   ]
  },
  {
   "cell_type": "code",
   "execution_count": null,
   "metadata": {},
   "outputs": [],
   "source": [
    "import pandas as pd\n",
    "\n",
    "# create a dummy dataframe\n",
    "df = pd.DataFrame({\n",
    "    'A': [1, 2, 3, 4, 5],\n",
    "    'B': [6, 7, 8, 9, 10],\n",
    "    'C': [11, 12, 13, 14, 15]\n",
    "})\n",
    "print(df)\n",
    "df = df.T\n",
    "print(df)"
   ]
  },
  {
   "cell_type": "code",
   "execution_count": null,
   "metadata": {},
   "outputs": [],
   "source": [
    "# List indexing with for loop\n",
    "my_list = ['2025-01-01', '2024-12-02', '2024-06-03','2023-01-01','2022-01-01']\n",
    "len(my_list) \n",
    "range(len(my_list)) \n",
    "for i in range(len(my_list)-1):\n",
    "    #print(i)\n",
    "    print(f'index: {i}, modified index: {i+1}, el: {my_list[i]}, other el: {my_list[i+1]}') \n"
   ]
  },
  {
   "cell_type": "code",
   "execution_count": null,
   "metadata": {},
   "outputs": [],
   "source": [
    "#enumerate example\n",
    "d = [\"5-10-2024\",\"3-5-2024\",\"2-12-2024\"]\n",
    "for x,y in enumerate(d):\n",
    "    print(x+1)\n",
    "    # print(y,d[x])\n",
    "\n",
    "    # print(y[x-1])\n",
    "\n",
    "#checking if a key exists in a dictionary\n",
    "my = {'5-10-2024':{'APPl':1}}\n",
    "if 'APPl' in my['5-10-2024']:\n",
    "    print('yes')"
   ]
  },
  {
   "cell_type": "markdown",
   "metadata": {},
   "source": [
    "## 3. Operating Systems"
   ]
  },
  {
   "cell_type": "code",
   "execution_count": null,
   "metadata": {},
   "outputs": [],
   "source": []
  },
  {
   "cell_type": "markdown",
   "metadata": {},
   "source": [
    "## 4. Computer Architecture"
   ]
  },
  {
   "cell_type": "code",
   "execution_count": null,
   "metadata": {},
   "outputs": [],
   "source": []
  }
 ],
 "metadata": {
  "kernelspec": {
   "display_name": "finance",
   "language": "python",
   "name": "python3"
  },
  "language_info": {
   "codemirror_mode": {
    "name": "ipython",
    "version": 3
   },
   "file_extension": ".py",
   "mimetype": "text/x-python",
   "name": "python",
   "nbconvert_exporter": "python",
   "pygments_lexer": "ipython3",
   "version": "3.13.3"
  }
 },
 "nbformat": 4,
 "nbformat_minor": 2
}
