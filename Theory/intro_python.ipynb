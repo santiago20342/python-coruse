{
 "cells": [
  {
   "cell_type": "markdown",
   "metadata": {},
   "source": [
    "# Introduction to Programming with Python"
   ]
  },
  {
   "cell_type": "markdown",
   "metadata": {},
   "source": [
    "## The Pillars of Computer Science\n",
    "The 4 concepts/areas of knowledge in which any issue in computer science fall onto\n",
    "1. Programming Languages: the way in which we give instructions to computers.\n",
    "2. Computer Architecture: the physical components of computers and how they relate to each other. \n",
    "3. Algorithms: Step-by-step instructions to solve a problem.\n",
    "4. Operating Systems: fundamental software that connects and manages the hardware of the computer. "
   ]
  },
  {
   "cell_type": "markdown",
   "metadata": {},
   "source": [
    "## 1. Programming Languages: Python"
   ]
  },
  {
   "cell_type": "markdown",
   "metadata": {},
   "source": [
    "### 1.1 Variables, Data Types and Basic Operations"
   ]
  },
  {
   "cell_type": "code",
   "execution_count": null,
   "metadata": {},
   "outputs": [],
   "source": [
    "# Variables and Assignment\n",
    "x = 5\n",
    "y = 'lol'\n",
    "z = {'key': 'value'}\n",
    "p = (x, y)\n",
    "q = [1, 2, 3]\n",
    "r = {1,2,3}\n",
    "a = True\n",
    "b = 3.14"
   ]
  },
  {
   "cell_type": "code",
   "execution_count": null,
   "metadata": {},
   "outputs": [
    {
     "name": "stdout",
     "output_type": "stream",
     "text": [
      "<class 'str'>\n",
      "<class 'str'>\n",
      "<class 'dict'>\n",
      "<class 'tuple'>\n",
      "<class 'list'>\n",
      "<class 'set'>\n",
      "<class 'bool'>\n",
      "<class 'float'>\n"
     ]
    }
   ],
   "source": [
    "# Basic Data Types: `int`, `float`, `str`, `bool`, `list`, `tuple`, `dict`, 'set'\n",
    "print(type(x))#Integer is a whole number, discrete (without decimals)\n",
    "print(type(y))#Characters and can be anything but will behave like 'string' or 'text';\n",
    "              #numbers can be used as strings, but will no behave like numbers: HEX html (encoding colors with numbes) #FF0001112\n",
    "              #numbers can also be used to store information #like phone numbers, zip codes, etc.\n",
    "print(type(z))#Dictionary is a collection of key-value pairs, where each key is unique\n",
    "print(type(p))#Tuple is an ordered collection of elements, similar to a list, but immutable (cannot be changed)\n",
    "print(type(q))#List is an ordered collection of elements, which can be changed (mutable)\n",
    "print(type(r))#Set is an unordered collection of unique elements, which can be changed (mutable)\n",
    "print(type(a))#Boolean is a binary value, either True or False\n",
    "print(type(b))#Float is a number that can have decimal points"
   ]
  },
  {
   "cell_type": "code",
   "execution_count": null,
   "metadata": {},
   "outputs": [
    {
     "name": "stdout",
     "output_type": "stream",
     "text": [
      "17\n",
      "-210\n",
      "31.428571428571427\n",
      "2200\n",
      "3\n",
      "282475249\n",
      "0\n",
      "0 0.0 0\n",
      "1 0.1 0\n",
      "2 0.2 0\n",
      "3 0.3 0\n",
      "4 0.4 0\n",
      "5 0.5 0\n",
      "6 0.6 0\n",
      "7 0.7 0\n",
      "8 0.8 0\n",
      "9 0.9 0\n",
      "10 1.0 1\n"
     ]
    }
   ],
   "source": [
    "# Arithmetic Operators: `+`, `-`, `*`, `/`, `%`,'**', '//'\n",
    "x = 10\n",
    "y = 7 \n",
    "z = 220\n",
    "print(x + y)# Adds the numbers together \n",
    "print(x - z)# Substars the numbers \n",
    "print(z / y)# Divides the numbers \n",
    "print(x * z)# Multipliy the numbers\n",
    "print(220 % y)# Divides the numbers and returns the remainder(can be used to chekc odd or even)\n",
    "print(y ** x)# Power of the second number to the first number\n",
    "print(y // z)# Divides the numbers and rounds it down if it is a float\n",
    "#how // works\n",
    "numbers  = (list(range(0,11)))\n",
    "for number in numbers:\n",
    "    print(number,number/10,number // 10)"
   ]
  },
  {
   "cell_type": "code",
   "execution_count": null,
   "metadata": {},
   "outputs": [
    {
     "name": "stdout",
     "output_type": "stream",
     "text": [
      "hello\n",
      "hello\n",
      "hello\n",
      "world\n",
      "dlrow works\n",
      "hello worldhello worldhello world\n",
      "hhhh\n",
      "eeee\n",
      "llll\n",
      "llll\n",
      "oooo\n",
      "    \n",
      "wwww\n",
      "oooo\n",
      "rrrr\n",
      "llll\n",
      "dddd\n"
     ]
    }
   ],
   "source": [
    "# String manipulation: concatenation, string formatting\n",
    "# define a string \n",
    "my_string = \"hello world\"\n",
    "# slice a string\n",
    "word1 = my_string[:5]\n",
    "print(word1)\n",
    "str_list = my_string.split()\n",
    "print(str_list[0])\n",
    "word1,word2= my_string.split()\n",
    "print(word1)\n",
    "print(word2)\n",
    "\n",
    "#If you try this there will be an error\n",
    "# string = \"hello word my\"\n",
    "# word1,word2= string.split()\n",
    "# print(word1)\n",
    "# print(word2)\n",
    "\n",
    "# multiply a string by a number\n",
    "x = my_string * 3\n",
    "print(x)\n",
    "# use a for to iterate over a string\n",
    "for character in my_string:\n",
    "    print(character * 4)"
   ]
  },
  {
   "cell_type": "code",
   "execution_count": null,
   "metadata": {},
   "outputs": [
    {
     "name": "stdout",
     "output_type": "stream",
     "text": [
      "h3llo world\n",
      "dlrow\n",
      "olleh\n",
      "olleh\n",
      "HELLO WORLD\n",
      "hello world\n",
      "HELLO WORLD hello world\n"
     ]
    }
   ],
   "source": [
    "# replace method\n",
    "replace_string = my_string.replace(\"e\",str(3))\n",
    "print(replace_string)\n",
    "# reverse a string\n",
    "reversed_string = my_string[:5:-1]\n",
    "print(reversed_string)\n",
    "\n",
    "reversed_string = my_string[4::-1]\n",
    "print(reversed_string)\n",
    "\n",
    "reversed_string_1 = my_string[-7::-1]\n",
    "print(reversed_string_1)\n",
    "# capitalize a string\n",
    "string_upper = my_string.upper()\n",
    "print(string_upper)\n",
    "# make the string lower case\n",
    "string_lower = string_upper.lower()\n",
    "print(string_lower)\n",
    "# paste two strings together\n",
    "together_string = string_upper + ' '  + string_lower\n",
    "print(together_string)"
   ]
  },
  {
   "cell_type": "code",
   "execution_count": 7,
   "metadata": {},
   "outputs": [
    {
     "name": "stdout",
     "output_type": "stream",
     "text": [
      "You entered: 10\n",
      "Type of input: <class 'str'>\n",
      "Square of number: 100\n"
     ]
    }
   ],
   "source": [
    "# User input with `input()`\n",
    "#assign a variable to the input\n",
    "\n",
    "user_input = input('Please enter something: ')\n",
    "print(\"You entered:\", user_input)\n",
    "print(\"Type of input:\", type(user_input))\n",
    "try:\n",
    "    user_input = int(user_input)\n",
    "    print('Square of number:', user_input ** 2)\n",
    "except:\n",
    "    print('Invalid input. Please enter a number.')"
   ]
  },
  {
   "cell_type": "code",
   "execution_count": 9,
   "metadata": {},
   "outputs": [
    {
     "name": "stdout",
     "output_type": "stream",
     "text": [
      "<class 'str'>\n",
      "SS\n",
      "AA\n",
      "NN\n",
      "TT\n",
      "II\n",
      "AA\n",
      "GG\n",
      "OO\n",
      "OO\n",
      "GG\n",
      "AA\n",
      "II\n",
      "TT\n",
      "NN\n",
      "AA\n",
      "SS\n",
      "8\n",
      "8\n"
     ]
    }
   ],
   "source": [
    "name_input = input(\"Please enter your name\")\n",
    "print(type(name_input))\n",
    "for letter in name_input:\n",
    "    print(letter.upper()*2)    \n",
    "reverse_name_input = name_input[::-1]\n",
    "for reverse_letter in reverse_name_input:\n",
    "    print(reverse_letter.upper()*2)\n",
    "print(len(reverse_name_input))\n",
    "print(len(name_input))\n"
   ]
  },
  {
   "cell_type": "markdown",
   "metadata": {},
   "source": [
    "### 1.2 Control Flow"
   ]
  },
  {
   "cell_type": "markdown",
   "metadata": {},
   "source": [
    "Control flow refers to the <b>order</b> in which individual instructions, statements, or function calls <u>are executed or evaluated in a program</u>.\n",
    "\n",
    "In Python (and most programming languages), code is usually executed top to bottom, one line at a time. \n",
    "\n",
    "However, control flow structures allow you to:\n",
    "<ul>\n",
    "<li>Make decisions using conditionals like if, elif, and else.\n",
    "<li>Repeat actions using loops like for and while.\n",
    "</ul>\n",
    "\n",
    "\n",
    "These tools let you write programs that can react to different inputs, handle multiple scenarios, and automate repetitive tasks"
   ]
  },
  {
   "cell_type": "markdown",
   "metadata": {},
   "source": [
    "#### 1.2.1 Conditionals: If, Elif and Else"
   ]
  },
  {
   "cell_type": "markdown",
   "metadata": {},
   "source": [
    "Conditionals are programming statements that allow your program to make decisions.\n",
    "They let you execute certain blocks of code only if specific conditions are true — like answering “yes” or “no” questions inside your program."
   ]
  },
  {
   "cell_type": "code",
   "execution_count": null,
   "metadata": {},
   "outputs": [
    {
     "name": "stdout",
     "output_type": "stream",
     "text": [
      "-6\n"
     ]
    }
   ],
   "source": [
    "# Using the input function + the if statement\n",
    "input_number1 = input(\"Enter number\")\n",
    "input_number2 = input(\"Enter number\")\n",
    "input_letter = input(\"Enter a or b or c or d\")\n",
    "if input_letter == \"a\":\n",
    "    print(int(input_number1)+int(input_number2))\n",
    "if input_letter == \"b\":\n",
    "    print(int(input_number1)-int(input_number2))\n",
    "if input_letter == \"c\":\n",
    "    print(int(input_number1)*int(input_number2))\n",
    "if input_letter == \"d\":\n",
    "    print(int(input_number1)/int(input_number2))"
   ]
  },
  {
   "cell_type": "code",
   "execution_count": null,
   "metadata": {},
   "outputs": [
    {
     "name": "stdout",
     "output_type": "stream",
     "text": [
      "Correct! The number is 5\n"
     ]
    }
   ],
   "source": [
    "# if + else statement\n",
    "#write code to print a password as asterisks or the real string based on a condition\n",
    "target = 5\n",
    "input_guess = int(input(\"Guess a number (1-10):\"))\n",
    "if input_guess == target:\n",
    "    print(\"Correct! The number is\", target)\n",
    "else:\n",
    "    print(\"Incorrect! Try again.\")"
   ]
  },
  {
   "cell_type": "code",
   "execution_count": 5,
   "metadata": {},
   "outputs": [
    {
     "name": "stdout",
     "output_type": "stream",
     "text": [
      "Obesity\n"
     ]
    }
   ],
   "source": [
    "#if + elif + else statement\n",
    "input_bmi = float(input(\"Enter your BMI: \"))\n",
    "\n",
    "if input_bmi <= 18.9:\n",
    "    print(\"Underweight\")\n",
    "elif input_bmi < 24.9:\n",
    "    print(\"Normal weight\")\n",
    "elif input_bmi < 29.9:\n",
    "    print(\"Overweight\")\n",
    "else:\n",
    "    print(\"Obesity\")\n",
    "    "
   ]
  },
  {
   "cell_type": "code",
   "execution_count": null,
   "metadata": {},
   "outputs": [],
   "source": [
    "#Take the input from user and check if it is a number, a vowel or something else"
   ]
  },
  {
   "cell_type": "markdown",
   "metadata": {},
   "source": [
    "#### 1.2.2 For Loops"
   ]
  },
  {
   "cell_type": "markdown",
   "metadata": {},
   "source": [
    "A for loop is a control flow structure that lets you repeat a block of code for each item in a sequence (like a list, string, or range of numbers).\n",
    "\n",
    "Definition:\n",
    "A for loop is used to iterate over a sequence and execute code once for each item in that sequence."
   ]
  },
  {
   "cell_type": "code",
   "execution_count": 6,
   "metadata": {},
   "outputs": [
    {
     "name": "stdout",
     "output_type": "stream",
     "text": [
      "0\n",
      "2\n",
      "4\n",
      "6\n",
      "8\n",
      "10\n",
      "12\n",
      "14\n",
      "16\n",
      "18\n",
      "20\n"
     ]
    }
   ],
   "source": [
    "#This are the main uses of for loop but they can be used in othoer ways such to Automate things \n",
    "#For loop can be used to iterate a (list, dictionary ,tuple) into individual elements.\n",
    "#You can perform operations continuously as long as it is running inside a for loop such printing number for 1 to 100 or send a message 100 times.\n",
    "\n",
    "#example 1: Print all even numbers from 0 to 20\n",
    "for number in range(0, 21):\n",
    "    if number % 2 == 0:\n",
    "        print(number)"
   ]
  },
  {
   "cell_type": "markdown",
   "metadata": {},
   "source": [
    "#### 1.2.3 While Loops"
   ]
  },
  {
   "cell_type": "markdown",
   "metadata": {},
   "source": [
    "A while loop is a control flow structure that repeats a block of code as long as a condition remains True.\n",
    "\n",
    "Definition:\n",
    "A while loop keeps running until its condition becomes False. It's useful when you don't know in advance how many times you'll need to repeat something."
   ]
  },
  {
   "cell_type": "code",
   "execution_count": 2,
   "metadata": {},
   "outputs": [],
   "source": [
    "#While loop checks a Bool statement and run when it is ture.\n",
    "#A while run is when the Conditionn is true, until the Conditionn is met(False), it will keep on looping. "
   ]
  },
  {
   "cell_type": "markdown",
   "metadata": {},
   "source": [
    "#### 1.2.4 How to calulate the golen ratio"
   ]
  },
  {
   "cell_type": "code",
   "execution_count": 3,
   "metadata": {},
   "outputs": [
    {
     "name": "stdout",
     "output_type": "stream",
     "text": [
      "1\n",
      "1\n",
      "2\n",
      "3\n",
      "5\n",
      "8\n",
      "13\n",
      "21\n",
      "34\n",
      "55\n",
      "89\n",
      "144\n",
      "233\n",
      "377\n",
      "610\n",
      "987\n",
      "1597\n",
      "2584\n",
      "4181\n",
      "6765\n",
      "10946\n",
      "17711\n",
      "28657\n",
      "46368\n",
      "75025\n",
      "121393\n",
      "196418\n",
      "317811\n",
      "514229\n",
      "832040\n",
      "1346269\n",
      "2178309\n",
      "3524578\n",
      "5702887\n",
      "9227465\n",
      "14930352\n",
      "24157817\n",
      "39088169\n",
      "63245986\n",
      "102334155\n",
      "165580141\n",
      "267914296\n",
      "433494437\n",
      "701408733\n",
      "1134903170\n",
      "1836311903\n",
      "2971215073\n",
      "4807526976\n",
      "7778742049\n",
      "12586269025\n",
      "20365011074\n",
      "32951280099\n",
      "53316291173\n",
      "86267571272\n",
      "139583862445\n",
      "225851433717\n",
      "365435296162\n",
      "591286729879\n",
      "956722026041\n",
      "1548008755920\n",
      "2504730781961\n",
      "4052739537881\n",
      "6557470319842\n",
      "10610209857723\n",
      "17167680177565\n",
      "27777890035288\n",
      "44945570212853\n",
      "72723460248141\n",
      "117669030460994\n",
      "190392490709135\n",
      "308061521170129\n",
      "498454011879264\n",
      "806515533049393\n",
      "1304969544928657\n",
      "2111485077978050\n",
      "3416454622906707\n",
      "5527939700884757\n",
      "8944394323791464\n",
      "14472334024676221\n",
      "23416728348467685\n",
      "37889062373143906\n",
      "61305790721611591\n",
      "99194853094755497\n",
      "160500643816367088\n",
      "259695496911122585\n",
      "420196140727489673\n",
      "679891637638612258\n",
      "1100087778366101931\n",
      "1779979416004714189\n",
      "2880067194370816120\n",
      "4660046610375530309\n",
      "7540113804746346429\n",
      "12200160415121876738\n",
      "19740274219868223167\n",
      "31940434634990099905\n",
      "51680708854858323072\n",
      "83621143489848422977\n",
      "135301852344706746049\n"
     ]
    }
   ],
   "source": [
    "golden_list  = [0,1]\n",
    "for number in golden_list:\n",
    "    print(golden_list[-1])\n",
    "    new_number = golden_list[-1] + golden_list[-2] \n",
    "    golden_list.append(new_number)\n",
    "    if len(golden_list) == 100:\n",
    "        break"
   ]
  },
  {
   "cell_type": "code",
   "execution_count": 4,
   "metadata": {},
   "outputs": [
    {
     "name": "stdout",
     "output_type": "stream",
     "text": [
      "1\n",
      "2\n",
      "3\n",
      "5\n",
      "8\n",
      "13\n",
      "21\n",
      "34\n",
      "55\n",
      "89\n",
      "144\n",
      "233\n",
      "377\n",
      "610\n",
      "987\n",
      "1597\n",
      "2584\n",
      "4181\n",
      "6765\n",
      "10946\n",
      "17711\n",
      "28657\n",
      "46368\n",
      "75025\n",
      "121393\n",
      "196418\n",
      "317811\n",
      "514229\n",
      "832040\n",
      "1346269\n",
      "2178309\n",
      "3524578\n",
      "5702887\n",
      "9227465\n",
      "14930352\n",
      "24157817\n",
      "39088169\n",
      "63245986\n",
      "102334155\n",
      "165580141\n",
      "267914296\n",
      "433494437\n",
      "701408733\n",
      "1134903170\n",
      "1836311903\n",
      "2971215073\n",
      "4807526976\n",
      "7778742049\n",
      "12586269025\n",
      "20365011074\n",
      "32951280099\n",
      "53316291173\n",
      "86267571272\n",
      "139583862445\n",
      "225851433717\n",
      "365435296162\n",
      "591286729879\n",
      "956722026041\n",
      "1548008755920\n",
      "2504730781961\n",
      "4052739537881\n",
      "6557470319842\n",
      "10610209857723\n",
      "17167680177565\n",
      "27777890035288\n",
      "44945570212853\n",
      "72723460248141\n",
      "117669030460994\n",
      "190392490709135\n",
      "308061521170129\n",
      "498454011879264\n",
      "806515533049393\n",
      "1304969544928657\n",
      "2111485077978050\n",
      "3416454622906707\n",
      "5527939700884757\n",
      "8944394323791464\n",
      "14472334024676221\n",
      "23416728348467685\n",
      "37889062373143906\n",
      "61305790721611591\n",
      "99194853094755497\n",
      "160500643816367088\n",
      "259695496911122585\n",
      "420196140727489673\n",
      "679891637638612258\n",
      "1100087778366101931\n",
      "1779979416004714189\n",
      "2880067194370816120\n",
      "4660046610375530309\n",
      "7540113804746346429\n",
      "12200160415121876738\n",
      "19740274219868223167\n",
      "31940434634990099905\n",
      "51680708854858323072\n",
      "83621143489848422977\n",
      "135301852344706746049\n",
      "218922995834555169026\n",
      "354224848179261915075\n",
      "573147844013817084101\n",
      "927372692193078999176\n",
      "103\n"
     ]
    }
   ],
   "source": [
    "golden_list  = [0,1]\n",
    "for number in range(0,101):\n",
    "    new_number = golden_list[-2] + golden_list[-1]\n",
    "    golden_list.append(new_number)\n",
    "    print(golden_list[-1])\n",
    "print(len(golden_list))"
   ]
  },
  {
   "cell_type": "code",
   "execution_count": 5,
   "metadata": {},
   "outputs": [
    {
     "name": "stdout",
     "output_type": "stream",
     "text": [
      "1\n",
      "1\n",
      "2\n",
      "3\n",
      "5\n",
      "8\n",
      "13\n",
      "21\n",
      "34\n",
      "55\n",
      "89\n",
      "144\n",
      "233\n",
      "377\n",
      "610\n",
      "987\n",
      "1597\n",
      "2584\n",
      "4181\n",
      "6765\n",
      "10946\n",
      "17711\n",
      "28657\n",
      "46368\n",
      "75025\n",
      "121393\n",
      "196418\n",
      "317811\n",
      "514229\n",
      "832040\n",
      "1346269\n",
      "2178309\n",
      "3524578\n",
      "5702887\n",
      "9227465\n",
      "14930352\n",
      "24157817\n",
      "39088169\n",
      "63245986\n",
      "102334155\n",
      "165580141\n",
      "267914296\n",
      "433494437\n",
      "701408733\n",
      "1134903170\n",
      "1836311903\n",
      "2971215073\n",
      "4807526976\n",
      "7778742049\n",
      "12586269025\n",
      "20365011074\n",
      "32951280099\n",
      "53316291173\n",
      "86267571272\n",
      "139583862445\n",
      "225851433717\n",
      "365435296162\n",
      "591286729879\n",
      "956722026041\n",
      "1548008755920\n",
      "2504730781961\n",
      "4052739537881\n",
      "6557470319842\n",
      "10610209857723\n",
      "17167680177565\n",
      "27777890035288\n",
      "44945570212853\n",
      "72723460248141\n",
      "117669030460994\n",
      "190392490709135\n",
      "308061521170129\n",
      "498454011879264\n",
      "806515533049393\n",
      "1304969544928657\n",
      "2111485077978050\n",
      "3416454622906707\n",
      "5527939700884757\n",
      "8944394323791464\n",
      "14472334024676221\n",
      "23416728348467685\n",
      "37889062373143906\n",
      "61305790721611591\n",
      "99194853094755497\n",
      "160500643816367088\n",
      "259695496911122585\n",
      "420196140727489673\n",
      "679891637638612258\n",
      "1100087778366101931\n",
      "1779979416004714189\n",
      "2880067194370816120\n",
      "4660046610375530309\n",
      "7540113804746346429\n",
      "12200160415121876738\n",
      "19740274219868223167\n",
      "31940434634990099905\n",
      "51680708854858323072\n",
      "83621143489848422977\n",
      "135301852344706746049\n"
     ]
    }
   ],
   "source": [
    "golden_list = [0,1]\n",
    "while len(golden_list) != 100:\n",
    "        print(golden_list[-1])\n",
    "        new_number = golden_list[-2] + golden_list[-1]\n",
    "        golden_list.append(new_number)"
   ]
  },
  {
   "cell_type": "markdown",
   "metadata": {},
   "source": [
    "### 1.3 Functions"
   ]
  },
  {
   "cell_type": "markdown",
   "metadata": {},
   "source": [
    "A function is a named block of code that performs a specific task. You can reuse it whenever needed — this helps keep your code organized, readable, and efficient.\n",
    "\n",
    "\n",
    "Definition:\n",
    "A function is a reusable section of code that performs a specific task when it is \"called.\"\n",
    "\n",
    "\n",
    "Why Use Functions?\n",
    "Avoid repeating code\n",
    "Make programs easier to understand\n",
    "Break complex problems into simpler parts"
   ]
  },
  {
   "cell_type": "code",
   "execution_count": null,
   "metadata": {},
   "outputs": [],
   "source": []
  },
  {
   "cell_type": "markdown",
   "metadata": {},
   "source": [
    "#### 1.3.1 Exercises"
   ]
  },
  {
   "cell_type": "code",
   "execution_count": null,
   "metadata": {},
   "outputs": [],
   "source": []
  },
  {
   "cell_type": "markdown",
   "metadata": {},
   "source": [
    "#### 1.3.1 Write Recursive Functions"
   ]
  },
  {
   "cell_type": "markdown",
   "metadata": {},
   "source": [
    "A recursive function is a function that calls itself in order to solve a problem.\n",
    "It breaks a complex problem into smaller sub-problems of the same type, solving them step by step — until it reaches a base case that stops the recursion.\n",
    "\n",
    "Definition:\n",
    "A recursive function is a function that solves a problem by calling itself with a smaller input, and combines the results.\n",
    "\n",
    "Key Components:\n",
    "<ul>\n",
    "<li>Base Case – the condition under which the function stops calling itself.\n",
    "<li>Recursive Case – the part of the function where it calls itself with a smaller input.\n",
    "</ul>"
   ]
  },
  {
   "cell_type": "code",
   "execution_count": 1,
   "metadata": {},
   "outputs": [
    {
     "name": "stdout",
     "output_type": "stream",
     "text": [
      "5\n",
      "4\n",
      "3\n",
      "2\n",
      "1\n",
      "Blast off!\n"
     ]
    }
   ],
   "source": [
    "def countdown(n):\n",
    "    if n == 0:\n",
    "        print(\"Blast off!\")\n",
    "    else:\n",
    "        print(n)\n",
    "        countdown(n - 1)\n",
    "\n",
    "countdown(5)\n"
   ]
  },
  {
   "cell_type": "code",
   "execution_count": null,
   "metadata": {},
   "outputs": [],
   "source": [
    "# example Factorial function"
   ]
  },
  {
   "cell_type": "markdown",
   "metadata": {},
   "source": [
    "#### 1.3.2 Exercises"
   ]
  },
  {
   "cell_type": "code",
   "execution_count": null,
   "metadata": {},
   "outputs": [],
   "source": [
    "# Calculate a Fibonacci sequence recursively"
   ]
  },
  {
   "cell_type": "markdown",
   "metadata": {},
   "source": [
    "### 1.4 Data Structures"
   ]
  },
  {
   "cell_type": "markdown",
   "metadata": {},
   "source": [
    "#### 1.4.1 Lists "
   ]
  },
  {
   "cell_type": "code",
   "execution_count": null,
   "metadata": {},
   "outputs": [],
   "source": []
  },
  {
   "cell_type": "markdown",
   "metadata": {},
   "source": [
    "#### 1.4.2 Tuple"
   ]
  },
  {
   "cell_type": "code",
   "execution_count": null,
   "metadata": {},
   "outputs": [],
   "source": []
  },
  {
   "cell_type": "markdown",
   "metadata": {},
   "source": [
    "#### 1.4.3 Dictionaries"
   ]
  },
  {
   "cell_type": "code",
   "execution_count": null,
   "metadata": {},
   "outputs": [],
   "source": []
  },
  {
   "cell_type": "markdown",
   "metadata": {},
   "source": [
    "#### 1.4.4 Sets"
   ]
  },
  {
   "cell_type": "code",
   "execution_count": null,
   "metadata": {},
   "outputs": [],
   "source": []
  },
  {
   "cell_type": "markdown",
   "metadata": {},
   "source": [
    "### 1.5 Error Handling and Debugging"
   ]
  },
  {
   "cell_type": "code",
   "execution_count": null,
   "metadata": {},
   "outputs": [],
   "source": []
  },
  {
   "cell_type": "markdown",
   "metadata": {},
   "source": [
    "### 1.6 Object Oriented Programming"
   ]
  },
  {
   "cell_type": "code",
   "execution_count": null,
   "metadata": {},
   "outputs": [],
   "source": []
  },
  {
   "cell_type": "markdown",
   "metadata": {},
   "source": [
    "#### 1.6.x Advanced OOP"
   ]
  },
  {
   "cell_type": "code",
   "execution_count": null,
   "metadata": {},
   "outputs": [],
   "source": []
  },
  {
   "cell_type": "markdown",
   "metadata": {},
   "source": [
    "### 1.7 Third Party Libraries"
   ]
  },
  {
   "cell_type": "code",
   "execution_count": null,
   "metadata": {},
   "outputs": [],
   "source": []
  },
  {
   "cell_type": "markdown",
   "metadata": {},
   "source": [
    "### 1.8 Projects"
   ]
  },
  {
   "cell_type": "code",
   "execution_count": null,
   "metadata": {},
   "outputs": [],
   "source": []
  },
  {
   "cell_type": "markdown",
   "metadata": {},
   "source": [
    "### 1.9 Exercises"
   ]
  },
  {
   "cell_type": "code",
   "execution_count": null,
   "metadata": {},
   "outputs": [],
   "source": [
    "def sum(a,b):\n",
    "    c = a + b\n",
    "    return c"
   ]
  },
  {
   "cell_type": "code",
   "execution_count": null,
   "metadata": {},
   "outputs": [
    {
     "name": "stdout",
     "output_type": "stream",
     "text": [
      "15.5\n"
     ]
    }
   ],
   "source": [
    "print(sum(10,5.5))"
   ]
  },
  {
   "cell_type": "code",
   "execution_count": null,
   "metadata": {},
   "outputs": [
    {
     "name": "stdout",
     "output_type": "stream",
     "text": [
      "9.0\n",
      "5.0\n",
      "3.5\n",
      "14.0\n"
     ]
    }
   ],
   "source": [
    "a = float(input('Enter a number:'))\n",
    "b = float(input('Enter a number:'))\n",
    "print(a + b)\n",
    "print(a - b)\n",
    "print(a / b)\n",
    "print(a * b)"
   ]
  },
  {
   "cell_type": "code",
   "execution_count": null,
   "metadata": {},
   "outputs": [
    {
     "name": "stdout",
     "output_type": "stream",
     "text": [
      "10.0\n"
     ]
    }
   ],
   "source": [
    "a = 10 \n",
    "b = 5\n",
    "if a < 5:\n",
    "    print('finished')\n",
    "else:\n",
    "    a = a/2\n",
    "    print(a + b)"
   ]
  },
  {
   "cell_type": "code",
   "execution_count": null,
   "metadata": {},
   "outputs": [
    {
     "name": "stdout",
     "output_type": "stream",
     "text": [
      ".\n"
     ]
    }
   ],
   "source": [
    "a = 15 \n",
    "if a == 12: \n",
    "    print('finished')\n",
    "elif a != 15:\n",
    "    print('not work')\n",
    "elif a > 20: \n",
    "    print('worked')\n",
    "elif a <= 16:\n",
    "    print('.')\n",
    "else:\n",
    "    print('did not work') "
   ]
  },
  {
   "cell_type": "code",
   "execution_count": null,
   "metadata": {},
   "outputs": [
    {
     "data": {
      "text/plain": [
       "True"
      ]
     },
     "execution_count": 6,
     "metadata": {},
     "output_type": "execute_result"
    }
   ],
   "source": [
    "a = 1\n",
    "a == True"
   ]
  },
  {
   "cell_type": "code",
   "execution_count": null,
   "metadata": {},
   "outputs": [
    {
     "name": "stdout",
     "output_type": "stream",
     "text": [
      "guess again\n"
     ]
    }
   ],
   "source": [
    "a =int(input('Enter a number:'))\n",
    "if a == 5:\n",
    "    print('right')\n",
    "else:\n",
    "    print('guess again') "
   ]
  },
  {
   "cell_type": "code",
   "execution_count": null,
   "metadata": {},
   "outputs": [
    {
     "name": "stdout",
     "output_type": "stream",
     "text": [
      "correct:\n"
     ]
    }
   ],
   "source": [
    "def guessing_game(b): \n",
    "    a = int(input('enter number:'))\n",
    "    if a > b:\n",
    "    \n",
    "        print('too high')\n",
    "        return guessing_game(b)\n",
    "    elif a < b:\n",
    "        print('too low:')\n",
    "        return guessing_game(b)\n",
    "    else:\n",
    "        print('correct:')\n",
    "    \n",
    "guessing_game(15)"
   ]
  },
  {
   "cell_type": "code",
   "execution_count": null,
   "metadata": {},
   "outputs": [],
   "source": [
    "string2 = \"don't forget this\"\n",
    "for charater in string2 [:: -1]:\n",
    "    print(charater)"
   ]
  },
  {
   "cell_type": "code",
   "execution_count": null,
   "metadata": {},
   "outputs": [],
   "source": [
    "name = \"no lemon, no melon\"\n",
    "name = name.replace(' ','')\n",
    "name1 = name[::-1]\n",
    "if  name == name1:\n",
    "    print(\"True\")"
   ]
  },
  {
   "cell_type": "code",
   "execution_count": null,
   "metadata": {},
   "outputs": [],
   "source": [
    "for charater in name,name1[0::]:\n",
    "    print(charater)"
   ]
  },
  {
   "cell_type": "code",
   "execution_count": null,
   "metadata": {},
   "outputs": [],
   "source": [
    "string = \"no lemon, no melon\"\n",
    "# removing undesired characters \n",
    "string = string.replace(' ','')\n",
    "string = string.lower()\n",
    "#strating the pointers\n",
    "left = 0\n",
    "right = len(string)-1\n",
    "#checking the string for palidrome\n",
    "while left < right:\n",
    "    if string[left] != string[right]:\n",
    "        print('it is not a palindrome')\n",
    "        break\n",
    "    left += 1\n",
    "    right -= 1\n",
    "    if left >= right:\n",
    "        print('it is a palindrome')"
   ]
  },
  {
   "cell_type": "code",
   "execution_count": null,
   "metadata": {},
   "outputs": [],
   "source": [
    "def palindrome_check(palindrome):\n",
    "#name of the function\n",
    "    string = palindrome\n",
    "    # removing undesired characters \n",
    "    string = string.replace(' ','')\n",
    "    string = string.lower()\n",
    "    #strating the pointers\n",
    "    left = 0\n",
    "    right = len(string)-1\n",
    "    #checking the string for palidrome\n",
    "    while left < right:\n",
    "        if string[left] != string[right]:\n",
    "            return \"no\"\n",
    "        left += 1\n",
    "        right -= 1\n",
    "        if left >= right:\n",
    "            return \"yes\"\n",
    "a= palindrome_check('no lemon, no melon')\n",
    "print(a)"
   ]
  },
  {
   "cell_type": "code",
   "execution_count": null,
   "metadata": {},
   "outputs": [
    {
     "name": "stdout",
     "output_type": "stream",
     "text": [
      "6.696\n",
      "0.32851481379310343\n"
     ]
    }
   ],
   "source": [
    "#To be continued\n",
    "\n",
    "def Beer(n,p,o=11.16):\n",
    "    return(n*p*o)\n",
    "print(Beer(5,0.12))\n",
    "\n",
    "\n",
    "def BAC(a,w,r,h,):\n",
    "    bac= (a * 5.14 / w * r) - 0.015 * h\n",
    "    return(bac) \n",
    "\n",
    "print(BAC(Beer(12,0.15),174,0.68,5))   "
   ]
  },
  {
   "cell_type": "code",
   "execution_count": 5,
   "metadata": {},
   "outputs": [
    {
     "name": "stdout",
     "output_type": "stream",
     "text": [
      "25\n",
      "25\n",
      "50\n",
      "[1, 4, 9, 16, 25]\n",
      "[1, 4, 9, 16, 25]\n"
     ]
    }
   ],
   "source": [
    "# declaring a function for squaring a number\n",
    "def square_number(num):\n",
    "    return num * num\n",
    "\n",
    "print(square_number(5))\n",
    "\n",
    "# Example lambda function\n",
    "square = lambda x: x * x\n",
    "print(square(5))\n",
    "\n",
    "# Lambda function with multiple arguments\n",
    "multiply = lambda x, y: x * y\n",
    "print(multiply(5, 10))\n",
    "\n",
    "#lambda with for loop\n",
    "numbers = [1, 2, 3, 4, 5]\n",
    "squared_numbers = list(map(lambda x: x * x, numbers))\n",
    "print(squared_numbers)\n",
    "\n",
    "# the for loop equivalent\n",
    "squared_numbers = []\n",
    "for number in numbers:\n",
    "    squared_numbers.append(number * number)\n",
    "print(squared_numbers)\n",
    "# Lambda function with filter"
   ]
  },
  {
   "cell_type": "code",
   "execution_count": 1,
   "metadata": {},
   "outputs": [
    {
     "name": "stdout",
     "output_type": "stream",
     "text": [
      "Year: 2025, Capital: 2160.00, previous capital: 1000.00,interest earned: 160.00\n",
      "Year: 2026, Capital: 3412.80, previous capital: 2160.00,interest earned: 252.80\n",
      "Year: 2027, Capital: 4765.82, previous capital: 3412.80,interest earned: 353.02\n",
      "Year: 2028, Capital: 6227.09, previous capital: 4765.82,interest earned: 461.27\n",
      "Year: 2029, Capital: 7805.26, previous capital: 6227.09,interest earned: 578.17\n",
      "Year: 2030, Capital: 9509.68, previous capital: 7805.26,interest earned: 704.42\n",
      "Year: 2031, Capital: 11350.45, previous capital: 9509.68,interest earned: 840.77\n",
      "Year: 2032, Capital: 13338.49, previous capital: 11350.45,interest earned: 988.04\n",
      "Year: 2033, Capital: 15485.57, previous capital: 13338.49,interest earned: 1147.08\n",
      "Year: 2034, Capital: 17804.41, previous capital: 15485.57,interest earned: 1318.85\n",
      "Year: 2035, Capital: 20308.77, previous capital: 17804.41,interest earned: 1504.35\n",
      "Year: 2036, Capital: 23013.47, previous capital: 20308.77,interest earned: 1704.70\n",
      "Year: 2037, Capital: 25934.54, previous capital: 23013.47,interest earned: 1921.08\n",
      "Year: 2038, Capital: 29089.31, previous capital: 25934.54,interest earned: 2154.76\n",
      "Year: 2039, Capital: 32496.45, previous capital: 29089.31,interest earned: 2407.14\n",
      "Year: 2040, Capital: 36176.17, previous capital: 32496.45,interest earned: 2679.72\n",
      "Year: 2041, Capital: 40150.26, previous capital: 36176.17,interest earned: 2974.09\n",
      "Year: 2042, Capital: 44442.28, previous capital: 40150.26,interest earned: 3292.02\n",
      "Year: 2043, Capital: 49077.67, previous capital: 44442.28,interest earned: 3635.38\n",
      "Year: 2044, Capital: 54083.88, previous capital: 49077.67,interest earned: 4006.21\n",
      "Year: 2045, Capital: 59490.59, previous capital: 54083.88,interest earned: 4406.71\n"
     ]
    }
   ],
   "source": [
    "#compound interest calculation\n",
    "capital = 1000\n",
    "interest_rate = 0.08\n",
    "counter = 1\n",
    "previous_capital = capital\n",
    "extra_year_investment = 1000\n",
    "for year in range(2025, 2046):\n",
    "    new_capital = (previous_capital+extra_year_investment)*(1+interest_rate)\n",
    "    print(f'Year: {year}, Capital: {new_capital:.2f}, previous capital: {previous_capital:.2f},interest earned: {new_capital-previous_capital-extra_year_investment:.2f}')\n",
    "    previous_capital = new_capital"
   ]
  },
  {
   "cell_type": "code",
   "execution_count": 5,
   "metadata": {},
   "outputs": [
    {
     "data": {
      "text/plain": [
       "{}"
      ]
     },
     "execution_count": 5,
     "metadata": {},
     "output_type": "execute_result"
    }
   ],
   "source": [
    "#tuple vs list\n",
    "my_list = [1, 2, 3, 4, 5]\n",
    "a = {}\n",
    "my_tuple = (1, a, 3, 4, 5)\n",
    "\n",
    "my_tuple[1]"
   ]
  },
  {
   "cell_type": "markdown",
   "metadata": {},
   "source": [
    "## 2. Algorithms"
   ]
  },
  {
   "cell_type": "markdown",
   "metadata": {},
   "source": [
    "### 2.1 O Notation"
   ]
  },
  {
   "cell_type": "code",
   "execution_count": 6,
   "metadata": {},
   "outputs": [
    {
     "name": "stdout",
     "output_type": "stream",
     "text": [
      "Total combinations: 6000\n",
      "exponent 1.8890756251918215\n"
     ]
    }
   ],
   "source": [
    "list_1 = [1, 2, 3, 4, 5]\n",
    "list_2 = [6, 7, 8, 9, 10]\n",
    "list_3 = [11, 12, 13, 14, 15]\n",
    "counter = 0 \n",
    "\n",
    "#nested for loops are exponential in complexity\n",
    "for i in range(100):\n",
    "    for j in range(20):\n",
    "        for z in range(3):\n",
    "            #print(f\"({list_1[i]}, {list_2[j]}, {list_1[z]})\")\n",
    "            counter += 1\n",
    "\n",
    "print(f\"Total combinations: {counter}\")\n",
    "import math\n",
    "print('exponent', math.log(counter, 100)) "
   ]
  },
  {
   "cell_type": "code",
   "execution_count": 7,
   "metadata": {},
   "outputs": [
    {
     "name": "stdout",
     "output_type": "stream",
     "text": [
      "   A   B   C\n",
      "0  1   6  11\n",
      "1  2   7  12\n",
      "2  3   8  13\n",
      "3  4   9  14\n",
      "4  5  10  15\n",
      "    0   1   2   3   4\n",
      "A   1   2   3   4   5\n",
      "B   6   7   8   9  10\n",
      "C  11  12  13  14  15\n"
     ]
    }
   ],
   "source": [
    "import pandas as pd\n",
    "\n",
    "# create a dummy dataframe\n",
    "df = pd.DataFrame({\n",
    "    'A': [1, 2, 3, 4, 5],\n",
    "    'B': [6, 7, 8, 9, 10],\n",
    "    'C': [11, 12, 13, 14, 15]\n",
    "})\n",
    "print(df)\n",
    "df = df.T\n",
    "print(df)"
   ]
  },
  {
   "cell_type": "code",
   "execution_count": 3,
   "metadata": {},
   "outputs": [
    {
     "name": "stdout",
     "output_type": "stream",
     "text": [
      "index: 0, modified index: 1, el: 2025-01-01, other el: 2024-12-02\n",
      "index: 1, modified index: 2, el: 2024-12-02, other el: 2024-06-03\n",
      "index: 2, modified index: 3, el: 2024-06-03, other el: 2023-01-01\n",
      "index: 3, modified index: 4, el: 2023-01-01, other el: 2022-01-01\n"
     ]
    }
   ],
   "source": [
    "# List indexing with for loop\n",
    "my_list = ['2025-01-01', '2024-12-02', '2024-06-03','2023-01-01','2022-01-01']\n",
    "len(my_list) \n",
    "range(len(my_list)) \n",
    "for i in range(len(my_list)-1):\n",
    "    #print(i)\n",
    "    print(f'index: {i}, modified index: {i+1}, el: {my_list[i]}, other el: {my_list[i+1]}') \n"
   ]
  },
  {
   "cell_type": "code",
   "execution_count": null,
   "metadata": {},
   "outputs": [
    {
     "name": "stdout",
     "output_type": "stream",
     "text": [
      "0\n",
      "1\n",
      "2\n",
      "yes\n"
     ]
    }
   ],
   "source": [
    "#enumerate example\n",
    "d = [\"5-10-2024\",\"3-5-2024\",\"2-12-2024\"]\n",
    "for x,y in enumerate(d):\n",
    "    print(x+1)\n",
    "    # print(y,d[x])\n",
    "\n",
    "    # print(y[x-1])\n",
    "\n",
    "#checking if a key exists in a dictionary\n",
    "my = {'5-10-2024':{'APPl':1}}\n",
    "if 'APPl' in my['5-10-2024']:\n",
    "    print('yes')"
   ]
  },
  {
   "cell_type": "markdown",
   "metadata": {},
   "source": [
    "## 3. Operating Systems"
   ]
  },
  {
   "cell_type": "code",
   "execution_count": null,
   "metadata": {},
   "outputs": [],
   "source": []
  },
  {
   "cell_type": "markdown",
   "metadata": {},
   "source": [
    "## 4. Computer Architecture"
   ]
  },
  {
   "cell_type": "code",
   "execution_count": null,
   "metadata": {},
   "outputs": [],
   "source": []
  }
 ],
 "metadata": {
  "kernelspec": {
   "display_name": "finance",
   "language": "python",
   "name": "python3"
  },
  "language_info": {
   "codemirror_mode": {
    "name": "ipython",
    "version": 3
   },
   "file_extension": ".py",
   "mimetype": "text/x-python",
   "name": "python",
   "nbconvert_exporter": "python",
   "pygments_lexer": "ipython3",
   "version": "3.13.2"
  }
 },
 "nbformat": 4,
 "nbformat_minor": 2
}
