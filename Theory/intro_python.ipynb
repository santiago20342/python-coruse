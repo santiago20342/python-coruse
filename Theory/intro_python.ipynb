{
 "cells": [
  {
   "cell_type": "markdown",
   "metadata": {},
   "source": [
    "# Introduction to Programming with Python"
   ]
  },
  {
   "cell_type": "markdown",
   "metadata": {},
   "source": [
    "## The Pillars of Computer Science\n",
    "The 4 concepts/areas of knowledge in which any issue in computer science fall onto\n",
    "1. Programming Languages: the way in which we give instructions to computers.\n",
    "2. Computer Architecture: the physical components of computers and how they relate to each other. \n",
    "3. Algorithms: Step-by-step instructions to solve a problem.\n",
    "4. Operating Systems: fundamental software that connects and manages the hardware of the computer. "
   ]
  },
  {
   "cell_type": "markdown",
   "metadata": {},
   "source": [
    "## 1. Programming Languages: Python"
   ]
  },
  {
   "cell_type": "markdown",
   "metadata": {},
   "source": [
    "### 1.1 Variables, Data Types and Basic Operations"
   ]
  },
  {
   "cell_type": "code",
   "execution_count": null,
   "metadata": {},
   "outputs": [],
   "source": [
    "# Variables and Assignment\n",
    "x = 5\n",
    "y = 'lol'\n",
    "z = {'key': 'value'}\n",
    "p = (x, y)\n",
    "q = [1, 2, 3]\n",
    "r = {1,2,3}\n",
    "a = True\n",
    "b = 3.14"
   ]
  },
  {
   "cell_type": "code",
   "execution_count": null,
   "metadata": {},
   "outputs": [],
   "source": [
    "# Basic Data Types: `int`, `float`, `str`, `bool`, `list`, `tuple`, `dict`, 'set'\n",
    "print(type(x))#Integer is a whole number, discrete (without decimals)\n",
    "print(type(y))#Characters and can be anything but will behave like 'string' or 'text';\n",
    "              #numbers can be used as strings, but will no behave like numbers: HEX html (encoding colors with numbes) #FF0001112\n",
    "              #numbers can also be used to store information #like phone numbers, zip codes, etc.\n",
    "print(type(z))#Dictionary is a collection of key-value pairs, where each key is unique\n",
    "print(type(p))#Tuple is an ordered collection of elements, similar to a list, but immutable (cannot be changed)\n",
    "print(type(q))#List is an ordered collection of elements, which can be changed (mutable)\n",
    "print(type(r))#Set is an unordered collection of unique elements, which can be changed (mutable)\n",
    "print(type(a))#Boolean is a binary value, either True or False\n",
    "print(type(b))#Float is a number that can have decimal points"
   ]
  },
  {
   "cell_type": "code",
   "execution_count": null,
   "metadata": {},
   "outputs": [],
   "source": [
    "# Arithmetic Operators: `+`, `-`, `*`, `/`, `%`,'**', '//'\n",
    "x = 10\n",
    "y = 7 \n",
    "z = 220\n",
    "print(x + y)# Adds the numbers together \n",
    "print(x - z)# Substars the numbers \n",
    "print(z / y)# Divides the numbers \n",
    "print(x * z)# Multipliy the numbers\n",
    "print(220 % y)# Divides the numbers and returns the remainder(can be used to chekc odd or even)\n",
    "print(y ** x)# Power of the second number to the first number\n",
    "print(y // z)# Divides the numbers and rounds it down if it is a float\n",
    "#how // works\n",
    "numbers  = (list(range(0,11)))\n",
    "for number in numbers:\n",
    "    print(number,number/10,number // 10)"
   ]
  },
  {
   "cell_type": "code",
   "execution_count": null,
   "metadata": {},
   "outputs": [],
   "source": [
    "# String manipulation: concatenation, string formatting\n",
    "# define a string \n",
    "my_string = \"hello world\"\n",
    "# slice a string\n",
    "word1 = my_string[:5]\n",
    "print(word1)\n",
    "str_list = my_string.split()\n",
    "print(str_list[0])\n",
    "word1,word2= my_string.split()\n",
    "print(word1)\n",
    "print(word2)\n",
    "\n",
    "#If you try this there will be an error\n",
    "# string = \"hello word my\"\n",
    "# word1,word2= string.split()\n",
    "# print(word1)\n",
    "# print(word2)\n",
    "\n",
    "# multiply a string by a number\n",
    "x = my_string * 3\n",
    "print(x)\n",
    "# use a for to iterate over a string\n",
    "for character in my_string:\n",
    "    print(character * 4)"
   ]
  },
  {
   "cell_type": "code",
   "execution_count": null,
   "metadata": {},
   "outputs": [],
   "source": [
    "# replace method\n",
    "replace_string = my_string.replace(\"e\",str(3))\n",
    "print(replace_string)\n",
    "# reverse a string\n",
    "reversed_string = my_string[:5:-1]\n",
    "print(reversed_string)\n",
    "\n",
    "reversed_string = my_string[4::-1]\n",
    "print(reversed_string)\n",
    "\n",
    "reversed_string_1 = my_string[-7::-1]\n",
    "print(reversed_string_1)\n",
    "# capitalize a string\n",
    "string_upper = my_string.upper()\n",
    "print(string_upper)\n",
    "# make the string lower case\n",
    "string_lower = string_upper.lower()\n",
    "print(string_lower)\n",
    "# paste two strings together\n",
    "together_string = string_upper + ' '  + string_lower\n",
    "print(together_string)"
   ]
  },
  {
   "cell_type": "code",
   "execution_count": null,
   "metadata": {},
   "outputs": [],
   "source": [
    "# User input with `input()`\n",
    "#assign a variable to the input\n",
    "\n",
    "user_input = input('Please enter something: ')\n",
    "print(\"You entered:\", user_input)\n",
    "print(\"Type of input:\", type(user_input))\n",
    "try:\n",
    "    user_input = int(user_input)\n",
    "    print('Square of number:', user_input ** 2)\n",
    "except:\n",
    "    print('Invalid input. Please enter a number.')"
   ]
  },
  {
   "cell_type": "code",
   "execution_count": null,
   "metadata": {},
   "outputs": [],
   "source": [
    "name_input = input(\"Please enter your name\")\n",
    "print(type(name_input))\n",
    "for letter in name_input:\n",
    "    print(letter.upper()*2)    \n",
    "reverse_name_input = name_input[::-1]\n",
    "for reverse_letter in reverse_name_input:\n",
    "    print(reverse_letter.upper()*2)\n",
    "print(len(reverse_name_input))\n",
    "print(len(name_input))\n"
   ]
  },
  {
   "cell_type": "markdown",
   "metadata": {},
   "source": [
    "### 1.2 Control Flow"
   ]
  },
  {
   "cell_type": "markdown",
   "metadata": {},
   "source": [
    "Control flow refers to the <b>order</b> in which individual instructions, statements, or function calls <u>are executed or evaluated in a program</u>.\n",
    "\n",
    "In Python (and most programming languages), code is usually executed top to bottom, one line at a time. \n",
    "\n",
    "However, control flow structures allow you to:\n",
    "<ul>\n",
    "<li>Make decisions using conditionals like if, elif, and else.\n",
    "<li>Repeat actions using loops like for and while.\n",
    "</ul>\n",
    "\n",
    "\n",
    "These tools let you write programs that can react to different inputs, handle multiple scenarios, and automate repetitive tasks"
   ]
  },
  {
   "cell_type": "markdown",
   "metadata": {},
   "source": [
    "#### 1.2.1 Conditionals: If, Elif and Else"
   ]
  },
  {
   "cell_type": "markdown",
   "metadata": {},
   "source": [
    "Conditionals are programming statements that allow your program to make decisions.\n",
    "They let you execute certain blocks of code only if specific conditions are true — like answering “yes” or “no” questions inside your program."
   ]
  },
  {
   "cell_type": "code",
   "execution_count": null,
   "metadata": {},
   "outputs": [],
   "source": [
    "# Using the input function + the if statement\n",
    "input_number1 = input(\"Enter number\")\n",
    "input_number2 = input(\"Enter number\")\n",
    "input_letter = input(\"Enter a or b or c or d\")\n",
    "if input_letter == \"a\":\n",
    "    print(int(input_number1)+int(input_number2))\n",
    "if input_letter == \"b\":\n",
    "    print(int(input_number1)-int(input_number2))\n",
    "if input_letter == \"c\":\n",
    "    print(int(input_number1)*int(input_number2))\n",
    "if input_letter == \"d\":\n",
    "    print(int(input_number1)/int(input_number2))"
   ]
  },
  {
   "cell_type": "code",
   "execution_count": null,
   "metadata": {},
   "outputs": [],
   "source": [
    "# if + else statement\n",
    "#write code to print a password as asterisks or the real string based on a condition\n",
    "target = 5\n",
    "input_guess = int(input(\"Guess a number (1-10):\"))\n",
    "if input_guess == target:\n",
    "    print(\"Correct! The number is\", target)\n",
    "else:\n",
    "    print(\"Incorrect! Try again.\")"
   ]
  },
  {
   "cell_type": "code",
   "execution_count": null,
   "metadata": {},
   "outputs": [],
   "source": [
    "#if + elif + else statement\n",
    "input_bmi = float(input(\"Enter your BMI: \"))\n",
    "\n",
    "if input_bmi <= 18.9:\n",
    "    print(\"Underweight\")\n",
    "elif input_bmi < 24.9:\n",
    "    print(\"Normal weight\")\n",
    "elif input_bmi < 29.9:\n",
    "    print(\"Overweight\")\n",
    "else:\n",
    "    print(\"Obesity\")\n",
    "    "
   ]
  },
  {
   "cell_type": "code",
   "execution_count": 4,
   "metadata": {},
   "outputs": [
    {
     "name": "stdout",
     "output_type": "stream",
     "text": [
      "s\n"
     ]
    }
   ],
   "source": [
    "#Take the input from user and check if it is a number, a vowel or something else\n",
    "number = ['1','2','3','4','5','6','7','8','9']\n",
    "vowel = ['a','e','i','o','u']\n",
    "user_input = input(\"enter something\")\n",
    "if user_input in number:\n",
    "    print(\"number\",user_input)\n",
    "elif user_input in vowel:\n",
    "    print(\"vowel\",user_input)\n",
    "else:\n",
    "    print(user_input)"
   ]
  },
  {
   "cell_type": "markdown",
   "metadata": {},
   "source": [
    "#### 1.2.2 For Loops"
   ]
  },
  {
   "cell_type": "markdown",
   "metadata": {},
   "source": [
    "A for loop is a control flow structure that lets you repeat a block of code for each item in a sequence (like a list, string, or range of numbers).\n",
    "\n",
    "Definition:\n",
    "A for loop is used to iterate over a sequence and execute code once for each item in that sequence."
   ]
  },
  {
   "cell_type": "code",
   "execution_count": null,
   "metadata": {},
   "outputs": [],
   "source": [
    "#This are the main uses of for loop but they can be used in othoer ways such to Automate things \n",
    "#For loop can be used to iterate a (list, dictionary ,tuple) into individual elements.\n",
    "#You can perform operations continuously as long as it is running inside a for loop such printing number for 1 to 100 or send a message 100 times.\n",
    "\n",
    "#example 1: Print all even numbers from 0 to 20\n",
    "for number in range(0, 21):\n",
    "    if number % 2 == 0:\n",
    "        print(number)"
   ]
  },
  {
   "cell_type": "markdown",
   "metadata": {},
   "source": [
    "#### 1.2.3 While Loops"
   ]
  },
  {
   "cell_type": "markdown",
   "metadata": {},
   "source": [
    "A while loop is a control flow structure that repeats a block of code as long as a condition remains True.\n",
    "\n",
    "Definition:\n",
    "A while loop keeps running until its condition becomes False. It's useful when you don't know in advance how many times you'll need to repeat something."
   ]
  },
  {
   "cell_type": "code",
   "execution_count": null,
   "metadata": {},
   "outputs": [],
   "source": [
    "#While loop checks a Bool statement and run when it is ture.\n",
    "#A while run is when the Conditionn is true, until the Conditionn is met(False), it will keep on looping. "
   ]
  },
  {
   "cell_type": "markdown",
   "metadata": {},
   "source": [
    "#### 1.2.4 How to calulate the golen ratio"
   ]
  },
  {
   "cell_type": "code",
   "execution_count": null,
   "metadata": {},
   "outputs": [],
   "source": [
    "golden_list  = [0,1]\n",
    "for number in golden_list:\n",
    "    print(golden_list[-1])\n",
    "    new_number = golden_list[-1] + golden_list[-2] \n",
    "    golden_list.append(new_number)\n",
    "    if len(golden_list) == 100:\n",
    "        break"
   ]
  },
  {
   "cell_type": "code",
   "execution_count": null,
   "metadata": {},
   "outputs": [],
   "source": [
    "golden_list  = [0,1]\n",
    "for number in range(0,101):\n",
    "    new_number = golden_list[-2] + golden_list[-1]\n",
    "    golden_list.append(new_number)\n",
    "    print(golden_list[-1])\n",
    "print(len(golden_list))"
   ]
  },
  {
   "cell_type": "code",
   "execution_count": null,
   "metadata": {},
   "outputs": [],
   "source": [
    "golden_list = [0,1]\n",
    "while len(golden_list) != 100:\n",
    "        print(golden_list[-1])\n",
    "        new_number = golden_list[-2] + golden_list[-1]\n",
    "        golden_list.append(new_number)"
   ]
  },
  {
   "cell_type": "markdown",
   "metadata": {},
   "source": [
    "### 1.3 Functions"
   ]
  },
  {
   "cell_type": "markdown",
   "metadata": {},
   "source": [
    "A function is a named block of code that performs a specific task. You can reuse it whenever needed — this helps keep your code organized, readable, and efficient.\n",
    "\n",
    "\n",
    "Definition:\n",
    "A function is a reusable section of code that performs a specific task when it is \"called.\"\n",
    "\n",
    "\n",
    "Why Use Functions?\n",
    "Avoid repeating code\n",
    "Make programs easier to understand\n",
    "Break complex problems into simpler parts"
   ]
  },
  {
   "cell_type": "code",
   "execution_count": null,
   "metadata": {},
   "outputs": [],
   "source": []
  },
  {
   "cell_type": "markdown",
   "metadata": {},
   "source": [
    "#### 1.3.1 Exercises"
   ]
  },
  {
   "cell_type": "code",
   "execution_count": null,
   "metadata": {},
   "outputs": [],
   "source": []
  },
  {
   "cell_type": "markdown",
   "metadata": {},
   "source": [
    "#### 1.3.1 Write Recursive Functions"
   ]
  },
  {
   "cell_type": "markdown",
   "metadata": {},
   "source": [
    "A recursive function is a function that calls itself in order to solve a problem.\n",
    "It breaks a complex problem into smaller sub-problems of the same type, solving them step by step — until it reaches a base case that stops the recursion.\n",
    "\n",
    "Definition:\n",
    "A recursive function is a function that solves a problem by calling itself with a smaller input, and combines the results.\n",
    "\n",
    "Key Components:\n",
    "<ul>\n",
    "<li>Base Case – the condition under which the function stops calling itself.\n",
    "<li>Recursive Case – the part of the function where it calls itself with a smaller input.\n",
    "</ul>"
   ]
  },
  {
   "cell_type": "code",
   "execution_count": null,
   "metadata": {},
   "outputs": [],
   "source": [
    "def countdown(n):\n",
    "    if n == 0:\n",
    "        print(\"Blast off!\")\n",
    "    else:\n",
    "        print(n)\n",
    "        countdown(n - 1)\n",
    "\n",
    "countdown(5)\n"
   ]
  },
  {
   "cell_type": "code",
   "execution_count": null,
   "metadata": {},
   "outputs": [],
   "source": [
    "# example Factorial function"
   ]
  },
  {
   "cell_type": "markdown",
   "metadata": {},
   "source": [
    "#### 1.3.2 Exercises"
   ]
  },
  {
   "cell_type": "code",
   "execution_count": null,
   "metadata": {},
   "outputs": [],
   "source": [
    "# Calculate a Fibonacci sequence recursively"
   ]
  },
  {
   "cell_type": "markdown",
   "metadata": {},
   "source": [
    "### 1.4 Data Structures"
   ]
  },
  {
   "cell_type": "markdown",
   "metadata": {},
   "source": [
    "#### 1.4.1 Lists "
   ]
  },
  {
   "cell_type": "code",
   "execution_count": null,
   "metadata": {},
   "outputs": [],
   "source": []
  },
  {
   "cell_type": "markdown",
   "metadata": {},
   "source": [
    "#### 1.4.2 Tuple"
   ]
  },
  {
   "cell_type": "code",
   "execution_count": null,
   "metadata": {},
   "outputs": [],
   "source": []
  },
  {
   "cell_type": "markdown",
   "metadata": {},
   "source": [
    "#### 1.4.3 Dictionaries"
   ]
  },
  {
   "cell_type": "code",
   "execution_count": null,
   "metadata": {},
   "outputs": [],
   "source": []
  },
  {
   "cell_type": "markdown",
   "metadata": {},
   "source": [
    "#### 1.4.4 Sets"
   ]
  },
  {
   "cell_type": "code",
   "execution_count": null,
   "metadata": {},
   "outputs": [],
   "source": []
  },
  {
   "cell_type": "markdown",
   "metadata": {},
   "source": [
    "### 1.5 Error Handling and Debugging"
   ]
  },
  {
   "cell_type": "code",
   "execution_count": null,
   "metadata": {},
   "outputs": [],
   "source": []
  },
  {
   "cell_type": "markdown",
   "metadata": {},
   "source": [
    "### 1.6 Object Oriented Programming"
   ]
  },
  {
   "cell_type": "code",
   "execution_count": null,
   "metadata": {},
   "outputs": [],
   "source": []
  },
  {
   "cell_type": "markdown",
   "metadata": {},
   "source": [
    "#### 1.6.x Advanced OOP"
   ]
  },
  {
   "cell_type": "code",
   "execution_count": null,
   "metadata": {},
   "outputs": [],
   "source": []
  },
  {
   "cell_type": "markdown",
   "metadata": {},
   "source": [
    "### 1.7 Third Party Libraries"
   ]
  },
  {
   "cell_type": "code",
   "execution_count": null,
   "metadata": {},
   "outputs": [],
   "source": []
  },
  {
   "cell_type": "markdown",
   "metadata": {},
   "source": [
    "### 1.8 Projects"
   ]
  },
  {
   "cell_type": "code",
   "execution_count": null,
   "metadata": {},
   "outputs": [],
   "source": []
  },
  {
   "cell_type": "markdown",
   "metadata": {},
   "source": [
    "### 1.9 Exercises"
   ]
  },
  {
   "cell_type": "code",
   "execution_count": null,
   "metadata": {},
   "outputs": [],
   "source": [
    "def sum(a,b):\n",
    "    c = a + b\n",
    "    return c"
   ]
  },
  {
   "cell_type": "code",
   "execution_count": null,
   "metadata": {},
   "outputs": [],
   "source": [
    "print(sum(10,5.5))"
   ]
  },
  {
   "cell_type": "code",
   "execution_count": null,
   "metadata": {},
   "outputs": [],
   "source": [
    "a = float(input('Enter a number:'))\n",
    "b = float(input('Enter a number:'))\n",
    "print(a + b)\n",
    "print(a - b)\n",
    "print(a / b)\n",
    "print(a * b)"
   ]
  },
  {
   "cell_type": "code",
   "execution_count": null,
   "metadata": {},
   "outputs": [],
   "source": [
    "a = 10 \n",
    "b = 5\n",
    "if a < 5:\n",
    "    print('finished')\n",
    "else:\n",
    "    a = a/2\n",
    "    print(a + b)"
   ]
  },
  {
   "cell_type": "code",
   "execution_count": null,
   "metadata": {},
   "outputs": [],
   "source": [
    "a = 15 \n",
    "if a == 12: \n",
    "    print('finished')\n",
    "elif a != 15:\n",
    "    print('not work')\n",
    "elif a > 20: \n",
    "    print('worked')\n",
    "elif a <= 16:\n",
    "    print('.')\n",
    "else:\n",
    "    print('did not work') "
   ]
  },
  {
   "cell_type": "code",
   "execution_count": null,
   "metadata": {},
   "outputs": [],
   "source": [
    "a = 1\n",
    "a == True"
   ]
  },
  {
   "cell_type": "code",
   "execution_count": null,
   "metadata": {},
   "outputs": [],
   "source": [
    "a =int(input('Enter a number:'))\n",
    "if a == 5:\n",
    "    print('right')\n",
    "else:\n",
    "    print('guess again') "
   ]
  },
  {
   "cell_type": "code",
   "execution_count": null,
   "metadata": {},
   "outputs": [],
   "source": [
    "def guessing_game(b): \n",
    "    a = int(input('enter number:'))\n",
    "    if a > b:\n",
    "    \n",
    "        print('too high')\n",
    "        return guessing_game(b)\n",
    "    elif a < b:\n",
    "        print('too low:')\n",
    "        return guessing_game(b)\n",
    "    else:\n",
    "        print('correct:')\n",
    "    \n",
    "guessing_game(15)"
   ]
  },
  {
   "cell_type": "code",
   "execution_count": null,
   "metadata": {},
   "outputs": [],
   "source": [
    "string2 = \"don't forget this\"\n",
    "for charater in string2 [:: -1]:\n",
    "    print(charater)"
   ]
  },
  {
   "cell_type": "code",
   "execution_count": null,
   "metadata": {},
   "outputs": [],
   "source": [
    "name = \"no lemon, no melon\"\n",
    "name = name.replace(' ','')\n",
    "name1 = name[::-1]\n",
    "if  name == name1:\n",
    "    print(\"True\")"
   ]
  },
  {
   "cell_type": "code",
   "execution_count": null,
   "metadata": {},
   "outputs": [],
   "source": [
    "for charater in name,name1[0::]:\n",
    "    print(charater)"
   ]
  },
  {
   "cell_type": "code",
   "execution_count": null,
   "metadata": {},
   "outputs": [],
   "source": [
    "string = \"no lemon, no melon\"\n",
    "# removing undesired characters \n",
    "string = string.replace(' ','')\n",
    "string = string.lower()\n",
    "#strating the pointers\n",
    "left = 0\n",
    "right = len(string)-1\n",
    "#checking the string for palidrome\n",
    "while left < right:\n",
    "    if string[left] != string[right]:\n",
    "        print('it is not a palindrome')\n",
    "        break\n",
    "    left += 1\n",
    "    right -= 1\n",
    "    if left >= right:\n",
    "        print('it is a palindrome')"
   ]
  },
  {
   "cell_type": "code",
   "execution_count": null,
   "metadata": {},
   "outputs": [],
   "source": [
    "def palindrome_check(palindrome):\n",
    "#name of the function\n",
    "    string = palindrome\n",
    "    # removing undesired characters \n",
    "    string = string.replace(' ','')\n",
    "    string = string.lower()\n",
    "    #strating the pointers\n",
    "    left = 0\n",
    "    right = len(string)-1\n",
    "    #checking the string for palidrome\n",
    "    while left < right:\n",
    "        if string[left] != string[right]:\n",
    "            return \"no\"\n",
    "        left += 1\n",
    "        right -= 1\n",
    "        if left >= right:\n",
    "            return \"yes\"\n",
    "a= palindrome_check('no lemon, no melon')\n",
    "print(a)"
   ]
  },
  {
   "cell_type": "code",
   "execution_count": null,
   "metadata": {},
   "outputs": [],
   "source": [
    "#To be continued\n",
    "\n",
    "def Beer(n,p,o=11.16):\n",
    "    return(n*p*o)\n",
    "print(Beer(5,0.12))\n",
    "\n",
    "\n",
    "def BAC(a,w,r,h,):\n",
    "    bac= (a * 5.14 / w * r) - 0.015 * h\n",
    "    return(bac) \n",
    "\n",
    "print(BAC(Beer(12,0.15),174,0.68,5))   "
   ]
  },
  {
   "cell_type": "code",
   "execution_count": null,
   "metadata": {},
   "outputs": [],
   "source": [
    "# declaring a function for squaring a number\n",
    "def square_number(num):\n",
    "    return num * num\n",
    "\n",
    "print(square_number(5))\n",
    "\n",
    "# Example lambda function\n",
    "square = lambda x: x * x\n",
    "print(square(5))\n",
    "\n",
    "# Lambda function with multiple arguments\n",
    "multiply = lambda x, y: x * y\n",
    "print(multiply(5, 10))\n",
    "\n",
    "#lambda with for loop\n",
    "numbers = [1, 2, 3, 4, 5]\n",
    "squared_numbers = list(map(lambda x: x * x, numbers))\n",
    "print(squared_numbers)\n",
    "\n",
    "# the for loop equivalent\n",
    "squared_numbers = []\n",
    "for number in numbers:\n",
    "    squared_numbers.append(number * number)\n",
    "print(squared_numbers)\n",
    "# Lambda function with filter"
   ]
  },
  {
   "cell_type": "code",
   "execution_count": null,
   "metadata": {},
   "outputs": [],
   "source": [
    "#compound interest calculation\n",
    "capital = 1000\n",
    "interest_rate = 0.08\n",
    "counter = 1\n",
    "previous_capital = capital\n",
    "extra_year_investment = 1000\n",
    "for year in range(2025, 2046):\n",
    "    new_capital = (previous_capital+extra_year_investment)*(1+interest_rate)\n",
    "    print(f'Year: {year}, Capital: {new_capital:.2f}, previous capital: {previous_capital:.2f},interest earned: {new_capital-previous_capital-extra_year_investment:.2f}')\n",
    "    previous_capital = new_capital"
   ]
  },
  {
   "cell_type": "code",
   "execution_count": null,
   "metadata": {},
   "outputs": [],
   "source": [
    "#tuple vs list\n",
    "my_list = [1, 2, 3, 4, 5]\n",
    "a = {}\n",
    "my_tuple = (1, a, 3, 4, 5)\n",
    "\n",
    "my_tuple[1]"
   ]
  },
  {
   "cell_type": "markdown",
   "metadata": {},
   "source": [
    "## 2. Algorithms"
   ]
  },
  {
   "cell_type": "markdown",
   "metadata": {},
   "source": [
    "### 2.1 O Notation"
   ]
  },
  {
   "cell_type": "code",
   "execution_count": null,
   "metadata": {},
   "outputs": [],
   "source": [
    "list_1 = [1, 2, 3, 4, 5]\n",
    "list_2 = [6, 7, 8, 9, 10]\n",
    "list_3 = [11, 12, 13, 14, 15]\n",
    "counter = 0 \n",
    "\n",
    "#nested for loops are exponential in complexity\n",
    "for i in range(100):\n",
    "    for j in range(20):\n",
    "        for z in range(3):\n",
    "            #print(f\"({list_1[i]}, {list_2[j]}, {list_1[z]})\")\n",
    "            counter += 1\n",
    "\n",
    "print(f\"Total combinations: {counter}\")\n",
    "import math\n",
    "print('exponent', math.log(counter, 100)) "
   ]
  },
  {
   "cell_type": "code",
   "execution_count": null,
   "metadata": {},
   "outputs": [],
   "source": [
    "import pandas as pd\n",
    "\n",
    "# create a dummy dataframe\n",
    "df = pd.DataFrame({\n",
    "    'A': [1, 2, 3, 4, 5],\n",
    "    'B': [6, 7, 8, 9, 10],\n",
    "    'C': [11, 12, 13, 14, 15]\n",
    "})\n",
    "print(df)\n",
    "df = df.T\n",
    "print(df)"
   ]
  },
  {
   "cell_type": "code",
   "execution_count": null,
   "metadata": {},
   "outputs": [],
   "source": [
    "# List indexing with for loop\n",
    "my_list = ['2025-01-01', '2024-12-02', '2024-06-03','2023-01-01','2022-01-01']\n",
    "len(my_list) \n",
    "range(len(my_list)) \n",
    "for i in range(len(my_list)-1):\n",
    "    #print(i)\n",
    "    print(f'index: {i}, modified index: {i+1}, el: {my_list[i]}, other el: {my_list[i+1]}') \n"
   ]
  },
  {
   "cell_type": "code",
   "execution_count": null,
   "metadata": {},
   "outputs": [],
   "source": [
    "#enumerate example\n",
    "d = [\"5-10-2024\",\"3-5-2024\",\"2-12-2024\"]\n",
    "for x,y in enumerate(d):\n",
    "    print(x+1)\n",
    "    # print(y,d[x])\n",
    "\n",
    "    # print(y[x-1])\n",
    "\n",
    "#checking if a key exists in a dictionary\n",
    "my = {'5-10-2024':{'APPl':1}}\n",
    "if 'APPl' in my['5-10-2024']:\n",
    "    print('yes')"
   ]
  },
  {
   "cell_type": "markdown",
   "metadata": {},
   "source": [
    "## 3. Operating Systems"
   ]
  },
  {
   "cell_type": "code",
   "execution_count": null,
   "metadata": {},
   "outputs": [],
   "source": []
  },
  {
   "cell_type": "markdown",
   "metadata": {},
   "source": [
    "## 4. Computer Architecture"
   ]
  },
  {
   "cell_type": "code",
   "execution_count": null,
   "metadata": {},
   "outputs": [],
   "source": []
  }
 ],
 "metadata": {
  "kernelspec": {
   "display_name": "finance",
   "language": "python",
   "name": "python3"
  },
  "language_info": {
   "codemirror_mode": {
    "name": "ipython",
    "version": 3
   },
   "file_extension": ".py",
   "mimetype": "text/x-python",
   "name": "python",
   "nbconvert_exporter": "python",
   "pygments_lexer": "ipython3",
   "version": "3.13.3"
  }
 },
 "nbformat": 4,
 "nbformat_minor": 2
}
