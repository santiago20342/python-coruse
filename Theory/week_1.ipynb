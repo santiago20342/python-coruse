{
 "cells": [
  {
   "cell_type": "code",
   "execution_count": 1,
   "metadata": {},
   "outputs": [],
   "source": [
    "def sum(a,b):\n",
    "    c = a + b\n",
    "    return c"
   ]
  },
  {
   "cell_type": "code",
   "execution_count": 2,
   "metadata": {},
   "outputs": [
    {
     "name": "stdout",
     "output_type": "stream",
     "text": [
      "15.5\n"
     ]
    }
   ],
   "source": [
    "print(sum(10,5.5))"
   ]
  },
  {
   "cell_type": "code",
   "execution_count": 3,
   "metadata": {},
   "outputs": [
    {
     "name": "stdout",
     "output_type": "stream",
     "text": [
      "9.0\n",
      "5.0\n",
      "3.5\n",
      "14.0\n"
     ]
    }
   ],
   "source": [
    "a = float(input('Enter a number:'))\n",
    "b = float(input('Enter a number:'))\n",
    "print(a + b)\n",
    "print(a - b)\n",
    "print(a / b)\n",
    "print(a * b)"
   ]
  },
  {
   "cell_type": "code",
   "execution_count": 4,
   "metadata": {},
   "outputs": [
    {
     "name": "stdout",
     "output_type": "stream",
     "text": [
      "10.0\n"
     ]
    }
   ],
   "source": [
    "a = 10 \n",
    "b = 5\n",
    "if a < 5:\n",
    "    print('finished')\n",
    "else:\n",
    "    a = a/2\n",
    "    print(a + b)"
   ]
  },
  {
   "cell_type": "code",
   "execution_count": 5,
   "metadata": {},
   "outputs": [
    {
     "name": "stdout",
     "output_type": "stream",
     "text": [
      ".\n"
     ]
    }
   ],
   "source": [
    "a = 15 \n",
    "if a == 12: \n",
    "    print('finished')\n",
    "elif a != 15:\n",
    "    print('not work')\n",
    "elif a > 20: \n",
    "    print('worked')\n",
    "elif a <= 16:\n",
    "    print('.')\n",
    "else:\n",
    "    print('did not work') "
   ]
  },
  {
   "cell_type": "code",
   "execution_count": 6,
   "metadata": {},
   "outputs": [
    {
     "data": {
      "text/plain": [
       "True"
      ]
     },
     "execution_count": 6,
     "metadata": {},
     "output_type": "execute_result"
    }
   ],
   "source": [
    "a = 1\n",
    "a == True"
   ]
  },
  {
   "cell_type": "code",
   "execution_count": 7,
   "metadata": {},
   "outputs": [
    {
     "name": "stdout",
     "output_type": "stream",
     "text": [
      "guess again\n"
     ]
    }
   ],
   "source": [
    "a =int(input('Enter a number:'))\n",
    "if a == 5:\n",
    "    print('right')\n",
    "else:\n",
    "    print('guess again') "
   ]
  },
  {
   "cell_type": "code",
   "execution_count": 1,
   "metadata": {},
   "outputs": [
    {
     "name": "stdout",
     "output_type": "stream",
     "text": [
      "correct:\n"
     ]
    }
   ],
   "source": [
    "def guessing_game(b): \n",
    "    a = int(input('enter number:'))\n",
    "    if a > b:\n",
    "    \n",
    "        print('too high')\n",
    "        return guessing_game(b)\n",
    "    elif a < b:\n",
    "        print('too low:')\n",
    "        return guessing_game(b)\n",
    "    else:\n",
    "        print('correct:')\n",
    "    \n",
    "guessing_game(15)"
   ]
  },
  {
   "cell_type": "code",
   "execution_count": null,
   "metadata": {},
   "outputs": [],
   "source": [
    "string2 = \"don't forget this\"\n",
    "for charater in string2 [:: -1]:\n",
    "    print(charater)"
   ]
  },
  {
   "cell_type": "code",
   "execution_count": null,
   "metadata": {},
   "outputs": [],
   "source": [
    "name = \"no lemon, no melon\"\n",
    "name = name.replace(' ','')\n",
    "name1 = name[::-1]\n",
    "if  name == name1:\n",
    "    print(\"True\")"
   ]
  },
  {
   "cell_type": "code",
   "execution_count": null,
   "metadata": {},
   "outputs": [],
   "source": [
    "for charater in name,name1[0::]:\n",
    "    print(charater)"
   ]
  },
  {
   "cell_type": "code",
   "execution_count": null,
   "metadata": {},
   "outputs": [],
   "source": [
    "string = \"no lemon, no melon\"\n",
    "# removing undesired characters \n",
    "string = string.replace(' ','')\n",
    "string = string.lower()\n",
    "#strating the pointers\n",
    "left = 0\n",
    "right = len(string)-1\n",
    "#checking the string for palidrome\n",
    "while left < right:\n",
    "    if string[left] != string[right]:\n",
    "        print('it is not a palindrome')\n",
    "        break\n",
    "    left += 1\n",
    "    right -= 1\n",
    "    if left >= right:\n",
    "        print('it is a palindrome')"
   ]
  },
  {
   "cell_type": "code",
   "execution_count": null,
   "metadata": {},
   "outputs": [],
   "source": [
    "def palindrome_check(palindrome):\n",
    "#name of the function\n",
    "    string = palindrome\n",
    "    # removing undesired characters \n",
    "    string = string.replace(' ','')\n",
    "    string = string.lower()\n",
    "    #strating the pointers\n",
    "    left = 0\n",
    "    right = len(string)-1\n",
    "    #checking the string for palidrome\n",
    "    while left < right:\n",
    "        if string[left] != string[right]:\n",
    "            return \"no\"\n",
    "        left += 1\n",
    "        right -= 1\n",
    "        if left >= right:\n",
    "            return \"yes\"\n",
    "a= palindrome_check('no lemon, no melon')\n",
    "print(a)"
   ]
  },
  {
   "cell_type": "code",
   "execution_count": null,
   "metadata": {},
   "outputs": [
    {
     "name": "stdout",
     "output_type": "stream",
     "text": [
      "6.696\n",
      "0.32851481379310343\n"
     ]
    }
   ],
   "source": [
    "#To be continued\n",
    "\n",
    "def Beer(n,p,o=11.16):\n",
    "    return(n*p*o)\n",
    "print(Beer(5,0.12))\n",
    "\n",
    "\n",
    "def BAC(a,w,r,h,):\n",
    "    bac= (a * 5.14 / w * r) - 0.015 * h\n",
    "    return(bac) \n",
    "\n",
    "print(BAC(Beer(12,0.15),174,0.68,5))   "
   ]
  }
 ],
 "metadata": {
  "kernelspec": {
   "display_name": "stat",
   "language": "python",
   "name": "python3"
  },
  "language_info": {
   "codemirror_mode": {
    "name": "ipython",
    "version": 3
   },
   "file_extension": ".py",
   "mimetype": "text/x-python",
   "name": "python",
   "nbconvert_exporter": "python",
   "pygments_lexer": "ipython3",
   "version": "3.13.2"
  }
 },
 "nbformat": 4,
 "nbformat_minor": 2
}
