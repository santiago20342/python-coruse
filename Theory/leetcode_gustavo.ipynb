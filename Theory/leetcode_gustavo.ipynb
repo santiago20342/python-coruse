{
 "cells": [
  {
   "cell_type": "markdown",
   "id": "73fe5676",
   "metadata": {},
   "source": [
    "# Leetcode Exercises"
   ]
  },
  {
   "cell_type": "markdown",
   "id": "2a73cdc7",
   "metadata": {},
   "source": [
    "## 1. Def two sum"
   ]
  },
  {
   "cell_type": "code",
   "execution_count": 2,
   "id": "eb3ab918",
   "metadata": {},
   "outputs": [
    {
     "name": "stdout",
     "output_type": "stream",
     "text": [
      "[0, 1]\n"
     ]
    }
   ],
   "source": [
    "class Solution:\n",
    "    def twoSum(self, nums, target: int):\n",
    "        for i, num in enumerate(nums):\n",
    "            for i2, num2 in enumerate (nums):\n",
    "                if i != i2:\n",
    "                    if num + num2 == target:\n",
    "                        return [i, i2]\n",
    "\n",
    "# Example usage:\n",
    "nums = [2,7,11,15]\n",
    "target = 9\n",
    "solution = Solution()\n",
    "result = solution.twoSum(nums, target)\n",
    "print(result)  # Output: [0, 1]"
   ]
  },
  {
   "cell_type": "markdown",
   "id": "9dfa1207",
   "metadata": {},
   "source": [
    "## 20. Valid Parentheses"
   ]
  },
  {
   "cell_type": "code",
   "execution_count": null,
   "id": "a2ce7473",
   "metadata": {},
   "outputs": [
    {
     "name": "stdout",
     "output_type": "stream",
     "text": [
      "( ['(']\n",
      ") []\n",
      "{ ['{']\n",
      "} []\n",
      "False\n"
     ]
    }
   ],
   "source": [
    "class Solution:\n",
    "    def isValid(self, s: str) -> bool:\n",
    "        opening_chars = '({['\n",
    "        char_pairs = {\n",
    "            ')': '(',\n",
    "            '}': '{',\n",
    "            ']': '['\n",
    "        }\n",
    "        my_list = []\n",
    "        if s[0] in char_pairs:\n",
    "            return False\n",
    "        for item in s:\n",
    "            if item in opening_chars:\n",
    "                my_list.append(item)\n",
    "            elif item in char_pairs:\n",
    "                if bool(my_list) is False:\n",
    "                    return False\n",
    "                if my_list[-1] != char_pairs[item]:\n",
    "                   return False\n",
    "                my_list.pop()\n",
    "            print(item, my_list)  # Debugging line to see the current item and stack state\n",
    "        return len(my_list) == 0\n",
    "\n",
    "\n",
    "# Example usage:\n",
    "s = \"(){}}{\"\n",
    "solution = Solution()\n",
    "result = solution.isValid(s)\n",
    "print(result)  # Output: True"
   ]
  }
 ],
 "metadata": {
  "kernelspec": {
   "display_name": "finance",
   "language": "python",
   "name": "python3"
  },
  "language_info": {
   "codemirror_mode": {
    "name": "ipython",
    "version": 3
   },
   "file_extension": ".py",
   "mimetype": "text/x-python",
   "name": "python",
   "nbconvert_exporter": "python",
   "pygments_lexer": "ipython3",
   "version": "3.13.2"
  }
 },
 "nbformat": 4,
 "nbformat_minor": 5
}
