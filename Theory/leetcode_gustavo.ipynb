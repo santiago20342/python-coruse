{
 "cells": [
  {
   "cell_type": "markdown",
   "id": "73fe5676",
   "metadata": {},
   "source": [
    "# Leetcode Exercises"
   ]
  },
  {
   "cell_type": "markdown",
   "id": "2a73cdc7",
   "metadata": {},
   "source": [
    "## 1. Def two sum"
   ]
  },
  {
   "cell_type": "code",
   "execution_count": 2,
   "id": "eb3ab918",
   "metadata": {},
   "outputs": [
    {
     "name": "stdout",
     "output_type": "stream",
     "text": [
      "[0, 1]\n"
     ]
    }
   ],
   "source": [
    "class Solution:\n",
    "    def twoSum(self, nums, target: int):\n",
    "        for i, num in enumerate(nums):\n",
    "            for i2, num2 in enumerate (nums):\n",
    "                if i != i2:\n",
    "                    if num + num2 == target:\n",
    "                        return [i, i2]\n",
    "\n",
    "# Example usage:\n",
    "nums = [2,7,11,15]\n",
    "target = 9\n",
    "solution = Solution()\n",
    "result = solution.twoSum(nums, target)\n",
    "print(result)  # Output: [0, 1]"
   ]
  },
  {
   "cell_type": "code",
   "execution_count": null,
   "id": "a2ce7473",
   "metadata": {},
   "outputs": [],
   "source": []
  }
 ],
 "metadata": {
  "kernelspec": {
   "display_name": "finance",
   "language": "python",
   "name": "python3"
  },
  "language_info": {
   "codemirror_mode": {
    "name": "ipython",
    "version": 3
   },
   "file_extension": ".py",
   "mimetype": "text/x-python",
   "name": "python",
   "nbconvert_exporter": "python",
   "pygments_lexer": "ipython3",
   "version": "3.13.2"
  }
 },
 "nbformat": 4,
 "nbformat_minor": 5
}
