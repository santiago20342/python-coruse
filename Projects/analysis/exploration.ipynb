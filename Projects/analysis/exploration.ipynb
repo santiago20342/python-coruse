{
 "cells": [
  {
   "cell_type": "markdown",
   "metadata": {},
   "source": [
    "# Statistics\n",
    "\n",
    "The study of collecting, organizing, analyzing, interpreting, and presenting data.\n",
    "\n",
    "## Why is statistics important\n",
    "\n",
    "Statistics help us make sense of the data in our world to draw conclusions about life in all aspects. \n"
   ]
  },
  {
   "cell_type": "markdown",
   "metadata": {},
   "source": [
    "### Descriptive vs. Inferential Statistics\n",
    "#### Descriptive Statistics\n",
    "Summarises and describes a corpora of data (averages, standard deviations, meadians, etc.)\n",
    "\n",
    "### Inferential Statistics\n",
    "Makes predictions or inferences about the data (classification, drug effectiveness)"
   ]
  },
  {
   "cell_type": "markdown",
   "metadata": {},
   "source": [
    "## Types of Data\n",
    "### Qualitative (Categorical)\n",
    "Nominal: categories do not have a hierarchy or order (eye color, gender, brand names) <br>\n",
    "Ordinal: they have an order attached to them (satisfaction level, education level)\n",
    "\n",
    "### Quantitative (Numerical)\n",
    "Discrete: Non-divisible numbers (number of people in your family, number of cars in quito, number of prime numbers) <br>\n",
    "Continuous: Divisible numbers (height, weight, time passed, money)"
   ]
  },
  {
   "cell_type": "markdown",
   "metadata": {},
   "source": [
    "## Populations vs Samples\n",
    "### Population\n",
    "The entire cohort to study or to whom the problem is concerned with (the entire weeb population in the world)\n",
    "\n",
    "### Samples \n",
    "A subset of the population, taken for simplicity's sake or because taking the entire population data is impossible. \n",
    "Sampling methods are usually used to ensure that the sample selected is not biased. \n",
    "biased: because of the sampling method the sample's properties, intertests, features are different from the population.\n",
    "\n"
   ]
  },
  {
   "cell_type": "markdown",
   "metadata": {},
   "source": [
    "## Frequency Distributions\n",
    "\n"
   ]
  },
  {
   "cell_type": "code",
   "execution_count": 3,
   "metadata": {},
   "outputs": [
    {
     "name": "stdout",
     "output_type": "stream",
     "text": [
      "Frequency Distribution Table:\n",
      "    Color  Frequency  Relative Frequency\n",
      "0     Red          8                0.40\n",
      "1    Blue          5                0.25\n",
      "2   Green          4                0.20\n",
      "3  Purple          3                0.15\n"
     ]
    }
   ],
   "source": [
    "import pandas as pd\n",
    "import numpy as np\n",
    "\n",
    "# Create a list of 100 colored balls\n",
    "colors = ['Red', 'Blue', 'Green', 'Yellow', 'Purple']\n",
    "balls = np.random.choice(colors, size=20, p=[0.3, 0.25, 0.2, 0.15, 0.1])\n",
    "\n",
    "# Create a DataFrame\n",
    "df_balls = pd.DataFrame({'Color': balls})\n",
    "\n",
    "# Generate frequency table\n",
    "freq_table = df_balls['Color'].value_counts().reset_index()\n",
    "freq_table.columns = ['Color', 'Frequency']\n",
    "freq_table['Relative Frequency'] = freq_table['Frequency'] / len(df_balls)\n",
    "\n",
    "print(\"Frequency Distribution Table:\")\n",
    "print(freq_table)"
   ]
  },
  {
   "cell_type": "code",
   "execution_count": null,
   "metadata": {},
   "outputs": [],
   "source": [
    "#1. Intro to statistics\n",
    "\n"
   ]
  },
  {
   "cell_type": "code",
   "execution_count": null,
   "metadata": {},
   "outputs": [],
   "source": [
    "# lol"
   ]
  }
 ],
 "metadata": {
  "kernelspec": {
   "display_name": "ml",
   "language": "python",
   "name": "python3"
  },
  "language_info": {
   "codemirror_mode": {
    "name": "ipython",
    "version": 3
   },
   "file_extension": ".py",
   "mimetype": "text/x-python",
   "name": "python",
   "nbconvert_exporter": "python",
   "pygments_lexer": "ipython3",
   "version": "3.11.3"
  }
 },
 "nbformat": 4,
 "nbformat_minor": 2
}
