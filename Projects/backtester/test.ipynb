{
 "cells": [
  {
   "cell_type": "code",
   "execution_count": null,
   "id": "48f20074",
   "metadata": {},
   "outputs": [],
   "source": [
    "import yfinance as yf\n",
    "dat = yf.Ticker(\"MSFT\")"
   ]
  },
  {
   "cell_type": "code",
   "execution_count": null,
   "id": "c5d4f8bc",
   "metadata": {},
   "outputs": [],
   "source": [
    "dat = yf.Ticker(\"MSFT\")\n",
    "dat.info\n",
    "dat.calendar\n",
    "dat.analyst_price_targets\n",
    "dat.quarterly_income_stmt\n",
    "dat.history(period='1mo') # 1 month of historical data\n",
    "dat.option_chain(dat.options[0]).calls"
   ]
  },
  {
   "cell_type": "code",
   "execution_count": null,
   "id": "c9d80049",
   "metadata": {},
   "outputs": [],
   "source": [
    "from data_fetch import get_price\n",
    "start = '2024-01-01'\n",
    "end = '2025-01-01'\n",
    "prices = get_price(['AAPL', 'MSFT'], start, end)\n",
    "prices"
   ]
  },
  {
   "cell_type": "code",
   "execution_count": null,
   "id": "0b35e945",
   "metadata": {},
   "outputs": [],
   "source": [
    "#setting pandas to display floats with 2 decimal places\n",
    "import pandas as pd\n",
    "\n",
    "# Set pandas to display floats with 2 decimal places\n",
    "pd.options.display.float_format = '{:.2f}'.format"
   ]
  },
  {
   "cell_type": "code",
   "execution_count": null,
   "id": "f85a7820",
   "metadata": {},
   "outputs": [],
   "source": [
    "prices['Close']"
   ]
  },
  {
   "cell_type": "code",
   "execution_count": null,
   "id": "9ba36cc7",
   "metadata": {},
   "outputs": [],
   "source": [
    "from data_fetch import get_price\n",
    "from portfolio import Portfolio\n",
    "from plotter import plot_prices\n",
    "\n",
    "shares = ['AAPL', 'MSFT']\n",
    "\n",
    "portfolio = Portfolio()\n",
    "for symbol in shares:\n",
    "    portfolio.add_asset(symbol, 1)\n",
    "\n",
    "\n",
    "\n",
    "start = '2024-01-01'\n",
    "end = '2025-01-01'\n",
    "\n",
    "prices_df = get_price(shares, start, end)\n",
    "prices_close_df = prices_df['Close']\n",
    "\n",
    "print(\"Portfolio Value:\", portfolio.get_portfolio_value(prices_close_df))\n",
    "#plot_prices(prices_close_df)"
   ]
  },
  {
   "cell_type": "code",
   "execution_count": null,
   "id": "e72fb7d0",
   "metadata": {},
   "outputs": [],
   "source": [
    "#1. getting data from yfinance\n",
    "# Example usage\n",
    "from data_fetch import get_price\n",
    "from portfolio import Portfolio\n",
    "from plotter import plot_prices\n",
    "\n",
    "shares = ['AAPL', 'MSFT', 'GOOG', 'AMZN', 'TSLA', 'NVDA', 'NFLX']\n",
    "num_shares = [1, 1, 1, 1, 1, 1, 1] # Number of shares for each asset\n",
    "portfolio = Portfolio()\n",
    "for i, symbol in enumerate(shares):\n",
    "    portfolio.add_asset(symbol, num_shares[i])\n",
    "\n",
    "\n",
    "\n",
    "prices_df = get_price(shares)\n",
    "#prices_df.to_csv('prices.csv', index=True)\n",
    "prices_df"
   ]
  },
  {
   "cell_type": "code",
   "execution_count": null,
   "id": "ba99b629",
   "metadata": {},
   "outputs": [],
   "source": [
    "import pandas as pd\n",
    "#retrieve data from csv\n",
    "prices_df = pd.read_csv('prices.csv', parse_dates=True)\n",
    "prices_df"
   ]
  },
  {
   "cell_type": "code",
   "execution_count": null,
   "id": "d1668928",
   "metadata": {},
   "outputs": [],
   "source": [
    "fil = ['Price', 'Close']\n",
    "for i,element in enumerate(shares[1:]):\n",
    "    fil.append('Close'+'.'+str(i+1))\n",
    "    print(fil)\n",
    "#filtering the columns to get only the closing prices\n",
    "prices_close_df = prices_df[fil]\n",
    "prices_close_df"
   ]
  },
  {
   "cell_type": "code",
   "execution_count": null,
   "id": "b266d126",
   "metadata": {},
   "outputs": [],
   "source": [
    "column_new = ['Date']\n",
    "for i,element in enumerate(shares):\n",
    "    column_new.append(element)\n",
    "print(column_new)\n",
    "prices_close_df.columns = column_new\n",
    "prices_close_df\n"
   ]
  },
  {
   "cell_type": "code",
   "execution_count": null,
   "id": "ee78567f",
   "metadata": {},
   "outputs": [],
   "source": [
    "#erase rows 0 and 1\n",
    "prices_close_df = prices_close_df.drop([0, 1])\n",
    "prices_close_df"
   ]
  },
  {
   "cell_type": "code",
   "execution_count": null,
   "id": "a7b1dff9",
   "metadata": {},
   "outputs": [],
   "source": [
    "prices_close_df.set_index('Date', inplace=True)\n",
    "prices_close_df"
   ]
  },
  {
   "cell_type": "code",
   "execution_count": null,
   "id": "05683ed0",
   "metadata": {},
   "outputs": [],
   "source": [
    "#Changing output of dataframe to float\n",
    "print(portfolio.holdings['AAPL'])\n",
    "print(type(float(prices_close_df['AAPL']['2024-01-02'])))\n",
    "print(\"Portfolio Value:\", portfolio.get_portfolio_value(prices_close_df))\n"
   ]
  },
  {
   "cell_type": "code",
   "execution_count": null,
   "id": "3db20239",
   "metadata": {},
   "outputs": [],
   "source": [
    "value = portfolio.get_portfolio_value(prices_close_df)\n",
    "value"
   ]
  },
  {
   "cell_type": "markdown",
   "id": "93c23894",
   "metadata": {},
   "source": [
    "## Visualisations for the platform"
   ]
  },
  {
   "cell_type": "code",
   "execution_count": null,
   "id": "99bb8de6",
   "metadata": {},
   "outputs": [],
   "source": [
    "#1. basic visualization of stock prices.\n",
    "#prices_close_df\n",
    "prices_close_df = prices_close_df.astype(float) #turn values to float\n",
    "plot_prices(prices_close_df)"
   ]
  },
  {
   "cell_type": "markdown",
   "id": "b55e6e09",
   "metadata": {},
   "source": [
    "## Making Dates Dynamic "
   ]
  },
  {
   "cell_type": "code",
   "execution_count": null,
   "id": "28178458",
   "metadata": {},
   "outputs": [],
   "source": [
    "import pandas as pd\n",
    "#retrieve data from csv\n",
    "prices_pdates = pd.read_csv('prices.csv', parse_dates=True)\n",
    "prices_pdates = prices_pdates.drop([0, 1])\n",
    "prices_pdates = prices_pdates.rename(columns={'Price': 'Date'})\n",
    "prices_pdates"
   ]
  },
  {
   "cell_type": "code",
   "execution_count": null,
   "id": "29f87aa8",
   "metadata": {},
   "outputs": [],
   "source": [
    "from datetime import datetime\n",
    "# prices_pdates.columns\n",
    "prices_pdates_out = prices_pdates['Date']\n",
    "prices_pdates_list= prices_pdates_out.tolist()\n",
    "print(type(prices_pdates_list[0]))\n",
    "prices_pdates_list_e1 =datetime.strptime(prices_pdates_list[0], '%Y-%m-%d') #Transform the first date to datetime object\n",
    "prices_pdates_list_e1\n"
   ]
  },
  {
   "cell_type": "code",
   "execution_count": null,
   "id": "899252f4",
   "metadata": {},
   "outputs": [],
   "source": [
    "#turn values in Date column to datetime objects (PANDAS METHOD)\n",
    "prices_pdates['Date_a'] = pd.to_datetime(prices_pdates['Date'])"
   ]
  },
  {
   "cell_type": "code",
   "execution_count": null,
   "id": "9e693e06",
   "metadata": {},
   "outputs": [],
   "source": [
    "# Convert the 'Date' column to datetime objects (PYTHON METHOD)\n",
    "prices_pdates['Date_ b'] = prices_pdates['Date'].apply(lambda x: datetime.strptime(x, '%Y-%m-%d'))  # Format to string"
   ]
  },
  {
   "cell_type": "code",
   "execution_count": null,
   "id": "e3b2fc5c",
   "metadata": {},
   "outputs": [],
   "source": [
    "# check the type of the first element in the 'Date' columns\n",
    "print(type(prices_pdates['Date_a'].to_list()[0]))  # PANDAS METHOD\n",
    "print(type(prices_pdates['Date_ b'].to_list()[0]))  # PYTHON METHOD\n",
    "\n",
    "#both work. Need to change the code to use dynamic dates. "
   ]
  },
  {
   "cell_type": "markdown",
   "id": "4717400d",
   "metadata": {},
   "source": [
    "# Backtester 1.0"
   ]
  },
  {
   "cell_type": "code",
   "execution_count": 3,
   "id": "15d02dcc",
   "metadata": {},
   "outputs": [
    {
     "name": "stdout",
     "output_type": "stream",
     "text": [
      "['Price', 'Close', 'Close.1']\n",
      "['Price', 'Close', 'Close.1', 'Close.2']\n",
      "['Price', 'Close', 'Close.1', 'Close.2', 'Close.3']\n",
      "['Price', 'Close', 'Close.1', 'Close.2', 'Close.3', 'Close.4']\n",
      "['Price', 'Close', 'Close.1', 'Close.2', 'Close.3', 'Close.4', 'Close.5']\n",
      "['Price', 'Close', 'Close.1', 'Close.2', 'Close.3', 'Close.4', 'Close.5', 'Close.6']\n",
      "['Date', 'AAPL', 'MSFT', 'GOOG', 'AMZN', 'TSLA', 'NVDA', 'NFLX']\n",
      "              AAPL    MSFT    GOOG    AMZN     TSLA    NVDA    NFLX\n",
      "Date                                                               \n",
      "1980-12-12     0.1     NaN     NaN     NaN      NaN     NaN     NaN\n",
      "1980-12-15    0.09     NaN     NaN     NaN      NaN     NaN     NaN\n",
      "1980-12-16    0.09     NaN     NaN     NaN      NaN     NaN     NaN\n",
      "1980-12-17    0.09     NaN     NaN     NaN      NaN     NaN     NaN\n",
      "1980-12-18    0.09     NaN     NaN     NaN      NaN     NaN     NaN\n",
      "...            ...     ...     ...     ...      ...     ...     ...\n",
      "2025-05-19  208.78  206.16  167.87  458.87  1191.64  135.57  342.09\n",
      "2025-05-20  206.86  204.07  165.32  458.17  1192.02  134.38  343.82\n",
      "2025-05-21  202.09  201.12  170.06  452.57  1194.63   131.8  334.62\n",
      "2025-05-22  201.36   203.1  171.98  454.86  1187.97  132.83  341.04\n",
      "2025-05-23  195.27  200.99  169.59  450.18  1185.39  131.29  339.34\n",
      "\n",
      "[11203 rows x 7 columns]\n",
      "<class 'pandas._libs.tslibs.timestamps.Timestamp'>\n",
      "10 days 19:59:18.191319\n",
      "Calculating Symbol: AAPL, Amount: 1.0, input Date: 2024-12-31 00:00:00\n",
      "Value for AAPL: 249.82\n",
      "Current Portfolio Value: 249.82\n",
      "Calculating Symbol: MSFT, Amount: 1.0, input Date: 2024-12-31 00:00:00\n",
      "Value for MSFT: 219.39\n",
      "Current Portfolio Value: 469.21\n",
      "Calculating Symbol: GOOG, Amount: 1.0, input Date: 2024-12-31 00:00:00\n",
      "Value for GOOG: 190.22\n",
      "Current Portfolio Value: 659.43\n",
      "Calculating Symbol: AMZN, Amount: 1.0, input Date: 2024-12-31 00:00:00\n",
      "Value for AMZN: 419.89\n",
      "Current Portfolio Value: 1079.32\n",
      "Calculating Symbol: TSLA, Amount: 1.0, input Date: 2024-12-31 00:00:00\n",
      "Value for TSLA: 891.32\n",
      "Current Portfolio Value: 1970.6399999999999\n",
      "Calculating Symbol: NVDA, Amount: 1.0, input Date: 2024-12-31 00:00:00\n",
      "Value for NVDA: 134.28\n",
      "Current Portfolio Value: 2104.92\n",
      "Calculating Symbol: NFLX, Amount: 1.0, input Date: 2024-12-31 00:00:00\n",
      "Value for NFLX: 403.84\n",
      "Current Portfolio Value: 2508.76\n",
      "Portfolio Value: 2508.76\n"
     ]
    },
    {
     "data": {
      "image/png": "[encoded data removed]",
      "text/plain": [
       "<Figure size 640x480 with 1 Axes>"
      ]
     },
     "metadata": {},
     "output_type": "display_data"
    }
   ],
   "source": [
    "# Bring it all together for a 1.0 version. \n",
    "## 1. DATA FETCHING\n",
    "# Example usage\n",
    "from data_fetch import get_price\n",
    "from portfolio import Portfolio\n",
    "from portfolio import get_closest_date_index\n",
    "from plotter import plot_prices\n",
    "import pandas as pd\n",
    "import datetime\n",
    "\n",
    "shares = ['AAPL', 'MSFT', 'GOOG', 'AMZN', 'TSLA', 'NVDA', 'NFLX']\n",
    "num_shares = [1, 1, 1, 1, 1, 1, 1] # Number of shares for each asset\n",
    "portfolio = Portfolio()\n",
    "for i, symbol in enumerate(shares):\n",
    "    portfolio.add_asset(symbol, num_shares[i])\n",
    "\n",
    "\n",
    "\n",
    "#prices_df = get_price(shares)\n",
    "#prices_df.to_csv('prices.csv', index=True)\n",
    "\n",
    "\n",
    "#retrieve data from csv\n",
    "prices_df = pd.read_csv('prices.csv')\n",
    "prices_df\n",
    "\n",
    "columns_to_filter = ['Price', 'Close']\n",
    "for i,element in enumerate(shares[1:]):\n",
    "    columns_to_filter.append('Close'+'.'+str(i+1))\n",
    "    print(columns_to_filter)\n",
    "\n",
    "#filtering the columns to get only the closing prices\n",
    "prices_close_df = prices_df[columns_to_filter]\n",
    "\n",
    "column_new = ['Date']\n",
    "for i,element in enumerate(shares):\n",
    "    column_new.append(element)\n",
    "print(column_new)\n",
    "prices_close_df.columns = column_new\n",
    "\n",
    "#erase rows 0 and 1\n",
    "prices_close_df = prices_close_df.drop([0, 1])\n",
    "\n",
    "# Convert 'Date' column to datetime objects\n",
    "prices_close_df['Date'] = pd.to_datetime(prices_close_df['Date'])\n",
    "prices_close_df.set_index('Date', inplace=True)\n",
    "print(prices_close_df)\n",
    "print(type(prices_close_df.index[-1]))\n",
    "\n",
    "#Time delat \n",
    "print(datetime.datetime.now() - prices_close_df.index[-1])  # Check the time difference from the last date in the DataFrame\n",
    "\n",
    "#Changing output of dataframe to float\n",
    "#print(portfolio.holdings['AAPL'])\n",
    "#print(prices_close_df['AAPL'])\n",
    "#print(prices_close_df['AAPL']['2025-05-23'])\n",
    "#today = pd.Timestamp(datetime.date.today()) #get a timestamp date\n",
    "#print(today not in prices_close_df['AAPL'].index)\n",
    "date = datetime.datetime.strptime(\"2024-12-31\", '%Y-%m-%d')\n",
    "date = pd.Timestamp(date)  # Convert to pandas Timestamp\n",
    "print(\"Portfolio Value:\", portfolio.get_portfolio_value(prices_close_df, date))\n",
    "\n",
    "\n",
    "#1. basic visualization of stock prices.\n",
    "#prices_close_df\n",
    "prices_close_df = prices_close_df.astype(float) #turn values to float\n",
    "plot_prices(prices_close_df)\n",
    "\n",
    "#both work. Need to change the code to use dynamic dates. "
   ]
  },
  {
   "cell_type": "code",
   "execution_count": 4,
   "id": "f6e93f99",
   "metadata": {},
   "outputs": [
    {
     "data": {
      "text/plain": [
       "Timestamp('2024-12-27 00:00:00')"
      ]
     },
     "execution_count": 4,
     "metadata": {},
     "output_type": "execute_result"
    }
   ],
   "source": [
    "date = datetime.datetime.strptime(\"2024-12-28\", '%Y-%m-%d')\n",
    "date = pd.Timestamp(date)  # Convert to pandas Timestamp\n",
    "i = get_closest_date_index(date, prices_close_df)\n",
    "i"
   ]
  }
 ],
 "metadata": {
  "kernelspec": {
   "display_name": "finance",
   "language": "python",
   "name": "python3"
  },
  "language_info": {
   "codemirror_mode": {
    "name": "ipython",
    "version": 3
   },
   "file_extension": ".py",
   "mimetype": "text/x-python",
   "name": "python",
   "nbconvert_exporter": "python",
   "pygments_lexer": "ipython3",
   "version": "3.13.3"
  }
 },
 "nbformat": 4,
 "nbformat_minor": 5
}
