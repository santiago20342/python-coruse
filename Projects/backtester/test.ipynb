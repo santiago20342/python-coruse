{
 "cells": [
  {
   "cell_type": "code",
   "execution_count": null,
   "id": "48f20074",
   "metadata": {},
   "outputs": [],
   "source": [
    "import yfinance as yf\n",
    "dat = yf.Ticker(\"MSFT\")"
   ]
  },
  {
   "cell_type": "code",
   "execution_count": null,
   "id": "c5d4f8bc",
   "metadata": {},
   "outputs": [],
   "source": [
    "dat = yf.Ticker(\"MSFT\")\n",
    "dat.info\n",
    "dat.calendar\n",
    "dat.analyst_price_targets\n",
    "dat.quarterly_income_stmt\n",
    "dat.history(period='1mo') # 1 month of historical data\n",
    "dat.option_chain(dat.options[0]).calls"
   ]
  },
  {
   "cell_type": "code",
   "execution_count": null,
   "id": "c9d80049",
   "metadata": {},
   "outputs": [],
   "source": [
    "from data_fetch import get_price\n",
    "start = '2024-01-01'\n",
    "end = '2025-01-01'\n",
    "prices = get_price(['AAPL', 'MSFT'], start, end)\n",
    "prices"
   ]
  },
  {
   "cell_type": "code",
   "execution_count": null,
   "id": "0b35e945",
   "metadata": {},
   "outputs": [],
   "source": [
    "#setting pandas to display floats with 2 decimal places\n",
    "import pandas as pd\n",
    "\n",
    "# Set pandas to display floats with 2 decimal places\n",
    "pd.options.display.float_format = '{:.2f}'.format"
   ]
  },
  {
   "cell_type": "code",
   "execution_count": null,
   "id": "f85a7820",
   "metadata": {},
   "outputs": [],
   "source": [
    "prices['Close']"
   ]
  },
  {
   "cell_type": "code",
   "execution_count": null,
   "id": "9ba36cc7",
   "metadata": {},
   "outputs": [],
   "source": [
    "from data_fetch import get_price\n",
    "from portfolio import Portfolio\n",
    "from plotter import plot_prices\n",
    "\n",
    "shares = ['AAPL', 'MSFT']\n",
    "\n",
    "portfolio = Portfolio()\n",
    "for symbol in shares:\n",
    "    portfolio.add_asset(symbol, 1)\n",
    "\n",
    "\n",
    "\n",
    "start = '2024-01-01'\n",
    "end = '2025-01-01'\n",
    "\n",
    "prices_df = get_price(shares, start, end)\n",
    "prices_close_df = prices_df['Close']\n",
    "\n",
    "print(\"Portfolio Value:\", portfolio.get_portfolio_value(prices_close_df))\n",
    "#plot_prices(prices_close_df)"
   ]
  },
  {
   "cell_type": "code",
   "execution_count": null,
   "id": "e72fb7d0",
   "metadata": {},
   "outputs": [],
   "source": [
    "#1. getting data from yfinance\n",
    "# Example usage\n",
    "from data_fetch import get_price\n",
    "from portfolio import Portfolio\n",
    "from plotter import plot_prices\n",
    "\n",
    "shares = ['AAPL', 'MSFT', 'GOOG', 'AMZN', 'TSLA', 'NVDA', 'NFLX']\n",
    "num_shares = [1, 1, 1, 1, 1, 1, 1] # Number of shares for each asset\n",
    "portfolio = Portfolio()\n",
    "for i, symbol in enumerate(shares):\n",
    "    portfolio.add_asset(symbol, num_shares[i])\n",
    "\n",
    "\n",
    "\n",
    "prices_df = get_price(shares)\n",
    "#prices_df.to_csv('prices.csv', index=True)\n",
    "prices_df"
   ]
  },
  {
   "cell_type": "code",
   "execution_count": null,
   "id": "ba99b629",
   "metadata": {},
   "outputs": [],
   "source": [
    "import pandas as pd\n",
    "#retrieve data from csv\n",
    "prices_df = pd.read_csv('prices.csv', parse_dates=True)\n",
    "prices_df"
   ]
  },
  {
   "cell_type": "code",
   "execution_count": null,
   "id": "d1668928",
   "metadata": {},
   "outputs": [],
   "source": [
    "fil = ['Price', 'Close']\n",
    "for i,element in enumerate(shares[1:]):\n",
    "    fil.append('Close'+'.'+str(i+1))\n",
    "    print(fil)\n",
    "#filtering the columns to get only the closing prices\n",
    "prices_close_df = prices_df[fil]\n",
    "prices_close_df"
   ]
  },
  {
   "cell_type": "code",
   "execution_count": null,
   "id": "b266d126",
   "metadata": {},
   "outputs": [],
   "source": [
    "column_new = ['Date']\n",
    "for i,element in enumerate(shares):\n",
    "    column_new.append(element)\n",
    "print(column_new)\n",
    "prices_close_df.columns = column_new\n",
    "prices_close_df\n"
   ]
  },
  {
   "cell_type": "code",
   "execution_count": null,
   "id": "ee78567f",
   "metadata": {},
   "outputs": [],
   "source": [
    "#erase rows 0 and 1\n",
    "prices_close_df = prices_close_df.drop([0, 1])\n",
    "prices_close_df"
   ]
  },
  {
   "cell_type": "code",
   "execution_count": null,
   "id": "a7b1dff9",
   "metadata": {},
   "outputs": [],
   "source": [
    "prices_close_df.set_index('Date', inplace=True)\n",
    "prices_close_df"
   ]
  },
  {
   "cell_type": "code",
   "execution_count": null,
   "id": "05683ed0",
   "metadata": {},
   "outputs": [],
   "source": [
    "#Changing output of dataframe to float\n",
    "print(portfolio.holdings['AAPL'])\n",
    "print(type(float(prices_close_df['AAPL']['2024-01-02'])))\n",
    "print(\"Portfolio Value:\", portfolio.get_portfolio_value(prices_close_df))\n"
   ]
  },
  {
   "cell_type": "code",
   "execution_count": null,
   "id": "3db20239",
   "metadata": {},
   "outputs": [],
   "source": [
    "value = portfolio.get_portfolio_value(prices_close_df)\n",
    "value"
   ]
  },
  {
   "cell_type": "markdown",
   "id": "93c23894",
   "metadata": {},
   "source": [
    "## Visualisations for the platform"
   ]
  },
  {
   "cell_type": "code",
   "execution_count": null,
   "id": "99bb8de6",
   "metadata": {},
   "outputs": [],
   "source": [
    "#1. basic visualization of stock prices.\n",
    "#prices_close_df\n",
    "prices_close_df = prices_close_df.astype(float) #turn values to float\n",
    "plot_prices(prices_close_df)"
   ]
  },
  {
   "cell_type": "markdown",
   "id": "b55e6e09",
   "metadata": {},
   "source": [
    "## Making Dates Dynamic "
   ]
  },
  {
   "cell_type": "code",
   "execution_count": null,
   "id": "28178458",
   "metadata": {},
   "outputs": [],
   "source": [
    "import pandas as pd\n",
    "#retrieve data from csv\n",
    "prices_pdates = pd.read_csv('prices.csv', parse_dates=True)\n",
    "prices_pdates = prices_pdates.drop([0, 1])\n",
    "prices_pdates = prices_pdates.rename(columns={'Price': 'Date'})\n",
    "prices_pdates"
   ]
  },
  {
   "cell_type": "code",
   "execution_count": null,
   "id": "29f87aa8",
   "metadata": {},
   "outputs": [],
   "source": [
    "from datetime import datetime\n",
    "# prices_pdates.columns\n",
    "prices_pdates_out = prices_pdates['Date']\n",
    "prices_pdates_list= prices_pdates_out.tolist()\n",
    "print(type(prices_pdates_list[0]))\n",
    "prices_pdates_list_e1 =datetime.strptime(prices_pdates_list[0], '%Y-%m-%d') #Transform the first date to datetime object\n",
    "prices_pdates_list_e1\n"
   ]
  },
  {
   "cell_type": "code",
   "execution_count": null,
   "id": "899252f4",
   "metadata": {},
   "outputs": [],
   "source": [
    "#turn values in Date column to datetime objects (PANDAS METHOD)\n",
    "prices_pdates['Date_a'] = pd.to_datetime(prices_pdates['Date'])"
   ]
  },
  {
   "cell_type": "code",
   "execution_count": null,
   "id": "9e693e06",
   "metadata": {},
   "outputs": [],
   "source": [
    "# Convert the 'Date' column to datetime objects (PYTHON METHOD)\n",
    "prices_pdates['Date_ b'] = prices_pdates['Date'].apply(lambda x: datetime.strptime(x, '%Y-%m-%d'))  # Format to string"
   ]
  },
  {
   "cell_type": "code",
   "execution_count": null,
   "id": "e3b2fc5c",
   "metadata": {},
   "outputs": [],
   "source": [
    "# check the type of the first element in the 'Date' columns\n",
    "print(type(prices_pdates['Date_a'].to_list()[0]))  # PANDAS METHOD\n",
    "print(type(prices_pdates['Date_ b'].to_list()[0]))  # PYTHON METHOD\n",
    "\n",
    "#both work. Need to change the code to use dynamic dates. "
   ]
  },
  {
   "cell_type": "markdown",
   "id": "4717400d",
   "metadata": {},
   "source": [
    "# Backtester 1.0"
   ]
  },
  {
   "cell_type": "code",
   "execution_count": null,
   "id": "15d02dcc",
   "metadata": {},
   "outputs": [],
   "source": [
    "# Bring it all together for a 1.0 version. \n",
    "def get_closest_date_index(date, df_original):\n",
    "    \"\"\"\n",
    "    Get the index of the closest date in a list of dates.\n",
    "    Args:\n",
    "        date (timestamp): The date to find the closest match for.\n",
    "        date_series (pandas.Series): A pandas series of pandas.Timestamp objects.\n",
    "    Returns:\n",
    "        int: The index of the closest date in the list.\n",
    "    \"\"\"\n",
    "    # getting the closest date index\n",
    "    df_with_dates = df_original.copy()\n",
    "    df_with_dates['timedeltas'] = abs(df_with_dates.index - date)\n",
    "    min_diff = min(df_with_dates['timedeltas'])\n",
    "    # Calculate the difference between the last date in the DataFrame and today\n",
    "    index = df_with_dates['timedeltas'].isin([min_diff]).idxmax()\n",
    "    return index\n",
    "## 1. DATA FETCHING\n",
    "# Example usage\n",
    "from data_fetch import get_price\n",
    "from portfolio import Portfolio\n",
    "from portfolio import get_closest_date_index\n",
    "from plotter import plot_df_prices\n",
    "import pandas as pd\n",
    "import datetime\n",
    "\n",
    "shares = ['AAPL', 'MSFT', 'GOOG', 'AMZN', 'TSLA', 'NVDA', 'NFLX']\n",
    "num_shares = [1, 1, 1, 1, 1, 1, 1] # Number of shares for each asset\n",
    "portfolio = Portfolio()\n",
    "for i, symbol in enumerate(shares):\n",
    "    portfolio.add_asset(symbol, num_shares[i])\n",
    "\n",
    "prices_df = get_price(shares)\n",
    "#prices_df.to_csv('prices.csv', index=True)\n",
    "\n",
    "#retrieve data from csv\n",
    "prices_df = pd.read_csv('prices.csv')\n",
    "prices_df\n",
    "\n",
    "columns_to_filter = ['Price', 'Close']\n",
    "for i,element in enumerate(shares[1:]):\n",
    "    columns_to_filter.append('Close'+'.'+str(i+1))\n",
    "    print(columns_to_filter)\n",
    "\n",
    "#filtering the columns to get only the closing prices\n",
    "prices_close_df = prices_df[columns_to_filter]\n",
    "\n",
    "column_new = ['Date']\n",
    "for i,element in enumerate(shares):\n",
    "    column_new.append(element)\n",
    "print(column_new)\n",
    "prices_close_df.columns = column_new\n",
    "\n",
    "#erase rows 0 and 1\n",
    "prices_close_df = prices_close_df.drop([0, 1])\n",
    "\n",
    "# Convert 'Date' column to datetime objects\n",
    "prices_close_df['Date'] = pd.to_datetime(prices_close_df['Date'])\n",
    "prices_close_df.set_index('Date', inplace=True)\n",
    "print(prices_close_df)\n",
    "print(type(prices_close_df.index[-1]))\n",
    "\n",
    "#Time delat \n",
    "date = datetime.datetime.strptime(\"2025-06-06\", '%Y-%m-%d')\n",
    "date = pd.Timestamp(date)  # Convert to pandas Timestamp\n",
    "print(\"Portfolio Value:\", portfolio.get_portfolio_value(prices_close_df, date))\n",
    "\n",
    "\n",
    "#1. basic visualization of stock prices.\n",
    "#prices_close_df\n",
    "prices_close_df = prices_close_df.astype(float) #turn values to float\n",
    "plot_df_prices(prices_close_df)\n",
    "\n",
    "#both work. Need to change the code to use dynamic dates. "
   ]
  },
  {
   "cell_type": "code",
   "execution_count": null,
   "id": "f6e93f99",
   "metadata": {},
   "outputs": [],
   "source": [
    "date = datetime.datetime.strptime(\"2024-12-28\", '%Y-%m-%d')\n",
    "date = pd.Timestamp(date)  # Convert to pandas Timestamp\n",
    "i = get_closest_date_index(date, prices_close_df)\n",
    "i"
   ]
  },
  {
   "cell_type": "markdown",
   "id": "eb7c8499",
   "metadata": {},
   "source": [
    "## Creating different Portfolios to track and backtest"
   ]
  },
  {
   "cell_type": "code",
   "execution_count": null,
   "id": "610d6534",
   "metadata": {},
   "outputs": [],
   "source": [
    "#portfolio2\n",
    "shares = ['AAPL', 'MSFT', 'GOOG', 'AMZN', 'TSLA', 'NVDA', 'NFLX']\n",
    "num_shares_santi = [2, 3, 1, 2, 3, 5, 8] # Number of shares for each asset\n",
    "num_shares_gus = [5, 5, 5, 1, 1, 5, 1]\n",
    "portfolio_santi = Portfolio()\n",
    "portfolio_gus = Portfolio()\n",
    "for i, symbol in enumerate(shares):\n",
    "    portfolio_santi.add_asset(symbol, num_shares_santi[i])\n",
    "    portfolio_gus.add_asset(symbol, num_shares_gus[i])\n",
    "\n",
    "print(\"Portfolio Value:\", portfolio_santi.get_portfolio_value(prices_close_df, date))\n",
    "print(\"Portfolio Value:\", portfolio_gus.get_portfolio_value(prices_close_df, date))\n",
    "\n"
   ]
  },
  {
   "cell_type": "markdown",
   "id": "0e3108a2",
   "metadata": {},
   "source": [
    "## Plotting the portfolio values"
   ]
  },
  {
   "cell_type": "code",
   "execution_count": null,
   "id": "d63273b8",
   "metadata": {},
   "outputs": [],
   "source": [
    "cutoff_date = datetime.datetime.strptime(\"2009-01-31\", '%Y-%m-%d')\n",
    "cutoff_date = pd.Timestamp(cutoff_date) \n",
    "# Create a new DataFrame with the same index as prices_close_df\n",
    "# Get all rows after and including the cutoff_date\n",
    "sliced_df = prices_close_df.loc[cutoff_date:]\n",
    "\n",
    "portfolio_values_df = pd.DataFrame()\n",
    "portfolio_values_df['Date'] = sliced_df.index\n",
    "portfolio_values_df['Santi'] = portfolio_values_df['Date'].apply(lambda x: portfolio_santi.get_portfolio_value(prices_close_df, x))  # Format to string\n",
    "portfolio_values_df['Gus'] = portfolio_values_df['Date'].apply(lambda x: portfolio_gus.get_portfolio_value(prices_close_df, x)) \n",
    "portfolio_values_df['Base'] = portfolio_values_df['Date'].apply(lambda x: portfolio.get_portfolio_value(prices_close_df, x)) \n",
    "# Display the new DataFrame\n",
    "portfolio_values_df"
   ]
  },
  {
   "cell_type": "code",
   "execution_count": null,
   "id": "16b0fd01",
   "metadata": {},
   "outputs": [],
   "source": [
    "portfolio_values_df.set_index('Date', inplace=True)\n",
    "# Plot the portfolio values\n",
    "portfolio_values_df.plot()"
   ]
  },
  {
   "cell_type": "code",
   "execution_count": null,
   "id": "4eca6498",
   "metadata": {},
   "outputs": [],
   "source": [
    "a = list(range(1, 10))\n",
    "a.append(a[-1])\n",
    "a"
   ]
  },
  {
   "cell_type": "code",
   "execution_count": null,
   "id": "3fbc231b",
   "metadata": {},
   "outputs": [],
   "source": [
    "a[-2] = 100\n",
    "a"
   ]
  },
  {
   "cell_type": "code",
   "execution_count": null,
   "id": "5399c9fc",
   "metadata": {},
   "outputs": [],
   "source": [
    "import pandas as pd\n",
    "dict = {'2025': {'aa':1, 'bb':2}, '2026': {'aa':3, 'bb':4}}\n",
    "df = pd.DataFrame(dict)\n",
    "df.T"
   ]
  },
  {
   "cell_type": "markdown",
   "id": "4ab2fdbe",
   "metadata": {},
   "source": [
    "## Backtester 1.1"
   ]
  },
  {
   "cell_type": "code",
   "execution_count": null,
   "id": "abb6dc5d",
   "metadata": {},
   "outputs": [],
   "source": [
    "# Bring it all together for a 1.1 version. \n",
    "from data_fetch import get_price\n",
    "from data_fetch import import_yf_df\n",
    "from portfolio import Portfolio\n",
    "from portfolio import get_closest_date_index\n",
    "from plotter import plot_df_prices_components\n",
    "import pandas as pd\n",
    "\n",
    "\n",
    "\n",
    "shares = ['AAPL', 'MSFT', 'GOOG', 'AMZN', 'TSLA', 'NVDA', 'NFLX']\n",
    "num_shares = [1, 1, 1, 1, 1, 1, 1] # Number of shares for each asset\n",
    "\n",
    "#get price data with the API (yahoo finance)\n",
    "#prices_df = get_price(shares)\n",
    "#prices_df.to_csv('prices.csv', index=True)\n",
    "\n",
    "#import csv data and clean it\n",
    "prices_close_df = import_yf_df('prices.csv', shares)\n",
    "\n",
    "\n",
    "valid_date = get_closest_date_index(pd.Timestamp('2023-12-31'), prices_close_df)  # Get the index of the closest date  # Get the first date from the DataFrame index\n",
    "stock_price_purchased = dict(prices_close_df.loc[pd.to_datetime(valid_date)])  # Get the stock prices for the valid date\n",
    "print(stock_price_purchased)\n",
    "portfolio = Portfolio('Gus', \"M\", {str(valid_date):{'AAPL': 1, 'MSFT': 1, 'GOOG': 1, 'AMZN': 1, 'TSLA': 1, 'NVDA': 1, 'NFLX': 1}}, stock_price_purchased,str(valid_date))\n",
    "\n",
    "#test functionality\n",
    "#removing an asset\n",
    "valid_date = get_closest_date_index(pd.Timestamp('2025-04-30'), prices_close_df)\n",
    "symbol = 'AAPL'\n",
    "portfolio.remove_asset(symbol,1, str(valid_date), prices_close_df)  # Remove 1 share of AAPL at the price on the valid date\n",
    "\n",
    "\n",
    "#adding a new asset\n",
    "valid_date = get_closest_date_index(pd.Timestamp('2025-06-01'), prices_close_df)  # Get the index of the closest date  # Get the first date from the DataFrame index\n",
    "stock_price_purchased = dict(prices_close_df.loc[pd.to_datetime(valid_date)])  # Get the stock prices for the valid date\n",
    "symbol = 'AAPL'\n",
    "portfolio.add_asset(symbol, 1,str(valid_date), float(stock_price_purchased[symbol]))  # Add 1 share of AAPL at the price on the valid date\n",
    "\n",
    "#print(portfolio.holdings)\n",
    "print(portfolio.investment)\n",
    "print(portfolio.capital_gains)\n",
    "\n",
    "\n",
    "# # Calculating portfolio value for each date in the test DataFrame\n",
    "val = portfolio.get_portfolio_value(prices_close_df)\n",
    "cols_graph = val.columns[:-1]\n",
    "val  # Remove the 'Date' column for plotting\n",
    "\n"
   ]
  },
  {
   "cell_type": "code",
   "execution_count": null,
   "id": "5b1fc183",
   "metadata": {},
   "outputs": [],
   "source": [
    "from plotter import plot_df_prices_components\n",
    "plot_df_prices_components(val[cols_graph])"
   ]
  },
  {
   "cell_type": "markdown",
   "id": "7e90378e",
   "metadata": {},
   "source": [
    "### Viz comparison"
   ]
  },
  {
   "cell_type": "code",
   "execution_count": null,
   "id": "61ed070c",
   "metadata": {},
   "outputs": [],
   "source": [
    "# Bring it all together for a 1.2 version. \n",
    "from data_fetch import get_price\n",
    "from data_fetch import import_yf_df\n",
    "from portfolio import Portfolio\n",
    "from portfolio import get_closest_date_index\n",
    "from plotter import plot_df_prices_components\n",
    "from plotter import plot_df_prices_lines\n",
    "from plotter import plot_df_prices_lines\n",
    "\n",
    "import pandas as pd\n",
    "\n",
    "\n",
    "\n",
    "shares = ['AAPL', 'MSFT', 'GOOG', 'AMZN', 'TSLA', 'NVDA', 'NFLX']\n",
    "num_shares = [1, 1, 1, 1, 1, 1, 1] # Number of shares for each asset\n",
    "\n",
    "#get price data with the API (yahoo finance)\n",
    "#prices_df = get_price(shares)\n",
    "#prices_df.to_csv('prices.csv', index=True)\n",
    "\n",
    "#import csv data and clean it\n",
    "prices_close_df = import_yf_df('prices.csv', shares)\n",
    "\n",
    "\n",
    "valid_date_g = get_closest_date_index(pd.Timestamp('2023-12-31'), prices_close_df)  # Get the index of the closest date  # Get the first date from the DataFrame index\n",
    "valid_date_s = get_closest_date_index(pd.Timestamp('2021-12-31'), prices_close_df)  # needto handle different dates for different portfolios\n",
    "valid_date_w = get_closest_date_index(pd.Timestamp('2018-12-31'), prices_close_df)  # idem\n",
    "\n",
    "stock_price_purchased = dict(prices_close_df.loc[pd.to_datetime(valid_date_g)])\n",
    "portfolio_g = Portfolio('Gustavo', \"M\", {str(valid_date_g):{'AAPL': 10, 'MSFT': 10, 'GOOG': 10, 'AMZN': 10, 'TSLA': 10, 'NVDA': 10, 'NFLX': 10}}, stock_price_purchased, str(valid_date_g))\n",
    "portfolio_s = Portfolio('Santiago', \"S\", {str(valid_date_s):{'AAPL': 8, 'MSFT': 10, 'GOOG': 12, 'AMZN': 5, 'TSLA': 14, 'NVDA': 4, 'NFLX': 15}}, stock_price_purchased, str(valid_date_s))\n",
    "portfolio_w = Portfolio('Warren', \"B\", {str(valid_date_w):{'AAPL': 40, 'MSFT':60}}, stock_price_purchased, str(valid_date_w))\n",
    "\n",
    "valid_date_g2 = get_closest_date_index(pd.Timestamp('2025-06-01'), prices_close_df)\n",
    "stock_price_purchased2 = dict(prices_close_df.loc[pd.to_datetime(valid_date_g2)])  # Get the stock prices for the valid date\n",
    "symbol2 = 'AAPL'\n",
    "portfolio_g.add_asset(symbol2, 1, str(valid_date_g2), float(stock_price_purchased2[symbol2]))  # Add 1 share of AAPL at the price on the valid date\n",
    "portfolio_s.add_asset(symbol2, 1, str(valid_date_g2), float(stock_price_purchased2[symbol2]))  # Add 1 share of AAPL at the price on the valid date\n",
    "portfolio_w.add_asset(symbol2, 1, str(valid_date_g2), float(stock_price_purchased2[symbol2]))  # Add 1 share of AAPL at the price on the valid date\n",
    "\n",
    "# Calculating portfolio value for each date in the test DataFrame\n",
    "portfolio_g.get_portfolio_value(prices_close_df)\n",
    "portfolio_s.get_portfolio_value(prices_close_df)\n",
    "portfolio_w.get_portfolio_value(prices_close_df)\n",
    "\n",
    "# Assuming val_g, val_s, and val_w are DataFrames with a \"total value\" column and the same index\n",
    "comparison_df = pd.DataFrame({\n",
    "    'Gus': portfolio_g.portfolio_value['Total_Value'],\n",
    "    'Santiago': portfolio_s.portfolio_value['Total_Value'],\n",
    "    'Warren': portfolio_w.portfolio_value['Total_Value']\n",
    "})\n",
    "# Display the joined DataFrame\n",
    "comparison_df\n",
    "\n",
    "#plot_df_prices_lines(comparison_df)\n"
   ]
  },
  {
   "cell_type": "code",
   "execution_count": null,
   "id": "1fd70f68",
   "metadata": {},
   "outputs": [],
   "source": [
    "inv_df = pd.DataFrame({portfolio_g.full_name: portfolio_g.investment, \n",
    "              portfolio_s.full_name: portfolio_s.investment, \n",
    "              portfolio_w.full_name: portfolio_w.investment}).T\n",
    "inv_df"
   ]
  },
  {
   "cell_type": "code",
   "execution_count": null,
   "id": "69804b3f",
   "metadata": {},
   "outputs": [],
   "source": [
    "capgain_df = pd.DataFrame({\n",
    "              portfolio_g.full_name: portfolio_g.capital_gains, \n",
    "              portfolio_s.full_name: portfolio_s.capital_gains, \n",
    "              portfolio_w.full_name: portfolio_w.capital_gains}).T\n",
    "capgain_df"
   ]
  },
  {
   "cell_type": "code",
   "execution_count": null,
   "id": "506d8024",
   "metadata": {},
   "outputs": [],
   "source": [
    "import matplotlib.pyplot as plt\n",
    "\n",
    "plt.figure(figsize=(10,6))\n",
    "plt.plot(portfolio_g.portfolio_value.index, portfolio_g.portfolio_value['Total_Value'], label=portfolio_g.full_name)\n",
    "plt.plot(portfolio_s.portfolio_value.index, portfolio_s.portfolio_value['Total_Value'], label=portfolio_s.full_name)\n",
    "plt.plot(portfolio_w.portfolio_value.index, portfolio_w.portfolio_value['Total_Value'], label=portfolio_w.full_name)\n",
    "plt.legend()\n",
    "plt.title(\"Portfolio Values (from inception)\")\n",
    "plt.show()"
   ]
  },
  {
   "cell_type": "code",
   "execution_count": null,
   "id": "bf850aba",
   "metadata": {},
   "outputs": [],
   "source": [
    "\n",
    "plot_df_prices_lines([portfolio_g, portfolio_s, portfolio_w])"
   ]
  },
  {
   "cell_type": "markdown",
   "id": "1ba833bb",
   "metadata": {},
   "source": [
    "### API data"
   ]
  },
  {
   "cell_type": "code",
   "execution_count": null,
   "id": "2c3b7b26",
   "metadata": {},
   "outputs": [],
   "source": [
    "##FMP API\n",
    "# PUBLIC API KEY = ?apikey=eGw4yVV5QZwCAsvqO3zZcs8dNRulA1Nk\n",
    "import requests\n",
    "# Define the API endpoint and parameters\n",
    "url = \"https://financialmodelingprep.com/stable/senate-latest\"\n",
    "params = {\n",
    "    'apikey': 'eGw4yVV5QZwCAsvqO3zZcs8dNRulA1Nk'  \n",
    "}\n",
    "response = requests.get(url, params=params)\n",
    "# Check if the request was successful\n",
    "if response.status_code == 200:\n",
    "    data = response.json()  # Parse the JSON response\n",
    "    print(data)  # Print the data or process it as needed\n"
   ]
  },
  {
   "cell_type": "code",
   "execution_count": null,
   "id": "66143254",
   "metadata": {},
   "outputs": [],
   "source": [
    "import pandas as pd\n",
    "# Convert the JSON data to a DataFrame\n",
    "df = pd.DataFrame(data)\n",
    "# Display the DataFrame\n",
    "#df.to_csv('data/senate_data.csv', index=False)  # Save to CSV file\n",
    "df.info()  # Display the first few rows of the DataFrame"
   ]
  },
  {
   "cell_type": "code",
   "execution_count": null,
   "id": "b791ef93",
   "metadata": {},
   "outputs": [],
   "source": [
    "df['symbol'].unique()  # Get unique symbols from the DataFrame\n",
    "symbol_list = list(df['symbol'].unique())\n",
    "print(symbol_list)  # Print the unique symbols\n",
    "print(len(symbol_list))  \n",
    "# prices_df = get_price(symbol_list)\n",
    "# prices_df.to_csv('data/senate_prices.csv', index=True)  # Save to CSV file"
   ]
  },
  {
   "cell_type": "code",
   "execution_count": null,
   "id": "3f5cb27a",
   "metadata": {},
   "outputs": [],
   "source": [
    "df[df['lastName'] == 'Moran']"
   ]
  },
  {
   "cell_type": "code",
   "execution_count": null,
   "id": "616ea222",
   "metadata": {},
   "outputs": [],
   "source": [
    "#print(df.amount)\n",
    "for amount in df.amount: \n",
    "    amount = amount.split()\n",
    "    amount.remove('-')\n",
    "    #print(amount)\n",
    "    #print(amount[0][1:])\n",
    "    #print(amount[0][1:].replace(',', '.'))\n",
    "    #print(float(amount[0][1:].replace(',', '.')))\n",
    "    no_1 = float(amount[0][1:].replace(',', ''))\n",
    "    no_2 = float(amount[1][1:].replace(',', '')) \n",
    "    print(no_1, no_2)"
   ]
  },
  {
   "cell_type": "code",
   "execution_count": null,
   "id": "01210f1e",
   "metadata": {},
   "outputs": [],
   "source": [
    "#df[df[\"assetType\"]=='ETF'] # Check unique asset types \n",
    "df.info"
   ]
  },
  {
   "cell_type": "code",
   "execution_count": null,
   "id": "881663ae",
   "metadata": {},
   "outputs": [],
   "source": [
    "#get all symbols for senator purchases\n",
    "symbols_senator = df['symbol'].unique()\n",
    "print(type(symbols_senator)) # Display the unique symbols\n"
   ]
  },
  {
   "cell_type": "code",
   "execution_count": null,
   "id": "8b110e50",
   "metadata": {},
   "outputs": [],
   "source": [
    "#getting a list of senators for the analysis since 2020\n",
    "import pandas as pd\n",
    "import requests\n",
    "import json\n",
    "#load json data from link\n",
    "url = \"https://unitedstates.github.io/congress-legislators/legislators-current.json\"\n",
    "response = requests.get(url)\n",
    "\n",
    "# Check if the request was successful\n",
    "if response.status_code == 200:\n",
    "    data = response.json()  # Parse the JSON response\n",
    "    senator_data_df = pd.DataFrame(data)  # Convert the JSON data to a DataFrame\n",
    "\n",
    "#need to filter data to include senators for whom we have data (2020 onwards)\n",
    "#start senators_json\n",
    "senators_dict={}\n",
    "for senator in data:\n",
    "    if senator['terms'] is not None:\n",
    "        for term in senator['terms']:\n",
    "            if term['type'] == 'sen' and term['end'] >= '2020-06-01':\n",
    "                #senators_dict[senator['id']['bioguide']] = senator #modify to include transactions by data\n",
    "                senators_dict[senator['name']['official_full']] = senator #modify to include transactions by data\n",
    "\n",
    "print('No. of senators: ', len(senators_dict))\n",
    "\n",
    "#create a set of senator names\n",
    "senators_set = {}\n",
    "for senator in senators_dict.values():\n",
    "    senators_set [f'{senator['name']['official_full'][0]} {senator['name']['official_full'].split(' ')[-1]}'] = senator['name']['official_full']  # Add first and last name as a list\n",
    "\n",
    "print(senators_set.keys())\n",
    "print('J Banks' in senators_set.keys())  # Check if 'J Morran' is in the set\n",
    "print(senators_set)  # Check if 'J Banks' is in the set\n",
    "\n"
   ]
  },
  {
   "cell_type": "code",
   "execution_count": null,
   "id": "ee218bc6",
   "metadata": {},
   "outputs": [],
   "source": [
    "#create new dict with empty transactions\n",
    "senators_transactions = {} \n",
    "for senator in senators_set.keys():\n",
    "    senators_transactions[senators_set[senator]] = {}  # Initialize an empty dictionary for each senator\n",
    "\n",
    "print(senators_transactions)\n",
    " # Create a copy of the senators_dict to store transactions\n",
    "for transaction in df.iterrows():  \n",
    "    #print(transaction[1].office)\n",
    "    fullname = transaction[1].office\n",
    "    simplified_name = f'{fullname[0]} {fullname.split(' ')[-1]}'\n",
    "    #print(simplified_name)\n",
    "    if simplified_name in senators_set.keys():\n",
    "        #print(senators_transactions[senators_set[simplified_name]])\n",
    "        if transaction[1].transactionDate not in senators_transactions[senators_set[simplified_name]]:\n",
    "            senators_transactions[senators_set[simplified_name]][transaction[1].transactionDate]= []\n",
    "        \n",
    "        senators_transactions[senators_set[simplified_name]][transaction[1].transactionDate].append({'range':transaction[1].amount,\n",
    "                                                                                                     'symbol':transaction[1].symbol,\n",
    "                                                                                                     'type':transaction[1].type,\n",
    "                                                                                                     'owner':transaction[1].owner,\n",
    "                                                                                                     'assettype':transaction[1].assetType})\n",
    "                                                                                                    \n",
    "        # print(simplified_name, 'not found in the set')\n",
    "\n",
    "print(senators_transactions)   "
   ]
  },
  {
   "cell_type": "code",
   "execution_count": null,
   "id": "7379341f",
   "metadata": {},
   "outputs": [],
   "source": [
    "senators_transactions[senators_set['J Moran']]#this data is not labelled"
   ]
  },
  {
   "cell_type": "code",
   "execution_count": null,
   "id": "42b422f3",
   "metadata": {},
   "outputs": [],
   "source": [
    "for senator, transactions in senators_transactions.items():\n",
    "    if bool (transactions) == True:\n",
    "        for keys_values in transactions.items():\n",
    "            for transaction in keys_values[1]:\n",
    "                x = transaction['range'].split()\n",
    "                x.remove('-')\n",
    "                range_lower= (float(x[0][1:].replace(',', '')))\n",
    "                range_higher = (float(x[1][1:].replace(',', '')))\n",
    "                range_avg = (range_lower + range_higher) / 2\n",
    "                transaction['range_lower'] = range_lower\n",
    "                transaction['range_higher'] = range_higher\n",
    "                transaction['range_avg'] = range_avg\n",
    "                print(transaction)\n",
    "  \n",
    "# bring it all together for portfolio creation\n"
   ]
  },
  {
   "cell_type": "code",
   "execution_count": null,
   "id": "d96ed67a",
   "metadata": {},
   "outputs": [],
   "source": [
    "# # portfolio = Portfolio(names, str(valid_date):'symbol', stock_price_purchased,str(valid_date))\n",
    "# from portfolio import Portfolio\n",
    "# import pandas as pd \n",
    "# valid_date = get_closest_date_index(pd.Timestamp(31-12-2024), close_df)\n",
    "# stock_price_purchased = dict(close_df.loc[pd.to_datetime(valid_date)])\n",
    "# portfolio_santi = Portfolio('santiago','se',{str(valid_date):{'GOOG':1}}, stock_price_purchased,str(valid_date))\n",
    "# print(portfolio_santi)\n",
    "# bool(portfolio_santi)"
   ]
  },
  {
   "cell_type": "code",
   "execution_count": null,
   "id": "a9bcb159",
   "metadata": {},
   "outputs": [],
   "source": [
    "from portfolio import get_closest_date_index\n",
    "from data_fetch import import_yf_df\n",
    "from portfolio import Portfolio\n",
    "close_df = import_yf_df('data/senate_prices.csv', symbol_list)\n",
    "close_df.index[0]\n",
    "# print(close_df.index[0])\n",
    "senator_portfolio = {}\n",
    "\n",
    "for names in senators_transactions.keys():\n",
    "    senator_portfolio[names] = {}\n",
    "\n",
    "for values in senators_transactions.values():\n",
    "    if bool (values) == True:\n",
    "        # portfolio = Portfolio(names, str(valid_date):'symbol', stock_price_purchased,str(valid_date))\n",
    "        # portfolio = Portfolio('Gus', \"M\", {str(valid_date):{'AAPL': 1, 'MSFT': 1, 'GOOG': 1, 'AMZN': 1, 'TSLA': 1, 'NVDA': 1, 'NFLX': 1}}, stock_price_purchased,str(valid_date))\n",
    "        for k ,t in values.items():\n",
    "            i_transaction = t[0]\n",
    "            # print(i_transaction['symbol'])\n",
    "            \n",
    "\n",
    "for name_l, reported_transactions in senators_transactions.items():\n",
    "    name_list = name_l.split()\n",
    "    first_name = name_list[0]\n",
    "    last_name = name_list[-1]\n",
    "    \n",
    "    if bool (reported_transactions) == True:\n",
    "        for transaction_dates, s in reported_transactions.items():\n",
    "            for s_transaction in s:\n",
    "                valid_date = get_closest_date_index(pd.Timestamp(transaction_dates), close_df)  # Get the index of the closest date  # Get the first date from the DataFrame index     \n",
    "                \n",
    "                if valid_date is None or pd.isna(valid_date):\n",
    "                    #print(f\"Skipping transaction on {transaction_dates} for {name_l} (no valid date found)\")\n",
    "                    pass\n",
    "                #creatiing variables to input in portfolio\n",
    "                symb = s_transaction['symbol']\n",
    "                units = int(s_transaction['range_avg']/close_df.loc[pd.Timestamp(valid_date)][s_transaction['symbol']])\n",
    "                stk_price = close_df.loc[pd.Timestamp(valid_date)]\n",
    "\n",
    "                #print(f\"Transaction {transaction_dates} for {name_l} with valid date: {valid_date}, type: {s_transaction['type']}, symbol: {symb}, price: {stk_price[symb]}, units: {units}\")\n",
    "                if bool (senator_portfolio[name_l]) == False:\n",
    "                    senator_portfolio[name_l] = Portfolio(first_name,\n",
    "                                                            last_name,\n",
    "                                                            {str(valid_date):{symb:units}},\n",
    "                                                            stk_price,\n",
    "                                                            str(valid_date))# Initialize a new Portfolio object for the senator\n",
    "        \n",
    "                else:\n",
    "                    #print(f\"Processing transactions for {name_l}, {senator_portfolio[name_l].holdings}, {s_transaction['type']}, {s_transaction['range']}, symbol: {symb}\")\n",
    "                    if s_transaction['type'][0].lower() == 'p':\n",
    "                        senator_portfolio[name_l].add_asset(symb, units, str(valid_date), float(stk_price[symb]))\n",
    "                        #  def add_asset(self, symbol, units, buy_date, buy_price):\n",
    "                    elif s_transaction['type'][0].lower() == 's':     \n",
    "                        senator_portfolio[name_l].remove_asset(symb, units, str(valid_date), float(stk_price[symb]))  # Assuming remove_asset is defined in Portfolio\n",
    "                        # remove_asset(self, symbol, units, sell_date, historical_prices_df):\n",
    "                        #print(f\"Removing {units} shares of {symb} for {name_l} on {valid_date}\")\n",
    "                    else:\n",
    "                        #print(f\"Unknown transaction type: {s_transaction['type']} in {name_l} on {valid_date}\")\n",
    "                        pass\n",
    "                    #print(f\"PROCESSED {name_l}, {senator_portfolio[name_l].holdings}\")\n",
    "\n",
    "print(senator_portfolio['Jerry Moran'].holdings)"
   ]
  },
  {
   "cell_type": "code",
   "execution_count": null,
   "id": "06888d6b",
   "metadata": {},
   "outputs": [],
   "source": [
    "senator_portfolio['John Boozman'].holdings"
   ]
  },
  {
   "cell_type": "markdown",
   "id": "afc02924",
   "metadata": {},
   "source": [
    "#### Plotting"
   ]
  },
  {
   "cell_type": "code",
   "execution_count": 1,
   "id": "151ce8db",
   "metadata": {},
   "outputs": [
    {
     "ename": "NameError",
     "evalue": "name 'senator_portfolio' is not defined",
     "output_type": "error",
     "traceback": [
      "\u001b[31m---------------------------------------------------------------------------\u001b[39m",
      "\u001b[31mNameError\u001b[39m                                 Traceback (most recent call last)",
      "\u001b[36mCell\u001b[39m\u001b[36m \u001b[39m\u001b[32mIn[1]\u001b[39m\u001b[32m, line 5\u001b[39m\n\u001b[32m      1\u001b[39m \u001b[38;5;66;03m# Clean holdings: keep only the first element for each symbol\u001b[39;00m\n\u001b[32m      2\u001b[39m cleaned_holdings = {\n\u001b[32m      3\u001b[39m     date: {symbol: \u001b[38;5;28mmax\u001b[39m(\u001b[32m0\u001b[39m, value[\u001b[32m0\u001b[39m]) \u001b[38;5;28;01mif\u001b[39;00m \u001b[38;5;28misinstance\u001b[39m(value, \u001b[38;5;28mlist\u001b[39m) \u001b[38;5;129;01mand\u001b[39;00m \u001b[38;5;28mlen\u001b[39m(value) > \u001b[32m0\u001b[39m \u001b[38;5;28;01melse\u001b[39;00m value\n\u001b[32m      4\u001b[39m            \u001b[38;5;28;01mfor\u001b[39;00m symbol, value \u001b[38;5;129;01min\u001b[39;00m symbols.items()}\n\u001b[32m----> \u001b[39m\u001b[32m5\u001b[39m     \u001b[38;5;28;01mfor\u001b[39;00m date, symbols \u001b[38;5;129;01min\u001b[39;00m \u001b[43msenator_portfolio\u001b[49m[\u001b[33m'\u001b[39m\u001b[33mJohn Boozman\u001b[39m\u001b[33m'\u001b[39m].holdings.items()\n\u001b[32m      6\u001b[39m }\n\u001b[32m      8\u001b[39m holdings_df = pd.DataFrame(cleaned_holdings).T\n\u001b[32m      9\u001b[39m holdings_df\n",
      "\u001b[31mNameError\u001b[39m: name 'senator_portfolio' is not defined"
     ]
    }
   ],
   "source": [
    "# Clean holdings: keep only the first element for each symbol\n",
    "cleaned_holdings = {\n",
    "    date: {symbol: max(0, value[0]) if isinstance(value, list) and len(value) > 0 else value\n",
    "           for symbol, value in symbols.items()}\n",
    "    for date, symbols in senator_portfolio['John Boozman'].holdings.items()\n",
    "}\n",
    "\n",
    "holdings_df = pd.DataFrame(cleaned_holdings).T\n",
    "holdings_df"
   ]
  },
  {
   "cell_type": "code",
   "execution_count": null,
   "id": "8dd3e97b",
   "metadata": {},
   "outputs": [],
   "source": [
    "holdings_df = pd.DataFrame(senator_portfolio['John Boozman'].holdings).T\n",
    "holdings_df"
   ]
  },
  {
   "cell_type": "code",
   "execution_count": null,
   "id": "e524a98d",
   "metadata": {},
   "outputs": [],
   "source": [
    "senator_portfolio['John Boozman'].get_portfolio_value(close_df)\n",
    "senator_portfolio['John Boozman'].portfolio_value\n"
   ]
  },
  {
   "cell_type": "code",
   "execution_count": null,
   "id": "d31df6a0",
   "metadata": {},
   "outputs": [],
   "source": [
    "from plotter import plot_df_prices_lines\n",
    "plot_df_prices_lines([senator_portfolio['John Boozman']])\n"
   ]
  },
  {
   "cell_type": "code",
   "execution_count": null,
   "id": "0a8bdbb3",
   "metadata": {},
   "outputs": [],
   "source": [
    "from plotter import plot_df_prices_components\n",
    "plot_df_prices_components(senator_portfolio['John Boozman'])"
   ]
  },
  {
   "cell_type": "markdown",
   "id": "c43cab1e",
   "metadata": {},
   "source": [
    "## Backtester 1.2"
   ]
  },
  {
   "cell_type": "code",
   "execution_count": null,
   "id": "425b31a8",
   "metadata": {},
   "outputs": [],
   "source": [
    "import requests\n",
    "import pandas as pd\n",
    "import requests\n",
    "import json\n",
    "from portfolio import get_closest_date_index\n",
    "from data_fetch import import_yf_df\n",
    "from portfolio import Portfolio\n",
    "from plotter import plot_df_prices_components\n",
    "\n",
    "##FMP API\n",
    "# PUBLIC API KEY = ?apikey=eGw4yVV5QZwCAsvqO3zZcs8dNRulA1Nk\n",
    "# Define the API endpoint and parameters\n",
    "url = \"https://financialmodelingprep.com/stable/senate-latest\" #Api Url  \n",
    "params = {\n",
    "    'apikey': 'eGw4yVV5QZwCAsvqO3zZcs8dNRulA1Nk'  \n",
    "}\n",
    "response = requests.get(url, params=params)\n",
    "# Check if the request was successful\n",
    "\n",
    "df.info()  # Display the first few rows of the DataFrame\n",
    "\n",
    "\n",
    "senator_data_df['symbol'].unique()  # Get unique symbols from the DataFrame\n",
    "symbol_list = list(df['symbol'].unique())\n",
    "\n",
    "\n",
    "    #getting a list of senators for the analysis since 2020\n",
    "\n",
    "#load json data from link\n",
    "url = \"https://unitedstates.github.io/congress-legislators/legislators-current.json\"\n",
    "response = requests.get(url)\n",
    "\n",
    "# Check if the request was successful\n",
    "if response.status_code == 200:\n",
    "    data = response.json()  # Parse the JSON response\n",
    "    senator_data_df = pd.DataFrame(data)  # Convert the JSON data to a DataFrame\n",
    "\n",
    "senator_data_df['symbol'].unique()  # Get unique symbols from the DataFrame\n",
    "symbol_list = list(df['symbol'].unique())\n",
    "\n",
    "#need to filter data to include senators for whom we have data (2020 onwards)\n",
    "#start senators_json\n",
    "senators_dict={}\n",
    "for senator in data:\n",
    "    if senator['terms'] is not None:\n",
    "        for term in senator['terms']:\n",
    "            if term['type'] == 'sen' and term['end'] >= '2020-06-01':\n",
    "                senators_dict[senator['id']['bioguide']] = senator #modify to include transactions by data\n",
    "                senators_dict[senator['name']['official_full']] = senator #modify to include transactions by data\n",
    "\n",
    "#create a set of senator names\n",
    "senators_set = {}\n",
    "for senator in senators_dict.values():\n",
    "    senators_set [f'{senator['name']['official_full'][0]} {senator['name']['official_full'].split(' ')[-1]}'] = senator['name']['official_full']  # Add first and last name as a list\n",
    "\n",
    "#create new dict with empty transactions\n",
    "senators_transactions = {} \n",
    "for senator in senators_set.keys():\n",
    "    senators_transactions[senators_set[senator]] = {}  # Initialize an empty dictionary for each senator\n",
    "\n",
    " # Create a copy of the senators_dict to store transactions\n",
    "for transaction in df.iterrows():  \n",
    "    fullname = transaction[1].office\n",
    "    simplified_name = f'{fullname[0]} {fullname.split(' ')[-1]}'\n",
    "    if simplified_name in senators_set.keys():\n",
    "        if transaction[1].transactionDate not in senators_transactions[senators_set[simplified_name]]:\n",
    "            senators_transactions[senators_set[simplified_name]][transaction[1].transactionDate]= []\n",
    "\n",
    "        #creating dict for sentators name and transactions \n",
    "        senators_transactions[senators_set[simplified_name]][transaction[1].transactionDate].append({'range':transaction[1].amount,\n",
    "                                                                                                     'symbol':transaction[1].symbol,\n",
    "                                                                                                     'type':transaction[1].type,\n",
    "                                                                                                     'owner':transaction[1].owner,\n",
    "                                                                                                     'assettype':transaction[1].assetType})\n",
    "\n",
    "for senator, transactions in senators_transactions.items():\n",
    "    #calcaution Average of senators invement \n",
    "    if bool (transactions) == True:\n",
    "        for keys_values in transactions.items():\n",
    "            for transaction in keys_values[1]:\n",
    "                x = transaction['range'].split()\n",
    "                x.remove('-')\n",
    "                range_lower= (float(x[0][1:].replace(',', '')))\n",
    "                range_higher = (float(x[1][1:].replace(',', '')))\n",
    "                range_avg = (range_lower + range_higher) / 2\n",
    "                transaction['range_lower'] = range_lower #lowest amount of invemnet from the range\n",
    "                transaction['range_higher'] = range_higher #highest amount of invemnet from the range\n",
    "                transaction['range_avg'] = range_avg #avergae amount of invemnet from the range \n",
    "\n",
    "close_df = import_yf_df('data/senate_prices.csv', symbol_list) #importing stock prices and list of the symbols\n",
    "close_df.index[0]\n",
    "senator_portfolio = {} #empty dic of senator portfolio \n",
    "\n",
    "for names in senators_transactions.keys():\n",
    "    senator_portfolio[names] = {} # =empty dict of sentator names \n",
    "\n",
    "for name_l, reported_transactions in senators_transactions.items():\n",
    "    #creating list of first name and last name \n",
    "    name_list = name_l.split()\n",
    "    first_name = name_list[0]\n",
    "    last_name = name_list[-1]\n",
    "    \n",
    "    if bool (reported_transactions) == True:\n",
    "        for transaction_dates, s in reported_transactions.items():# the keys and value of transections \n",
    "            for s_transaction in s:\n",
    "                valid_date = get_closest_date_index(pd.Timestamp(transaction_dates), close_df)  # Get the index of the closest date  # Get the first date from the DataFrame index     \n",
    "                \n",
    "                if valid_date is None or pd.isna(valid_date):\n",
    "                    pass\n",
    "                #creating variables to input in portfolio\n",
    "                symb = s_transaction['symbol']\n",
    "                units = int(s_transaction['range_avg']/close_df.loc[pd.Timestamp(valid_date)][s_transaction['symbol']])\n",
    "                stk_price = close_df.loc[pd.Timestamp(valid_date)]\n",
    "\n",
    "               #checking if porfolio is emtpy \n",
    "                if bool (senator_portfolio[name_l]) == False:\n",
    "                    #creating new portfolio of senator in sentor porfolio\n",
    "                    senator_portfolio[name_l] = Portfolio(first_name,\n",
    "                                                            last_name,\n",
    "                                                            {str(valid_date):{symb:units}},\n",
    "                                                            stk_price,\n",
    "                                                            str(valid_date))# Initialize a new Portfolio object for the senator\n",
    "                else:\n",
    "                    if s_transaction['type'][0].lower() == 'p':\n",
    "                        senator_portfolio[name_l].add_asset(symb, units, str(valid_date), float(stk_price[symb]))\n",
    "                        #  def add_asset(self, symbol, units, buy_date, buy_price):\n",
    "                    elif s_transaction['type'][0].lower() == 's':     \n",
    "                        senator_portfolio[name_l].remove_asset(symb, units, str(valid_date), float(stk_price[symb]))  # Assuming remove_asset is defined in Portfolio\n",
    "                    else:\n",
    "                        pass\n",
    "\n",
    "# Clean holdings: keep only the first element for each symbol\n",
    "cleaned_holdings = {\n",
    "    date: {symbol: max(0, value[0]) if isinstance(value, list) and len(value) > 0 else value\n",
    "           for symbol, value in symbols.items()}\n",
    "    for date, symbols in senator_portfolio['John Boozman'].holdings.items()\n",
    "}\n",
    "\n",
    "holdings_df = pd.DataFrame(cleaned_holdings).T\n",
    "holdings_df\n",
    "\n",
    "senator_portfolio['John Boozman'].get_portfolio_value(close_df)\n",
    "plot_df_prices_components(senator_portfolio['John Boozman']) #plotiong graph of senator "
   ]
  },
  {
   "cell_type": "code",
   "execution_count": 55,
   "id": "a49418a9",
   "metadata": {},
   "outputs": [
    {
     "name": "stdout",
     "output_type": "stream",
     "text": [
      "1\n",
      "2\n",
      "3\n",
      "yes\n"
     ]
    }
   ],
   "source": [
    "d = [\"5-10-2024\",\"3-5-2024\",\"2-12-2024\"]\n",
    "for x,y in enumerate(d):\n",
    "    print(x+1)\n",
    "    # print(y,d[x])\n",
    "\n",
    "    # print(y[x-1])\n",
    "\n",
    "my = {'5-10-2024':{'APPl':1}}\n",
    "if 'APPl' in my['5-10-2024']:\n",
    "    print('yes')"
   ]
  }
 ],
 "metadata": {
  "kernelspec": {
   "display_name": "finance",
   "language": "python",
   "name": "python3"
  },
  "language_info": {
   "codemirror_mode": {
    "name": "ipython",
    "version": 3
   },
   "file_extension": ".py",
   "mimetype": "text/x-python",
   "name": "python",
   "nbconvert_exporter": "python",
   "pygments_lexer": "ipython3",
   "version": "3.13.3"
  }
 },
 "nbformat": 4,
 "nbformat_minor": 5
}
