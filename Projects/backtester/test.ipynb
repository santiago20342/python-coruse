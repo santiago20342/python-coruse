{
 "cells": [
  {
   "cell_type": "code",
   "execution_count": null,
   "id": "48f20074",
   "metadata": {},
   "outputs": [],
   "source": [
    "import yfinance as yf\n",
    "dat = yf.Ticker(\"MSFT\")"
   ]
  },
  {
   "cell_type": "code",
   "execution_count": null,
   "id": "c5d4f8bc",
   "metadata": {},
   "outputs": [],
   "source": [
    "dat = yf.Ticker(\"MSFT\")\n",
    "dat.info\n",
    "dat.calendar\n",
    "dat.analyst_price_targets\n",
    "dat.quarterly_income_stmt\n",
    "dat.history(period='1mo') # 1 month of historical data\n",
    "dat.option_chain(dat.options[0]).calls"
   ]
  },
  {
   "cell_type": "code",
   "execution_count": null,
   "id": "c9d80049",
   "metadata": {},
   "outputs": [],
   "source": [
    "from data_fetch import get_price\n",
    "start = '2024-01-01'\n",
    "end = '2025-01-01'\n",
    "prices = get_price(['AAPL', 'MSFT'], start, end)\n",
    "prices"
   ]
  },
  {
   "cell_type": "code",
   "execution_count": null,
   "id": "0b35e945",
   "metadata": {},
   "outputs": [],
   "source": [
    "#setting pandas to display floats with 2 decimal places\n",
    "import pandas as pd\n",
    "\n",
    "# Set pandas to display floats with 2 decimal places\n",
    "pd.options.display.float_format = '{:.2f}'.format"
   ]
  },
  {
   "cell_type": "code",
   "execution_count": null,
   "id": "f85a7820",
   "metadata": {},
   "outputs": [],
   "source": [
    "prices['Close']"
   ]
  },
  {
   "cell_type": "code",
   "execution_count": null,
   "id": "9ba36cc7",
   "metadata": {},
   "outputs": [],
   "source": [
    "from data_fetch import get_price\n",
    "from portfolio import Portfolio\n",
    "from plotter import plot_prices\n",
    "\n",
    "shares = ['AAPL', 'MSFT']\n",
    "\n",
    "portfolio = Portfolio()\n",
    "for symbol in shares:\n",
    "    portfolio.add_asset(symbol, 1)\n",
    "\n",
    "\n",
    "\n",
    "start = '2024-01-01'\n",
    "end = '2025-01-01'\n",
    "\n",
    "prices_df = get_price(shares, start, end)\n",
    "prices_close_df = prices_df['Close']\n",
    "\n",
    "print(\"Portfolio Value:\", portfolio.get_portfolio_value(prices_close_df))\n",
    "#plot_prices(prices_close_df)"
   ]
  },
  {
   "cell_type": "code",
   "execution_count": null,
   "id": "e72fb7d0",
   "metadata": {},
   "outputs": [],
   "source": [
    "#1. getting data from yfinance\n",
    "# Example usage\n",
    "from data_fetch import get_price\n",
    "from portfolio import Portfolio\n",
    "from plotter import plot_prices\n",
    "\n",
    "shares = ['AAPL', 'MSFT', 'GOOG', 'AMZN', 'TSLA', 'NVDA', 'NFLX']\n",
    "num_shares = [1, 1, 1, 1, 1, 1, 1] # Number of shares for each asset\n",
    "portfolio = Portfolio()\n",
    "for i, symbol in enumerate(shares):\n",
    "    portfolio.add_asset(symbol, num_shares[i])\n",
    "\n",
    "\n",
    "\n",
    "prices_df = get_price(shares)\n",
    "#prices_df.to_csv('prices.csv', index=True)\n",
    "prices_df"
   ]
  },
  {
   "cell_type": "code",
   "execution_count": null,
   "id": "ba99b629",
   "metadata": {},
   "outputs": [],
   "source": [
    "import pandas as pd\n",
    "#retrieve data from csv\n",
    "prices_df = pd.read_csv('prices.csv', parse_dates=True)\n",
    "prices_df"
   ]
  },
  {
   "cell_type": "code",
   "execution_count": null,
   "id": "d1668928",
   "metadata": {},
   "outputs": [],
   "source": [
    "fil = ['Price', 'Close']\n",
    "for i,element in enumerate(shares[1:]):\n",
    "    fil.append('Close'+'.'+str(i+1))\n",
    "    print(fil)\n",
    "#filtering the columns to get only the closing prices\n",
    "prices_close_df = prices_df[fil]\n",
    "prices_close_df"
   ]
  },
  {
   "cell_type": "code",
   "execution_count": null,
   "id": "b266d126",
   "metadata": {},
   "outputs": [],
   "source": [
    "column_new = ['Date']\n",
    "for i,element in enumerate(shares):\n",
    "    column_new.append(element)\n",
    "print(column_new)\n",
    "prices_close_df.columns = column_new\n",
    "prices_close_df\n"
   ]
  },
  {
   "cell_type": "code",
   "execution_count": null,
   "id": "ee78567f",
   "metadata": {},
   "outputs": [],
   "source": [
    "#erase rows 0 and 1\n",
    "prices_close_df = prices_close_df.drop([0, 1])\n",
    "prices_close_df"
   ]
  },
  {
   "cell_type": "code",
   "execution_count": null,
   "id": "a7b1dff9",
   "metadata": {},
   "outputs": [],
   "source": [
    "prices_close_df.set_index('Date', inplace=True)\n",
    "prices_close_df"
   ]
  },
  {
   "cell_type": "code",
   "execution_count": null,
   "id": "05683ed0",
   "metadata": {},
   "outputs": [],
   "source": [
    "#Changing output of dataframe to float\n",
    "print(portfolio.holdings['AAPL'])\n",
    "print(type(float(prices_close_df['AAPL']['2024-01-02'])))\n",
    "print(\"Portfolio Value:\", portfolio.get_portfolio_value(prices_close_df))\n"
   ]
  },
  {
   "cell_type": "code",
   "execution_count": null,
   "id": "3db20239",
   "metadata": {},
   "outputs": [],
   "source": [
    "value = portfolio.get_portfolio_value(prices_close_df)\n",
    "value"
   ]
  },
  {
   "cell_type": "markdown",
   "id": "93c23894",
   "metadata": {},
   "source": [
    "## Visualisations for the platform"
   ]
  },
  {
   "cell_type": "code",
   "execution_count": null,
   "id": "99bb8de6",
   "metadata": {},
   "outputs": [],
   "source": [
    "#1. basic visualization of stock prices.\n",
    "#prices_close_df\n",
    "prices_close_df = prices_close_df.astype(float) #turn values to float\n",
    "plot_prices(prices_close_df)"
   ]
  },
  {
   "cell_type": "markdown",
   "id": "b55e6e09",
   "metadata": {},
   "source": [
    "## Making Dates Dynamic "
   ]
  },
  {
   "cell_type": "code",
   "execution_count": null,
   "id": "28178458",
   "metadata": {},
   "outputs": [],
   "source": [
    "import pandas as pd\n",
    "#retrieve data from csv\n",
    "prices_pdates = pd.read_csv('prices.csv', parse_dates=True)\n",
    "prices_pdates = prices_pdates.drop([0, 1])\n",
    "prices_pdates = prices_pdates.rename(columns={'Price': 'Date'})\n",
    "prices_pdates"
   ]
  },
  {
   "cell_type": "code",
   "execution_count": null,
   "id": "29f87aa8",
   "metadata": {},
   "outputs": [],
   "source": [
    "from datetime import datetime\n",
    "# prices_pdates.columns\n",
    "prices_pdates_out = prices_pdates['Date']\n",
    "prices_pdates_list= prices_pdates_out.tolist()\n",
    "print(type(prices_pdates_list[0]))\n",
    "prices_pdates_list_e1 =datetime.strptime(prices_pdates_list[0], '%Y-%m-%d') #Transform the first date to datetime object\n",
    "prices_pdates_list_e1\n"
   ]
  },
  {
   "cell_type": "code",
   "execution_count": null,
   "id": "899252f4",
   "metadata": {},
   "outputs": [],
   "source": [
    "#turn values in Date column to datetime objects (PANDAS METHOD)\n",
    "prices_pdates['Date_a'] = pd.to_datetime(prices_pdates['Date'])"
   ]
  },
  {
   "cell_type": "code",
   "execution_count": null,
   "id": "9e693e06",
   "metadata": {},
   "outputs": [],
   "source": [
    "# Convert the 'Date' column to datetime objects (PYTHON METHOD)\n",
    "prices_pdates['Date_ b'] = prices_pdates['Date'].apply(lambda x: datetime.strptime(x, '%Y-%m-%d'))  # Format to string"
   ]
  },
  {
   "cell_type": "code",
   "execution_count": null,
   "id": "e3b2fc5c",
   "metadata": {},
   "outputs": [],
   "source": [
    "# check the type of the first element in the 'Date' columns\n",
    "print(type(prices_pdates['Date_a'].to_list()[0]))  # PANDAS METHOD\n",
    "print(type(prices_pdates['Date_ b'].to_list()[0]))  # PYTHON METHOD\n",
    "\n",
    "#both work. Need to change the code to use dynamic dates. "
   ]
  },
  {
   "cell_type": "markdown",
   "id": "4717400d",
   "metadata": {},
   "source": [
    "# Backtester 1.0"
   ]
  },
  {
   "cell_type": "code",
   "execution_count": null,
   "id": "15d02dcc",
   "metadata": {},
   "outputs": [],
   "source": [
    "# Bring it all together for a 1.0 version. \n",
    "def get_closest_date_index(date, df_original):\n",
    "    \"\"\"\n",
    "    Get the index of the closest date in a list of dates.\n",
    "    Args:\n",
    "        date (timestamp): The date to find the closest match for.\n",
    "        date_series (pandas.Series): A pandas series of pandas.Timestamp objects.\n",
    "    Returns:\n",
    "        int: The index of the closest date in the list.\n",
    "    \"\"\"\n",
    "    # getting the closest date index\n",
    "    df_with_dates = df_original.copy()\n",
    "    df_with_dates['timedeltas'] = abs(df_with_dates.index - date)\n",
    "    min_diff = min(df_with_dates['timedeltas'])\n",
    "    # Calculate the difference between the last date in the DataFrame and today\n",
    "    index = df_with_dates['timedeltas'].isin([min_diff]).idxmax()\n",
    "    return index\n",
    "## 1. DATA FETCHING\n",
    "# Example usage\n",
    "from data_fetch import get_price\n",
    "from portfolio import Portfolio\n",
    "from portfolio import get_closest_date_index\n",
    "from plotter import plot_df_prices\n",
    "import pandas as pd\n",
    "import datetime\n",
    "\n",
    "shares = ['AAPL', 'MSFT', 'GOOG', 'AMZN', 'TSLA', 'NVDA', 'NFLX']\n",
    "num_shares = [1, 1, 1, 1, 1, 1, 1] # Number of shares for each asset\n",
    "portfolio = Portfolio()\n",
    "for i, symbol in enumerate(shares):\n",
    "    portfolio.add_asset(symbol, num_shares[i])\n",
    "\n",
    "prices_df = get_price(shares)\n",
    "#prices_df.to_csv('prices.csv', index=True)\n",
    "\n",
    "#retrieve data from csv\n",
    "prices_df = pd.read_csv('prices.csv')\n",
    "prices_df\n",
    "\n",
    "columns_to_filter = ['Price', 'Close']\n",
    "for i,element in enumerate(shares[1:]):\n",
    "    columns_to_filter.append('Close'+'.'+str(i+1))\n",
    "    print(columns_to_filter)\n",
    "\n",
    "#filtering the columns to get only the closing prices\n",
    "prices_close_df = prices_df[columns_to_filter]\n",
    "\n",
    "column_new = ['Date']\n",
    "for i,element in enumerate(shares):\n",
    "    column_new.append(element)\n",
    "print(column_new)\n",
    "prices_close_df.columns = column_new\n",
    "\n",
    "#erase rows 0 and 1\n",
    "prices_close_df = prices_close_df.drop([0, 1])\n",
    "\n",
    "# Convert 'Date' column to datetime objects\n",
    "prices_close_df['Date'] = pd.to_datetime(prices_close_df['Date'])\n",
    "prices_close_df.set_index('Date', inplace=True)\n",
    "print(prices_close_df)\n",
    "print(type(prices_close_df.index[-1]))\n",
    "\n",
    "#Time delat \n",
    "date = datetime.datetime.strptime(\"2025-06-06\", '%Y-%m-%d')\n",
    "date = pd.Timestamp(date)  # Convert to pandas Timestamp\n",
    "print(\"Portfolio Value:\", portfolio.get_portfolio_value(prices_close_df, date))\n",
    "\n",
    "\n",
    "#1. basic visualization of stock prices.\n",
    "#prices_close_df\n",
    "prices_close_df = prices_close_df.astype(float) #turn values to float\n",
    "plot_df_prices(prices_close_df)\n",
    "\n",
    "#both work. Need to change the code to use dynamic dates. "
   ]
  },
  {
   "cell_type": "code",
   "execution_count": null,
   "id": "f6e93f99",
   "metadata": {},
   "outputs": [],
   "source": [
    "date = datetime.datetime.strptime(\"2024-12-28\", '%Y-%m-%d')\n",
    "date = pd.Timestamp(date)  # Convert to pandas Timestamp\n",
    "i = get_closest_date_index(date, prices_close_df)\n",
    "i"
   ]
  },
  {
   "cell_type": "markdown",
   "id": "eb7c8499",
   "metadata": {},
   "source": [
    "## Creating different Portfolios to track and backtest"
   ]
  },
  {
   "cell_type": "code",
   "execution_count": null,
   "id": "610d6534",
   "metadata": {},
   "outputs": [],
   "source": [
    "#portfolio2\n",
    "shares = ['AAPL', 'MSFT', 'GOOG', 'AMZN', 'TSLA', 'NVDA', 'NFLX']\n",
    "num_shares_santi = [2, 3, 1, 2, 3, 5, 8] # Number of shares for each asset\n",
    "num_shares_gus = [5, 5, 5, 1, 1, 5, 1]\n",
    "portfolio_santi = Portfolio()\n",
    "portfolio_gus = Portfolio()\n",
    "for i, symbol in enumerate(shares):\n",
    "    portfolio_santi.add_asset(symbol, num_shares_santi[i])\n",
    "    portfolio_gus.add_asset(symbol, num_shares_gus[i])\n",
    "\n",
    "print(\"Portfolio Value:\", portfolio_santi.get_portfolio_value(prices_close_df, date))\n",
    "print(\"Portfolio Value:\", portfolio_gus.get_portfolio_value(prices_close_df, date))\n",
    "\n"
   ]
  },
  {
   "cell_type": "markdown",
   "id": "0e3108a2",
   "metadata": {},
   "source": [
    "## Plotting the portfolio values"
   ]
  },
  {
   "cell_type": "code",
   "execution_count": null,
   "id": "d63273b8",
   "metadata": {},
   "outputs": [],
   "source": [
    "cutoff_date = datetime.datetime.strptime(\"2009-01-31\", '%Y-%m-%d')\n",
    "cutoff_date = pd.Timestamp(cutoff_date) \n",
    "# Create a new DataFrame with the same index as prices_close_df\n",
    "# Get all rows after and including the cutoff_date\n",
    "sliced_df = prices_close_df.loc[cutoff_date:]\n",
    "\n",
    "portfolio_values_df = pd.DataFrame()\n",
    "portfolio_values_df['Date'] = sliced_df.index\n",
    "portfolio_values_df['Santi'] = portfolio_values_df['Date'].apply(lambda x: portfolio_santi.get_portfolio_value(prices_close_df, x))  # Format to string\n",
    "portfolio_values_df['Gus'] = portfolio_values_df['Date'].apply(lambda x: portfolio_gus.get_portfolio_value(prices_close_df, x)) \n",
    "portfolio_values_df['Base'] = portfolio_values_df['Date'].apply(lambda x: portfolio.get_portfolio_value(prices_close_df, x)) \n",
    "# Display the new DataFrame\n",
    "portfolio_values_df"
   ]
  },
  {
   "cell_type": "code",
   "execution_count": null,
   "id": "16b0fd01",
   "metadata": {},
   "outputs": [],
   "source": [
    "portfolio_values_df.set_index('Date', inplace=True)\n",
    "# Plot the portfolio values\n",
    "portfolio_values_df.plot()"
   ]
  },
  {
   "cell_type": "code",
   "execution_count": null,
   "id": "4eca6498",
   "metadata": {},
   "outputs": [],
   "source": [
    "a = list(range(1, 10))\n",
    "a.append(a[-1])\n",
    "a"
   ]
  },
  {
   "cell_type": "code",
   "execution_count": null,
   "id": "3fbc231b",
   "metadata": {},
   "outputs": [],
   "source": [
    "a[-2] = 100\n",
    "a"
   ]
  },
  {
   "cell_type": "code",
   "execution_count": null,
   "id": "5399c9fc",
   "metadata": {},
   "outputs": [],
   "source": [
    "import pandas as pd\n",
    "dict = {'2025': {'aa':1, 'bb':2}, '2026': {'aa':3, 'bb':4}}\n",
    "df = pd.DataFrame(dict)\n",
    "df.T"
   ]
  },
  {
   "cell_type": "markdown",
   "id": "4ab2fdbe",
   "metadata": {},
   "source": [
    "## Backtester 1.1"
   ]
  },
  {
   "cell_type": "code",
   "execution_count": null,
   "id": "abb6dc5d",
   "metadata": {},
   "outputs": [],
   "source": [
    "# Bring it all together for a 1.1 version. \n",
    "from data_fetch import get_price\n",
    "from data_fetch import import_yf_df\n",
    "from portfolio import Portfolio\n",
    "from portfolio import get_closest_date_index\n",
    "from plotter import plot_df_prices_components\n",
    "import pandas as pd\n",
    "\n",
    "\n",
    "\n",
    "shares = ['AAPL', 'MSFT', 'GOOG', 'AMZN', 'TSLA', 'NVDA', 'NFLX']\n",
    "num_shares = [1, 1, 1, 1, 1, 1, 1] # Number of shares for each asset\n",
    "\n",
    "#get price data with the API (yahoo finance)\n",
    "#prices_df = get_price(shares)\n",
    "#prices_df.to_csv('prices.csv', index=True)\n",
    "\n",
    "#import csv data and clean it\n",
    "prices_close_df = import_yf_df('prices.csv', shares)\n",
    "\n",
    "\n",
    "valid_date = get_closest_date_index(pd.Timestamp('2023-12-31'), prices_close_df)  # Get the index of the closest date  # Get the first date from the DataFrame index\n",
    "stock_price_purchased = dict(prices_close_df.loc[pd.to_datetime(valid_date)])  # Get the stock prices for the valid date\n",
    "print(stock_price_purchased)\n",
    "portfolio = Portfolio('Gus', \"M\", {str(valid_date):{'AAPL': 1, 'MSFT': 1, 'GOOG': 1, 'AMZN': 1, 'TSLA': 1, 'NVDA': 1, 'NFLX': 1}}, stock_price_purchased,str(valid_date))\n",
    "\n",
    "#test functionality\n",
    "#removing an asset\n",
    "valid_date = get_closest_date_index(pd.Timestamp('2025-04-30'), prices_close_df)\n",
    "symbol = 'AAPL'\n",
    "portfolio.remove_asset(symbol,1, str(valid_date), prices_close_df)  # Remove 1 share of AAPL at the price on the valid date\n",
    "\n",
    "\n",
    "#adding a new asset\n",
    "valid_date = get_closest_date_index(pd.Timestamp('2025-06-01'), prices_close_df)  # Get the index of the closest date  # Get the first date from the DataFrame index\n",
    "stock_price_purchased = dict(prices_close_df.loc[pd.to_datetime(valid_date)])  # Get the stock prices for the valid date\n",
    "symbol = 'AAPL'\n",
    "portfolio.add_asset(symbol, 1,str(valid_date), float(stock_price_purchased[symbol]))  # Add 1 share of AAPL at the price on the valid date\n",
    "\n",
    "#print(portfolio.holdings)\n",
    "print(portfolio.investment)\n",
    "print(portfolio.capital_gains)\n",
    "\n",
    "\n",
    "# # Calculating portfolio value for each date in the test DataFrame\n",
    "val = portfolio.get_portfolio_value(prices_close_df)\n",
    "cols_graph = val.columns[:-1]\n",
    "val  # Remove the 'Date' column for plotting\n",
    "\n"
   ]
  },
  {
   "cell_type": "code",
   "execution_count": null,
   "id": "5b1fc183",
   "metadata": {},
   "outputs": [],
   "source": [
    "from plotter import plot_df_prices_components\n",
    "plot_df_prices_components(val[cols_graph])"
   ]
  },
  {
   "cell_type": "markdown",
   "id": "7e90378e",
   "metadata": {},
   "source": [
    "### Viz comparison"
   ]
  },
  {
   "cell_type": "code",
   "execution_count": null,
   "id": "61ed070c",
   "metadata": {},
   "outputs": [],
   "source": [
    "# Bring it all together for a 1.2 version. \n",
    "from data_fetch import get_price\n",
    "from data_fetch import import_yf_df\n",
    "from portfolio import Portfolio\n",
    "from portfolio import get_closest_date_index\n",
    "from plotter import plot_df_prices_components\n",
    "from plotter import plot_df_prices_lines\n",
    "from plotter import plot_df_prices_lines\n",
    "\n",
    "import pandas as pd\n",
    "\n",
    "\n",
    "\n",
    "shares = ['AAPL', 'MSFT', 'GOOG', 'AMZN', 'TSLA', 'NVDA', 'NFLX']\n",
    "num_shares = [1, 1, 1, 1, 1, 1, 1] # Number of shares for each asset\n",
    "\n",
    "#get price data with the API (yahoo finance)\n",
    "#prices_df = get_price(shares)\n",
    "#prices_df.to_csv('prices.csv', index=True)\n",
    "\n",
    "#import csv data and clean it\n",
    "prices_close_df = import_yf_df('prices.csv', shares)\n",
    "\n",
    "\n",
    "valid_date_g = get_closest_date_index(pd.Timestamp('2023-12-31'), prices_close_df)  # Get the index of the closest date  # Get the first date from the DataFrame index\n",
    "valid_date_s = get_closest_date_index(pd.Timestamp('2021-12-31'), prices_close_df)  # needto handle different dates for different portfolios\n",
    "valid_date_w = get_closest_date_index(pd.Timestamp('2018-12-31'), prices_close_df)  # idem\n",
    "\n",
    "stock_price_purchased = dict(prices_close_df.loc[pd.to_datetime(valid_date_g)])\n",
    "portfolio_g = Portfolio('Gustavo', \"M\", {str(valid_date_g):{'AAPL': 10, 'MSFT': 10, 'GOOG': 10, 'AMZN': 10, 'TSLA': 10, 'NVDA': 10, 'NFLX': 10}}, stock_price_purchased, str(valid_date_g))\n",
    "portfolio_s = Portfolio('Santiago', \"S\", {str(valid_date_s):{'AAPL': 8, 'MSFT': 10, 'GOOG': 12, 'AMZN': 5, 'TSLA': 14, 'NVDA': 4, 'NFLX': 15}}, stock_price_purchased, str(valid_date_s))\n",
    "portfolio_w = Portfolio('Warren', \"B\", {str(valid_date_w):{'AAPL': 40, 'MSFT':60}}, stock_price_purchased, str(valid_date_w))\n",
    "\n",
    "valid_date_g2 = get_closest_date_index(pd.Timestamp('2025-06-01'), prices_close_df)\n",
    "stock_price_purchased2 = dict(prices_close_df.loc[pd.to_datetime(valid_date_g2)])  # Get the stock prices for the valid date\n",
    "symbol2 = 'AAPL'\n",
    "portfolio_g.add_asset(symbol2, 1, str(valid_date_g2), float(stock_price_purchased2[symbol2]))  # Add 1 share of AAPL at the price on the valid date\n",
    "portfolio_s.add_asset(symbol2, 1, str(valid_date_g2), float(stock_price_purchased2[symbol2]))  # Add 1 share of AAPL at the price on the valid date\n",
    "portfolio_w.add_asset(symbol2, 1, str(valid_date_g2), float(stock_price_purchased2[symbol2]))  # Add 1 share of AAPL at the price on the valid date\n",
    "\n",
    "# Calculating portfolio value for each date in the test DataFrame\n",
    "portfolio_g.get_portfolio_value(prices_close_df)\n",
    "portfolio_s.get_portfolio_value(prices_close_df)\n",
    "portfolio_w.get_portfolio_value(prices_close_df)\n",
    "\n",
    "# Assuming val_g, val_s, and val_w are DataFrames with a \"total value\" column and the same index\n",
    "comparison_df = pd.DataFrame({\n",
    "    'Gus': portfolio_g.portfolio_value['Total_Value'],\n",
    "    'Santiago': portfolio_s.portfolio_value['Total_Value'],\n",
    "    'Warren': portfolio_w.portfolio_value['Total_Value']\n",
    "})\n",
    "# Display the joined DataFrame\n",
    "comparison_df\n",
    "\n",
    "#plot_df_prices_lines(comparison_df)\n"
   ]
  },
  {
   "cell_type": "code",
   "execution_count": null,
   "id": "1fd70f68",
   "metadata": {},
   "outputs": [],
   "source": [
    "inv_df = pd.DataFrame({portfolio_g.full_name: portfolio_g.investment, \n",
    "              portfolio_s.full_name: portfolio_s.investment, \n",
    "              portfolio_w.full_name: portfolio_w.investment}).T\n",
    "inv_df"
   ]
  },
  {
   "cell_type": "code",
   "execution_count": null,
   "id": "69804b3f",
   "metadata": {},
   "outputs": [],
   "source": [
    "capgain_df = pd.DataFrame({\n",
    "              portfolio_g.full_name: portfolio_g.capital_gains, \n",
    "              portfolio_s.full_name: portfolio_s.capital_gains, \n",
    "              portfolio_w.full_name: portfolio_w.capital_gains}).T\n",
    "capgain_df"
   ]
  },
  {
   "cell_type": "code",
   "execution_count": null,
   "id": "506d8024",
   "metadata": {},
   "outputs": [],
   "source": [
    "import matplotlib.pyplot as plt\n",
    "\n",
    "plt.figure(figsize=(10,6))\n",
    "plt.plot(portfolio_g.portfolio_value.index, portfolio_g.portfolio_value['Total_Value'], label=portfolio_g.full_name)\n",
    "plt.plot(portfolio_s.portfolio_value.index, portfolio_s.portfolio_value['Total_Value'], label=portfolio_s.full_name)\n",
    "plt.plot(portfolio_w.portfolio_value.index, portfolio_w.portfolio_value['Total_Value'], label=portfolio_w.full_name)\n",
    "plt.legend()\n",
    "plt.title(\"Portfolio Values (from inception)\")\n",
    "plt.show()"
   ]
  },
  {
   "cell_type": "code",
   "execution_count": null,
   "id": "bf850aba",
   "metadata": {},
   "outputs": [],
   "source": [
    "\n",
    "plot_df_prices_lines([portfolio_g, portfolio_s, portfolio_w])"
   ]
  },
  {
   "cell_type": "markdown",
   "id": "1ba833bb",
   "metadata": {},
   "source": [
    "### API data"
   ]
  },
  {
   "cell_type": "code",
   "execution_count": null,
   "id": "2c3b7b26",
   "metadata": {},
   "outputs": [],
   "source": [
    "##FMP API\n",
    "# PUBLIC API KEY = ?apikey=eGw4yVV5QZwCAsvqO3zZcs8dNRulA1Nk\n",
    "import requests\n",
    "# Define the API endpoint and parameters\n",
    "url = \"https://financialmodelingprep.com/stable/senate-latest\"\n",
    "params = {\n",
    "    'apikey': 'eGw4yVV5QZwCAsvqO3zZcs8dNRulA1Nk'  \n",
    "}\n",
    "response = requests.get(url, params=params)\n",
    "# Check if the request was successful\n",
    "if response.status_code == 200:\n",
    "    data = response.json()  # Parse the JSON response\n",
    "    print(data)  # Print the data or process it as needed\n"
   ]
  },
  {
   "cell_type": "code",
   "execution_count": null,
   "id": "66143254",
   "metadata": {},
   "outputs": [],
   "source": [
    "import pandas as pd\n",
    "# Convert the JSON data to a DataFrame\n",
    "df = pd.DataFrame(data)\n",
    "# Display the DataFrame\n",
    "#df.to_csv('data/senate_data.csv', index=False)  # Save to CSV file\n",
    "df.info()  # Display the first few rows of the DataFrame"
   ]
  },
  {
   "cell_type": "code",
   "execution_count": 13,
   "id": "b791ef93",
   "metadata": {},
   "outputs": [
    {
     "ename": "KeyError",
     "evalue": "'symbol'",
     "output_type": "error",
     "traceback": [
      "\u001b[31m---------------------------------------------------------------------------\u001b[39m",
      "\u001b[31mKeyError\u001b[39m                                  Traceback (most recent call last)",
      "\u001b[36mFile \u001b[39m\u001b[32mc:\\Users\\creat\\.conda\\envs\\finance\\Lib\\site-packages\\pandas\\core\\indexes\\base.py:3805\u001b[39m, in \u001b[36mIndex.get_loc\u001b[39m\u001b[34m(self, key)\u001b[39m\n\u001b[32m   3804\u001b[39m \u001b[38;5;28;01mtry\u001b[39;00m:\n\u001b[32m-> \u001b[39m\u001b[32m3805\u001b[39m     \u001b[38;5;28;01mreturn\u001b[39;00m \u001b[38;5;28;43mself\u001b[39;49m\u001b[43m.\u001b[49m\u001b[43m_engine\u001b[49m\u001b[43m.\u001b[49m\u001b[43mget_loc\u001b[49m\u001b[43m(\u001b[49m\u001b[43mcasted_key\u001b[49m\u001b[43m)\u001b[49m\n\u001b[32m   3806\u001b[39m \u001b[38;5;28;01mexcept\u001b[39;00m \u001b[38;5;167;01mKeyError\u001b[39;00m \u001b[38;5;28;01mas\u001b[39;00m err:\n",
      "\u001b[36mFile \u001b[39m\u001b[32mindex.pyx:167\u001b[39m, in \u001b[36mpandas._libs.index.IndexEngine.get_loc\u001b[39m\u001b[34m()\u001b[39m\n",
      "\u001b[36mFile \u001b[39m\u001b[32mindex.pyx:196\u001b[39m, in \u001b[36mpandas._libs.index.IndexEngine.get_loc\u001b[39m\u001b[34m()\u001b[39m\n",
      "\u001b[36mFile \u001b[39m\u001b[32mpandas\\\\_libs\\\\hashtable_class_helper.pxi:7081\u001b[39m, in \u001b[36mpandas._libs.hashtable.PyObjectHashTable.get_item\u001b[39m\u001b[34m()\u001b[39m\n",
      "\u001b[36mFile \u001b[39m\u001b[32mpandas\\\\_libs\\\\hashtable_class_helper.pxi:7089\u001b[39m, in \u001b[36mpandas._libs.hashtable.PyObjectHashTable.get_item\u001b[39m\u001b[34m()\u001b[39m\n",
      "\u001b[31mKeyError\u001b[39m: 'symbol'",
      "\nThe above exception was the direct cause of the following exception:\n",
      "\u001b[31mKeyError\u001b[39m                                  Traceback (most recent call last)",
      "\u001b[36mCell\u001b[39m\u001b[36m \u001b[39m\u001b[32mIn[13]\u001b[39m\u001b[32m, line 1\u001b[39m\n\u001b[32m----> \u001b[39m\u001b[32m1\u001b[39m \u001b[43mdf\u001b[49m\u001b[43m[\u001b[49m\u001b[33;43m'\u001b[39;49m\u001b[33;43msymbol\u001b[39;49m\u001b[33;43m'\u001b[39;49m\u001b[43m]\u001b[49m.unique()  \u001b[38;5;66;03m# Get unique symbols from the DataFrame\u001b[39;00m\n\u001b[32m      2\u001b[39m symbol_list = \u001b[38;5;28mlist\u001b[39m(df[\u001b[33m'\u001b[39m\u001b[33msymbol\u001b[39m\u001b[33m'\u001b[39m].unique())\n\u001b[32m      3\u001b[39m \u001b[38;5;28mprint\u001b[39m(symbol_list)  \u001b[38;5;66;03m# Print the unique symbols\u001b[39;00m\n",
      "\u001b[36mFile \u001b[39m\u001b[32mc:\\Users\\creat\\.conda\\envs\\finance\\Lib\\site-packages\\pandas\\core\\frame.py:4102\u001b[39m, in \u001b[36mDataFrame.__getitem__\u001b[39m\u001b[34m(self, key)\u001b[39m\n\u001b[32m   4100\u001b[39m \u001b[38;5;28;01mif\u001b[39;00m \u001b[38;5;28mself\u001b[39m.columns.nlevels > \u001b[32m1\u001b[39m:\n\u001b[32m   4101\u001b[39m     \u001b[38;5;28;01mreturn\u001b[39;00m \u001b[38;5;28mself\u001b[39m._getitem_multilevel(key)\n\u001b[32m-> \u001b[39m\u001b[32m4102\u001b[39m indexer = \u001b[38;5;28;43mself\u001b[39;49m\u001b[43m.\u001b[49m\u001b[43mcolumns\u001b[49m\u001b[43m.\u001b[49m\u001b[43mget_loc\u001b[49m\u001b[43m(\u001b[49m\u001b[43mkey\u001b[49m\u001b[43m)\u001b[49m\n\u001b[32m   4103\u001b[39m \u001b[38;5;28;01mif\u001b[39;00m is_integer(indexer):\n\u001b[32m   4104\u001b[39m     indexer = [indexer]\n",
      "\u001b[36mFile \u001b[39m\u001b[32mc:\\Users\\creat\\.conda\\envs\\finance\\Lib\\site-packages\\pandas\\core\\indexes\\base.py:3812\u001b[39m, in \u001b[36mIndex.get_loc\u001b[39m\u001b[34m(self, key)\u001b[39m\n\u001b[32m   3807\u001b[39m     \u001b[38;5;28;01mif\u001b[39;00m \u001b[38;5;28misinstance\u001b[39m(casted_key, \u001b[38;5;28mslice\u001b[39m) \u001b[38;5;129;01mor\u001b[39;00m (\n\u001b[32m   3808\u001b[39m         \u001b[38;5;28misinstance\u001b[39m(casted_key, abc.Iterable)\n\u001b[32m   3809\u001b[39m         \u001b[38;5;129;01mand\u001b[39;00m \u001b[38;5;28many\u001b[39m(\u001b[38;5;28misinstance\u001b[39m(x, \u001b[38;5;28mslice\u001b[39m) \u001b[38;5;28;01mfor\u001b[39;00m x \u001b[38;5;129;01min\u001b[39;00m casted_key)\n\u001b[32m   3810\u001b[39m     ):\n\u001b[32m   3811\u001b[39m         \u001b[38;5;28;01mraise\u001b[39;00m InvalidIndexError(key)\n\u001b[32m-> \u001b[39m\u001b[32m3812\u001b[39m     \u001b[38;5;28;01mraise\u001b[39;00m \u001b[38;5;167;01mKeyError\u001b[39;00m(key) \u001b[38;5;28;01mfrom\u001b[39;00m\u001b[38;5;250m \u001b[39m\u001b[34;01merr\u001b[39;00m\n\u001b[32m   3813\u001b[39m \u001b[38;5;28;01mexcept\u001b[39;00m \u001b[38;5;167;01mTypeError\u001b[39;00m:\n\u001b[32m   3814\u001b[39m     \u001b[38;5;66;03m# If we have a listlike key, _check_indexing_error will raise\u001b[39;00m\n\u001b[32m   3815\u001b[39m     \u001b[38;5;66;03m#  InvalidIndexError. Otherwise we fall through and re-raise\u001b[39;00m\n\u001b[32m   3816\u001b[39m     \u001b[38;5;66;03m#  the TypeError.\u001b[39;00m\n\u001b[32m   3817\u001b[39m     \u001b[38;5;28mself\u001b[39m._check_indexing_error(key)\n",
      "\u001b[31mKeyError\u001b[39m: 'symbol'"
     ]
    }
   ],
   "source": [
    "df['symbol'].unique()  # Get unique symbols from the DataFrame\n",
    "symbol_list = list(df['symbol'].unique())\n",
    "print(symbol_list)  # Print the unique symbols\n",
    "print(len(symbol_list))  \n",
    "# prices_df = get_price(symbol_list)\n",
    "# prices_df.to_csv('data/senate_prices.csv', index=True)  # Save to CSV file"
   ]
  },
  {
   "cell_type": "code",
   "execution_count": null,
   "id": "3f5cb27a",
   "metadata": {},
   "outputs": [],
   "source": [
    "df[df['lastName'] == 'Moran']"
   ]
  },
  {
   "cell_type": "code",
   "execution_count": null,
   "id": "616ea222",
   "metadata": {},
   "outputs": [],
   "source": [
    "#print(df.amount)\n",
    "for amount in df.amount: \n",
    "    amount = amount.split()\n",
    "    amount.remove('-')\n",
    "    #print(amount)\n",
    "    #print(amount[0][1:])\n",
    "    #print(amount[0][1:].replace(',', '.'))\n",
    "    #print(float(amount[0][1:].replace(',', '.')))\n",
    "    no_1 = float(amount[0][1:].replace(',', ''))\n",
    "    no_2 = float(amount[1][1:].replace(',', '')) \n",
    "    print(no_1, no_2)"
   ]
  },
  {
   "cell_type": "code",
   "execution_count": null,
   "id": "01210f1e",
   "metadata": {},
   "outputs": [],
   "source": [
    "#df[df[\"assetType\"]=='ETF'] # Check unique asset types \n",
    "df.info"
   ]
  },
  {
   "cell_type": "code",
   "execution_count": null,
   "id": "881663ae",
   "metadata": {},
   "outputs": [],
   "source": [
    "#get all symbols for senator purchases\n",
    "symbols_senator = df['symbol'].unique()\n",
    "print(type(symbols_senator)) # Display the unique symbols\n"
   ]
  },
  {
   "cell_type": "code",
   "execution_count": null,
   "id": "8b110e50",
   "metadata": {},
   "outputs": [],
   "source": [
    "#getting a list of senators for the analysis since 2020\n",
    "import pandas as pd\n",
    "import requests\n",
    "import json\n",
    "#load json data from link\n",
    "url = \"https://unitedstates.github.io/congress-legislators/legislators-current.json\"\n",
    "response = requests.get(url)\n",
    "\n",
    "# Check if the request was successful\n",
    "if response.status_code == 200:\n",
    "    data = response.json()  # Parse the JSON response\n",
    "    senator_data_df = pd.DataFrame(data)  # Convert the JSON data to a DataFrame\n",
    "\n",
    "#need to filter data to include senators for whom we have data (2020 onwards)\n",
    "#start senators_json\n",
    "senators_dict={}\n",
    "for senator in data:\n",
    "    if senator['terms'] is not None:\n",
    "        for term in senator['terms']:\n",
    "            if term['type'] == 'sen' and term['end'] >= '2020-06-01':\n",
    "                #senators_dict[senator['id']['bioguide']] = senator #modify to include transactions by data\n",
    "                senators_dict[senator['name']['official_full']] = senator #modify to include transactions by data\n",
    "\n",
    "print('No. of senators: ', len(senators_dict))\n",
    "\n",
    "#create a set of senator names\n",
    "senators_set = {}\n",
    "for senator in senators_dict.values():\n",
    "    senators_set [f'{senator['name']['official_full'][0]} {senator['name']['official_full'].split(' ')[-1]}'] = senator['name']['official_full']  # Add first and last name as a list\n",
    "\n",
    "print(senators_set.keys())\n",
    "print('J Banks' in senators_set.keys())  # Check if 'J Morran' is in the set\n",
    "print(senators_set)  # Check if 'J Banks' is in the set\n",
    "\n"
   ]
  },
  {
   "cell_type": "code",
   "execution_count": null,
   "id": "ee218bc6",
   "metadata": {},
   "outputs": [],
   "source": [
    "#create new dict with empty transactions\n",
    "senators_transactions = {} \n",
    "for senator in senators_set.keys():\n",
    "    senators_transactions[senators_set[senator]] = {}  # Initialize an empty dictionary for each senator\n",
    "\n",
    "print(senators_transactions)\n",
    " # Create a copy of the senators_dict to store transactions\n",
    "for transaction in df.iterrows():  \n",
    "    #print(transaction[1].office)\n",
    "    fullname = transaction[1].office\n",
    "    simplified_name = f'{fullname[0]} {fullname.split(' ')[-1]}'\n",
    "    #print(simplified_name)\n",
    "    if simplified_name in senators_set.keys():\n",
    "        #print(senators_transactions[senators_set[simplified_name]])\n",
    "        if transaction[1].transactionDate not in senators_transactions[senators_set[simplified_name]]:\n",
    "            senators_transactions[senators_set[simplified_name]][transaction[1].transactionDate]= []\n",
    "        \n",
    "        senators_transactions[senators_set[simplified_name]][transaction[1].transactionDate].append({'range':transaction[1].amount,\n",
    "                                                                                                     'symbol':transaction[1].symbol,\n",
    "                                                                                                     'type':transaction[1].type,\n",
    "                                                                                                     'owner':transaction[1].owner,\n",
    "                                                                                                     'assettype':transaction[1].assetType})\n",
    "                                                                                                    \n",
    "        # print(simplified_name, 'not found in the set')\n",
    "\n",
    "print(senators_transactions)   "
   ]
  },
  {
   "cell_type": "code",
   "execution_count": null,
   "id": "7379341f",
   "metadata": {},
   "outputs": [],
   "source": [
    "senators_transactions[senators_set['J Moran']]#this data is not labelled"
   ]
  },
  {
   "cell_type": "code",
   "execution_count": null,
   "id": "42b422f3",
   "metadata": {},
   "outputs": [],
   "source": [
    "for senator, transactions in senators_transactions.items():\n",
    "    if bool (transactions) == True:\n",
    "        for keys_values in transactions.items():\n",
    "            for transaction in keys_values[1]:\n",
    "                x = transaction['range'].split()\n",
    "                x.remove('-')\n",
    "                range_lower= (float(x[0][1:].replace(',', '')))\n",
    "                range_higher = (float(x[1][1:].replace(',', '')))\n",
    "                range_avg = (range_lower + range_higher) / 2\n",
    "                transaction['range_lower'] = range_lower\n",
    "                transaction['range_higher'] = range_higher\n",
    "                transaction['range_avg'] = range_avg\n",
    "                print(transaction)\n",
    "  \n",
    "# bring it all together for portfolio creation\n"
   ]
  },
  {
   "cell_type": "code",
   "execution_count": null,
   "id": "d96ed67a",
   "metadata": {},
   "outputs": [],
   "source": [
    "# # portfolio = Portfolio(names, str(valid_date):'symbol', stock_price_purchased,str(valid_date))\n",
    "# from portfolio import Portfolio\n",
    "# import pandas as pd \n",
    "# valid_date = get_closest_date_index(pd.Timestamp(31-12-2024), close_df)\n",
    "# stock_price_purchased = dict(close_df.loc[pd.to_datetime(valid_date)])\n",
    "# portfolio_santi = Portfolio('santiago','se',{str(valid_date):{'GOOG':1}}, stock_price_purchased,str(valid_date))\n",
    "# print(portfolio_santi)\n",
    "# bool(portfolio_santi)"
   ]
  },
  {
   "cell_type": "code",
   "execution_count": null,
   "id": "a9bcb159",
   "metadata": {},
   "outputs": [],
   "source": [
    "from portfolio import get_closest_date_index\n",
    "from data_fetch import import_yf_df\n",
    "from portfolio import Portfolio\n",
    "close_df = import_yf_df('data/senate_prices.csv', symbol_list)\n",
    "close_df.index[0]\n",
    "# print(close_df.index[0])\n",
    "senator_portfolio = {}\n",
    "\n",
    "for names in senators_transactions.keys():\n",
    "    senator_portfolio[names] = {}\n",
    "\n",
    "for values in senators_transactions.values():\n",
    "    if bool (values) == True:\n",
    "        # portfolio = Portfolio(names, str(valid_date):'symbol', stock_price_purchased,str(valid_date))\n",
    "        # portfolio = Portfolio('Gus', \"M\", {str(valid_date):{'AAPL': 1, 'MSFT': 1, 'GOOG': 1, 'AMZN': 1, 'TSLA': 1, 'NVDA': 1, 'NFLX': 1}}, stock_price_purchased,str(valid_date))\n",
    "        for k ,t in values.items():\n",
    "            i_transaction = t[0]\n",
    "            # print(i_transaction['symbol'])\n",
    "            \n",
    "\n",
    "for name_l, reported_transactions in senators_transactions.items():\n",
    "    name_list = name_l.split()\n",
    "    first_name = name_list[0]\n",
    "    last_name = name_list[-1]\n",
    "    \n",
    "    if bool (reported_transactions) == True:\n",
    "        for transaction_dates, s in reported_transactions.items():\n",
    "            for s_transaction in s:\n",
    "                valid_date = get_closest_date_index(pd.Timestamp(transaction_dates), close_df)  # Get the index of the closest date  # Get the first date from the DataFrame index     \n",
    "                \n",
    "                if valid_date is None or pd.isna(valid_date):\n",
    "                    #print(f\"Skipping transaction on {transaction_dates} for {name_l} (no valid date found)\")\n",
    "                    pass\n",
    "                #creatiing variables to input in portfolio\n",
    "                symb = s_transaction['symbol']\n",
    "                units = int(s_transaction['range_avg']/close_df.loc[pd.Timestamp(valid_date)][s_transaction['symbol']])\n",
    "                stk_price = close_df.loc[pd.Timestamp(valid_date)]\n",
    "\n",
    "                #print(f\"Transaction {transaction_dates} for {name_l} with valid date: {valid_date}, type: {s_transaction['type']}, symbol: {symb}, price: {stk_price[symb]}, units: {units}\")\n",
    "                if bool (senator_portfolio[name_l]) == False:\n",
    "                    senator_portfolio[name_l] = Portfolio(first_name,\n",
    "                                                            last_name,\n",
    "                                                            {str(valid_date):{symb:units}},\n",
    "                                                            stk_price,\n",
    "                                                            str(valid_date))# Initialize a new Portfolio object for the senator\n",
    "        \n",
    "                else:\n",
    "                    #print(f\"Processing transactions for {name_l}, {senator_portfolio[name_l].holdings}, {s_transaction['type']}, {s_transaction['range']}, symbol: {symb}\")\n",
    "                    if s_transaction['type'][0].lower() == 'p':\n",
    "                        senator_portfolio[name_l].add_asset(symb, units, str(valid_date), float(stk_price[symb]))\n",
    "                        #  def add_asset(self, symbol, units, buy_date, buy_price):\n",
    "                    elif s_transaction['type'][0].lower() == 's':     \n",
    "                        senator_portfolio[name_l].remove_asset(symb, units, str(valid_date), float(stk_price[symb]))  # Assuming remove_asset is defined in Portfolio\n",
    "                        # remove_asset(self, symbol, units, sell_date, historical_prices_df):\n",
    "                        #print(f\"Removing {units} shares of {symb} for {name_l} on {valid_date}\")\n",
    "                    else:\n",
    "                        #print(f\"Unknown transaction type: {s_transaction['type']} in {name_l} on {valid_date}\")\n",
    "                        pass\n",
    "                    #print(f\"PROCESSED {name_l}, {senator_portfolio[name_l].holdings}\")\n",
    "\n",
    "print(senator_portfolio['Jerry Moran'].holdings)"
   ]
  },
  {
   "cell_type": "code",
   "execution_count": null,
   "id": "06888d6b",
   "metadata": {},
   "outputs": [],
   "source": [
    "senator_portfolio['John Boozman'].holdings"
   ]
  },
  {
   "cell_type": "markdown",
   "id": "afc02924",
   "metadata": {},
   "source": [
    "#### Plotting"
   ]
  },
  {
   "cell_type": "code",
   "execution_count": null,
   "id": "151ce8db",
   "metadata": {},
   "outputs": [],
   "source": [
    "# Clean holdings: keep only the first element for each symbol\n",
    "cleaned_holdings = {\n",
    "    date: {symbol: max(0, value[0]) if isinstance(value, list) and len(value) > 0 else value\n",
    "           for symbol, value in symbols.items()}\n",
    "    for date, symbols in senator_portfolio['John Boozman'].holdings.items()\n",
    "}\n",
    "\n",
    "holdings_df = pd.DataFrame(cleaned_holdings).T\n",
    "holdings_df"
   ]
  },
  {
   "cell_type": "code",
   "execution_count": null,
   "id": "8dd3e97b",
   "metadata": {},
   "outputs": [],
   "source": [
    "holdings_df = pd.DataFrame(senator_portfolio['John Boozman'].holdings).T\n",
    "holdings_df"
   ]
  },
  {
   "cell_type": "code",
   "execution_count": null,
   "id": "e524a98d",
   "metadata": {},
   "outputs": [],
   "source": [
    "senator_portfolio['John Boozman'].get_portfolio_value(close_df)\n",
    "senator_portfolio['John Boozman'].portfolio_value\n"
   ]
  },
  {
   "cell_type": "code",
   "execution_count": null,
   "id": "d31df6a0",
   "metadata": {},
   "outputs": [],
   "source": [
    "from plotter import plot_df_prices_lines\n",
    "plot_df_prices_lines([senator_portfolio['John Boozman']])\n"
   ]
  },
  {
   "cell_type": "code",
   "execution_count": null,
   "id": "0a8bdbb3",
   "metadata": {},
   "outputs": [],
   "source": [
    "from plotter import plot_df_prices_components\n",
    "plot_df_prices_components(senator_portfolio['John Boozman'])"
   ]
  },
  {
   "cell_type": "markdown",
   "id": "c43cab1e",
   "metadata": {},
   "source": [
    "## Backtester 1.2"
   ]
  },
  {
   "cell_type": "code",
   "execution_count": 1,
   "id": "425b31a8",
   "metadata": {},
   "outputs": [
    {
     "name": "stderr",
     "output_type": "stream",
     "text": [
      "/Users/gustavo/repos/repos_learning/python_course/python-coruse/Projects/backtester/data_fetch.py:12: DtypeWarning: Columns (1,2,3,4,5,6,7,8,9,10,11,12,13,14,15,16,17,18,19,20,21,22,23,24,25,26,27,28,29,30,31,32,33,34,35,36,37,38,39,40,41,42,43,44,45,46,47,48,49,50,51,52,53,54,55,56,57,58,59,60,61,62,63,64,65,66,67,68,69,70,71,72,73,74,75,76,77,78,79,80,81,82,83,84,85,86,87,88,89,90,91,92,93,94,95,96,97,98,99,100,101,102,103,104,105,106,107,108,109,110,111,112,113,114,115,116,117,118,119,120,121,122,123,124,125,126,127,128,129,130,131,132,133,134,135,136,137,138,139,140,141,142,143,144,145,146,147,148,149,150,151,152,153,154,155,156,157,158,159,160,161,162,163,164,165,166,167,168,169,170,171,172,173,174,175,176,177,178,179,180,181,182,183,184,185,186,187,188,189,190,191,192,193,194,195,196,197,198,199,200,201,202,203,204,205,206,207,208,209,210,211,212,213,214,215,216,217,218,219,220) have mixed types. Specify dtype option on import or set low_memory=False.\n",
      "  prices_df = pd.read_csv(path)\n",
      "/Users/gustavo/repos/repos_learning/python_course/python-coruse/Projects/backtester/portfolio.py:191: FutureWarning: DataFrame.fillna with 'method' is deprecated and will raise in a future version. Use obj.ffill() or obj.bfill() instead.\n",
      "  merged_df.fillna(method='ffill', inplace=True)  # Forward fill to copy portfolio values to all dates until manually changed\n",
      "/Users/gustavo/repos/repos_learning/python_course/python-coruse/Projects/backtester/portfolio.py:205: SettingWithCopyWarning: \n",
      "A value is trying to be set on a copy of a slice from a DataFrame.\n",
      "Try using .loc[row_indexer,col_indexer] = value instead\n",
      "\n",
      "See the caveats in the documentation: https://pandas.pydata.org/pandas-docs/stable/user_guide/indexing.html#returning-a-view-versus-a-copy\n",
      "  final['yield'] = final['Total_Value'].pct_change()\n"
     ]
    },
    {
     "data": {
      "image/png": "[encoded data removed]",
      "text/plain": [
       "<Figure size 640x480 with 1 Axes>"
      ]
     },
     "metadata": {},
     "output_type": "display_data"
    }
   ],
   "source": [
    "import requests\n",
    "import pandas as pd\n",
    "import json\n",
    "from portfolio import get_closest_date_index\n",
    "from data_fetch import import_yf_df\n",
    "from portfolio import Portfolio\n",
    "from plotter import plot_df_prices_components\n",
    "\n",
    "##FMP API\n",
    "# PUBLIC API KEY = ?apikey=eGw4yVV5QZwCAsvqO3zZcs8dNRulA1Nk\n",
    "# Define the API endpoint and parameters\n",
    "url = \"https://financialmodelingprep.com/stable/senate-latest\" #Api Url  \n",
    "params = {\n",
    "    'apikey': 'eGw4yVV5QZwCAsvqO3zZcs8dNRulA1Nk'  \n",
    "}\n",
    "\n",
    "response = requests.get(url, params=params)\n",
    "# Check if the request was successful\n",
    "if response.status_code == 200:\n",
    "    data = response.json()  # Parse the JSON response\n",
    "\n",
    "\n",
    "response = requests.get(url, params=params)\n",
    "# Check if the request was successful\n",
    "   #getting a list of senators for the analysis since 2020\n",
    "\n",
    "df = pd.DataFrame(data)\n",
    "\n",
    "df['symbol'].unique()  # Get unique symbols from the DataFrame\n",
    "symbol_list = list(df['symbol'].unique())\n",
    "\n",
    "\n",
    "\n",
    "#load json data from link\n",
    "url = \"https://unitedstates.github.io/congress-legislators/legislators-current.json\"\n",
    "response = requests.get(url)\n",
    "\n",
    "# Check if the request was successful\n",
    "if response.status_code == 200:\n",
    "    data = response.json()  # Parse the JSON response\n",
    "    senator_data_df = pd.DataFrame(data)  # Convert the JSON data to a DataFrame\n",
    "\n",
    "# senator_data_df['symbol'].unique()  # Get unique symbols from the DataFrame\n",
    "# symbol_list = list(df['symbol'].unique())\n",
    "\n",
    "#need to filter data to include senators for whom we have data (2020 onwards)\n",
    "#start senators_json\n",
    "senators_dict={}\n",
    "for senator in data:\n",
    "    if senator['terms'] is not None:\n",
    "        for term in senator['terms']:\n",
    "            if term['type'] == 'sen' and term['end'] >= '2020-06-01':\n",
    "                senators_dict[senator['id']['bioguide']] = senator #modify to include transactions by data\n",
    "                senators_dict[senator['name']['official_full']] = senator #modify to include transactions by data\n",
    "\n",
    "#create a set of senator names\n",
    "senators_set = {}\n",
    "for senator in senators_dict.values():\n",
    "    senators_set [f'{senator['name']['official_full'][0]} {senator['name']['official_full'].split(' ')[-1]}'] = senator['name']['official_full']  # Add first and last name as a list\n",
    "\n",
    "#create new dict with empty transactions\n",
    "senators_transactions = {} \n",
    "for senator in senators_set.keys():\n",
    "    senators_transactions[senators_set[senator]] = {}  # Initialize an empty dictionary for each senator\n",
    "\n",
    " # Create a copy of the senators_dict to store transactions\n",
    "for transaction in df.iterrows():  \n",
    "    fullname = transaction[1].office\n",
    "    simplified_name = f'{fullname[0]} {fullname.split(' ')[-1]}'\n",
    "    if simplified_name in senators_set.keys():\n",
    "        if transaction[1].transactionDate not in senators_transactions[senators_set[simplified_name]]:\n",
    "            senators_transactions[senators_set[simplified_name]][transaction[1].transactionDate]= []\n",
    "\n",
    "        #creating dict for sentators name and transactions \n",
    "        senators_transactions[senators_set[simplified_name]][transaction[1].transactionDate].append({'range':transaction[1].amount,\n",
    "                                                                                                     'symbol':transaction[1].symbol,\n",
    "                                                                                                     'type':transaction[1].type,\n",
    "                                                                                                     'owner':transaction[1].owner,\n",
    "                                                                                                     'assettype':transaction[1].assetType})\n",
    "\n",
    "for senator, transactions in senators_transactions.items():\n",
    "    #calcaution Average of senators invement \n",
    "    if bool (transactions) == True:\n",
    "        for keys_values in transactions.items():\n",
    "            for transaction in keys_values[1]:\n",
    "                x = transaction['range'].split()\n",
    "                x.remove('-')\n",
    "                range_lower= (float(x[0][1:].replace(',', '')))\n",
    "                range_higher = (float(x[1][1:].replace(',', '')))\n",
    "                range_avg = (range_lower + range_higher) / 2\n",
    "                transaction['range_lower'] = range_lower #lowest amount of invemnet from the range\n",
    "                transaction['range_higher'] = range_higher #highest amount of invemnet from the range\n",
    "                transaction['range_avg'] = range_avg #avergae amount of invemnet from the range \n",
    "\n",
    "close_df = import_yf_df('data/senate_prices.csv', symbol_list) #importing stock prices and list of the symbols\n",
    "close_df.index[0]\n",
    "senator_portfolio = {} #empty dic of senator portfolio \n",
    "\n",
    "for names in senators_transactions.keys():\n",
    "    senator_portfolio[names] = {} # =empty dict of sentator names \n",
    "\n",
    "for name_l, reported_transactions in senators_transactions.items():\n",
    "    #creating list of first name and last name \n",
    "    name_list = name_l.split()\n",
    "    first_name = name_list[0]\n",
    "    last_name = name_list[-1]\n",
    "    \n",
    "    if bool (reported_transactions) == True:\n",
    "        for transaction_dates, s in reported_transactions.items():# the keys and value of transections \n",
    "            for s_transaction in s:\n",
    "                valid_date = get_closest_date_index(pd.Timestamp(transaction_dates), close_df)  # Get the index of the closest date  # Get the first date from the DataFrame index     \n",
    "                if valid_date is None or pd.isna(valid_date):\n",
    "                    pass\n",
    "                #creating variables to input in portfolio\n",
    "                symb = s_transaction['symbol']\n",
    "                units = int(s_transaction['range_avg']/close_df.loc[pd.Timestamp(valid_date)][s_transaction['symbol']])\n",
    "                stk_price = close_df.loc[pd.Timestamp(valid_date)]\n",
    "\n",
    "               #checking if porfolio is emtpy \n",
    "                if bool (senator_portfolio[name_l]) == False:\n",
    "                    #creating new portfolio of senator in sentor porfolio\n",
    "                    senator_portfolio[name_l] = Portfolio(first_name,\n",
    "                                                            last_name,\n",
    "                                                            {str(valid_date):{symb:units}},\n",
    "                                                            stk_price,\n",
    "                                                            str(valid_date))# Initialize a new Portfolio object for the senator\n",
    "                else:\n",
    "                    if s_transaction['type'][0].lower() == 'p':\n",
    "                        senator_portfolio[name_l].add_asset(symb, units, str(valid_date), float(stk_price[symb]))\n",
    "                        #  def add_asset(self, symbol, units, buy_date, buy_price):\n",
    "                    elif s_transaction['type'][0].lower() == 's':     \n",
    "                        senator_portfolio[name_l].remove_asset(symb, units, str(valid_date), float(stk_price[symb]))  # Assuming remove_asset is defined in Portfolio\n",
    "                    else:\n",
    "                        pass\n",
    "\n",
    "# Clean holdings: keep only the first element for each symbol\n",
    "cleaned_holdings = {\n",
    "    date: {symbol: max(0, value[0]) if isinstance(value, list) and len(value) > 0 else value\n",
    "           for symbol, value in symbols.items()}\n",
    "    for date, symbols in senator_portfolio['John Boozman'].holdings.items()\n",
    "}\n",
    "\n",
    "holdings_df = pd.DataFrame(cleaned_holdings).T\n",
    "holdings_df\n",
    "\n",
    "senator_portfolio['John Boozman'].get_portfolio_value(close_df)\n",
    "plot_df_prices_components(senator_portfolio['John Boozman']) #plotiong graph of senator \n"
   ]
  },
  {
   "cell_type": "code",
   "execution_count": 2,
   "id": "54f1bdb8",
   "metadata": {},
   "outputs": [
    {
     "data": {
      "text/plain": [
       "{'Maria Cantwell': {},\n",
       " 'Amy Klobuchar': {},\n",
       " 'Bernard Sanders': {},\n",
       " 'Sheldon Whitehouse': {},\n",
       " 'John Barrasso': {},\n",
       " 'Roger F. Wicker': {},\n",
       " 'Susan M. Collins': {},\n",
       " 'John Cornyn': {},\n",
       " 'Richard J. Durbin': {},\n",
       " 'Lindsey Graham': {},\n",
       " 'Mitch McConnell': <portfolio.Portfolio at 0x14279b380>,\n",
       " 'Jeff Merkley': {},\n",
       " 'Jack Reed': {},\n",
       " 'James E. Risch': {},\n",
       " 'Jeanne Shaheen': {},\n",
       " 'Mark R. Warner': {},\n",
       " 'Kirsten E. Gillibrand': {},\n",
       " 'Christopher A. Coons': {},\n",
       " 'Tammy Baldwin': {},\n",
       " 'Michael F. Bennet': {},\n",
       " 'Marsha Blackburn': {},\n",
       " 'Richard Blumenthal': <portfolio.Portfolio at 0x14294d1d0>,\n",
       " 'John Boozman': <portfolio.Portfolio at 0x14294e490>,\n",
       " 'Shelley Moore Capito': <portfolio.Portfolio at 0x142912c40>,\n",
       " 'Bill Cassidy': {},\n",
       " 'Mike Crapo': {},\n",
       " 'Chuck Grassley': {},\n",
       " 'Martin Heinrich': {},\n",
       " 'Mazie K. Hirono': {},\n",
       " 'John Hoeven': {},\n",
       " 'Ron Johnson': {},\n",
       " 'James Lankford': {},\n",
       " 'Mike Lee': {},\n",
       " 'Ben Ray Luján': {},\n",
       " 'Edward J. Markey': {},\n",
       " 'Jerry Moran': <portfolio.Portfolio at 0x142912d70>,\n",
       " 'Lisa Murkowski': {},\n",
       " 'Christopher Murphy': {},\n",
       " 'Patty Murray': {},\n",
       " 'Rand Paul': {},\n",
       " 'Gary C. Peters': {},\n",
       " 'Adam B. Schiff': {},\n",
       " 'Charles E. Schumer': {},\n",
       " 'Tim Scott': {},\n",
       " 'John Thune': {},\n",
       " 'Chris Van Hollen': {},\n",
       " 'Peter Welch': {},\n",
       " 'Ron Wyden': <portfolio.Portfolio at 0x142de9910>,\n",
       " 'Todd Young': {},\n",
       " 'Brian Schatz': {},\n",
       " 'Tom Cotton': {},\n",
       " 'Tammy Duckworth': {},\n",
       " 'Elizabeth Warren': {},\n",
       " 'Angus S. King, Jr.': {},\n",
       " 'Steve Daines': {},\n",
       " 'Kevin Cramer': {},\n",
       " 'Deb Fischer': {},\n",
       " 'Markwayne Mullin': <portfolio.Portfolio at 0x14291aad0>,\n",
       " 'Ted Cruz': {},\n",
       " 'Tim Kaine': {},\n",
       " 'Cory A. Booker': {},\n",
       " 'Ruben Gallego': {},\n",
       " 'Dan Sullivan': {},\n",
       " 'Joni Ernst': {},\n",
       " 'Thom Tillis': {},\n",
       " 'Mike Rounds': {},\n",
       " 'John Kennedy': {},\n",
       " 'Margaret Wood Hassan': {},\n",
       " 'Catherine Cortez Masto': {},\n",
       " 'Lisa Blunt Rochester': {},\n",
       " 'Jim Banks': <portfolio.Portfolio at 0x14291a8b0>,\n",
       " 'Roger Marshall': {},\n",
       " 'Ted Budd': {},\n",
       " 'Jacky Rosen': {},\n",
       " 'John R. Curtis': {},\n",
       " 'Tina Smith': {},\n",
       " 'Cindy Hyde-Smith': {},\n",
       " 'Elissa Slotkin': {},\n",
       " 'Andy Kim': {},\n",
       " 'Rick Scott': {},\n",
       " 'Josh Hawley': {},\n",
       " 'Mark Kelly': {},\n",
       " 'Cynthia M. Lummis': {},\n",
       " 'Tommy Tuberville': {},\n",
       " 'John W. Hickenlooper': <portfolio.Portfolio at 0x142926950>,\n",
       " 'Bill Hagerty': {},\n",
       " 'Alex Padilla': {},\n",
       " 'Jon Ossoff': {},\n",
       " 'Raphael G. Warnock': {},\n",
       " 'Katie Boyd Britt': {},\n",
       " 'Eric Schmitt': {},\n",
       " 'John Fetterman': {},\n",
       " 'Pete Ricketts': {},\n",
       " 'Angela D. Alsobrooks': {},\n",
       " 'Tim Sheehy': {},\n",
       " 'Bernie Moreno': {},\n",
       " 'David McCormick': {},\n",
       " 'James C. Justice': {},\n",
       " 'Jon Husted': {},\n",
       " 'Ashley Moody': {}}"
      ]
     },
     "execution_count": 2,
     "metadata": {},
     "output_type": "execute_result"
    }
   ],
   "source": [
    "senator_portfolio"
   ]
  },
  {
   "cell_type": "code",
   "execution_count": 3,
   "id": "5ca6b370",
   "metadata": {},
   "outputs": [
    {
     "name": "stderr",
     "output_type": "stream",
     "text": [
      "/Users/gustavo/repos/repos_learning/python_course/python-coruse/Projects/backtester/portfolio.py:191: FutureWarning: DataFrame.fillna with 'method' is deprecated and will raise in a future version. Use obj.ffill() or obj.bfill() instead.\n",
      "  merged_df.fillna(method='ffill', inplace=True)  # Forward fill to copy portfolio values to all dates until manually changed\n",
      "/Users/gustavo/repos/repos_learning/python_course/python-coruse/Projects/backtester/portfolio.py:205: SettingWithCopyWarning: \n",
      "A value is trying to be set on a copy of a slice from a DataFrame.\n",
      "Try using .loc[row_indexer,col_indexer] = value instead\n",
      "\n",
      "See the caveats in the documentation: https://pandas.pydata.org/pandas-docs/stable/user_guide/indexing.html#returning-a-view-versus-a-copy\n",
      "  final['yield'] = final['Total_Value'].pct_change()\n",
      "/Users/gustavo/repos/repos_learning/python_course/python-coruse/Projects/backtester/portfolio.py:191: FutureWarning: DataFrame.fillna with 'method' is deprecated and will raise in a future version. Use obj.ffill() or obj.bfill() instead.\n",
      "  merged_df.fillna(method='ffill', inplace=True)  # Forward fill to copy portfolio values to all dates until manually changed\n",
      "/Users/gustavo/repos/repos_learning/python_course/python-coruse/Projects/backtester/portfolio.py:205: SettingWithCopyWarning: \n",
      "A value is trying to be set on a copy of a slice from a DataFrame.\n",
      "Try using .loc[row_indexer,col_indexer] = value instead\n",
      "\n",
      "See the caveats in the documentation: https://pandas.pydata.org/pandas-docs/stable/user_guide/indexing.html#returning-a-view-versus-a-copy\n",
      "  final['yield'] = final['Total_Value'].pct_change()\n",
      "/Users/gustavo/repos/repos_learning/python_course/python-coruse/Projects/backtester/portfolio.py:191: FutureWarning: DataFrame.fillna with 'method' is deprecated and will raise in a future version. Use obj.ffill() or obj.bfill() instead.\n",
      "  merged_df.fillna(method='ffill', inplace=True)  # Forward fill to copy portfolio values to all dates until manually changed\n",
      "/Users/gustavo/repos/repos_learning/python_course/python-coruse/Projects/backtester/portfolio.py:205: SettingWithCopyWarning: \n",
      "A value is trying to be set on a copy of a slice from a DataFrame.\n",
      "Try using .loc[row_indexer,col_indexer] = value instead\n",
      "\n",
      "See the caveats in the documentation: https://pandas.pydata.org/pandas-docs/stable/user_guide/indexing.html#returning-a-view-versus-a-copy\n",
      "  final['yield'] = final['Total_Value'].pct_change()\n",
      "/Users/gustavo/repos/repos_learning/python_course/python-coruse/Projects/backtester/portfolio.py:191: FutureWarning: DataFrame.fillna with 'method' is deprecated and will raise in a future version. Use obj.ffill() or obj.bfill() instead.\n",
      "  merged_df.fillna(method='ffill', inplace=True)  # Forward fill to copy portfolio values to all dates until manually changed\n",
      "/Users/gustavo/repos/repos_learning/python_course/python-coruse/Projects/backtester/portfolio.py:205: SettingWithCopyWarning: \n",
      "A value is trying to be set on a copy of a slice from a DataFrame.\n",
      "Try using .loc[row_indexer,col_indexer] = value instead\n",
      "\n",
      "See the caveats in the documentation: https://pandas.pydata.org/pandas-docs/stable/user_guide/indexing.html#returning-a-view-versus-a-copy\n",
      "  final['yield'] = final['Total_Value'].pct_change()\n",
      "/Users/gustavo/repos/repos_learning/python_course/python-coruse/Projects/backtester/portfolio.py:191: FutureWarning: DataFrame.fillna with 'method' is deprecated and will raise in a future version. Use obj.ffill() or obj.bfill() instead.\n",
      "  merged_df.fillna(method='ffill', inplace=True)  # Forward fill to copy portfolio values to all dates until manually changed\n",
      "/Users/gustavo/repos/repos_learning/python_course/python-coruse/Projects/backtester/portfolio.py:205: SettingWithCopyWarning: \n",
      "A value is trying to be set on a copy of a slice from a DataFrame.\n",
      "Try using .loc[row_indexer,col_indexer] = value instead\n",
      "\n",
      "See the caveats in the documentation: https://pandas.pydata.org/pandas-docs/stable/user_guide/indexing.html#returning-a-view-versus-a-copy\n",
      "  final['yield'] = final['Total_Value'].pct_change()\n",
      "/Users/gustavo/repos/repos_learning/python_course/python-coruse/Projects/backtester/portfolio.py:191: FutureWarning: DataFrame.fillna with 'method' is deprecated and will raise in a future version. Use obj.ffill() or obj.bfill() instead.\n",
      "  merged_df.fillna(method='ffill', inplace=True)  # Forward fill to copy portfolio values to all dates until manually changed\n",
      "/Users/gustavo/repos/repos_learning/python_course/python-coruse/Projects/backtester/portfolio.py:205: SettingWithCopyWarning: \n",
      "A value is trying to be set on a copy of a slice from a DataFrame.\n",
      "Try using .loc[row_indexer,col_indexer] = value instead\n",
      "\n",
      "See the caveats in the documentation: https://pandas.pydata.org/pandas-docs/stable/user_guide/indexing.html#returning-a-view-versus-a-copy\n",
      "  final['yield'] = final['Total_Value'].pct_change()\n",
      "/Users/gustavo/repos/repos_learning/python_course/python-coruse/Projects/backtester/portfolio.py:191: FutureWarning: DataFrame.fillna with 'method' is deprecated and will raise in a future version. Use obj.ffill() or obj.bfill() instead.\n",
      "  merged_df.fillna(method='ffill', inplace=True)  # Forward fill to copy portfolio values to all dates until manually changed\n",
      "/Users/gustavo/repos/repos_learning/python_course/python-coruse/Projects/backtester/portfolio.py:205: SettingWithCopyWarning: \n",
      "A value is trying to be set on a copy of a slice from a DataFrame.\n",
      "Try using .loc[row_indexer,col_indexer] = value instead\n",
      "\n",
      "See the caveats in the documentation: https://pandas.pydata.org/pandas-docs/stable/user_guide/indexing.html#returning-a-view-versus-a-copy\n",
      "  final['yield'] = final['Total_Value'].pct_change()\n",
      "/Users/gustavo/repos/repos_learning/python_course/python-coruse/Projects/backtester/portfolio.py:191: FutureWarning: DataFrame.fillna with 'method' is deprecated and will raise in a future version. Use obj.ffill() or obj.bfill() instead.\n",
      "  merged_df.fillna(method='ffill', inplace=True)  # Forward fill to copy portfolio values to all dates until manually changed\n",
      "/Users/gustavo/repos/repos_learning/python_course/python-coruse/Projects/backtester/portfolio.py:205: SettingWithCopyWarning: \n",
      "A value is trying to be set on a copy of a slice from a DataFrame.\n",
      "Try using .loc[row_indexer,col_indexer] = value instead\n",
      "\n",
      "See the caveats in the documentation: https://pandas.pydata.org/pandas-docs/stable/user_guide/indexing.html#returning-a-view-versus-a-copy\n",
      "  final['yield'] = final['Total_Value'].pct_change()\n",
      "/Users/gustavo/repos/repos_learning/python_course/python-coruse/Projects/backtester/portfolio.py:191: FutureWarning: DataFrame.fillna with 'method' is deprecated and will raise in a future version. Use obj.ffill() or obj.bfill() instead.\n",
      "  merged_df.fillna(method='ffill', inplace=True)  # Forward fill to copy portfolio values to all dates until manually changed\n",
      "/Users/gustavo/repos/repos_learning/python_course/python-coruse/Projects/backtester/portfolio.py:205: SettingWithCopyWarning: \n",
      "A value is trying to be set on a copy of a slice from a DataFrame.\n",
      "Try using .loc[row_indexer,col_indexer] = value instead\n",
      "\n",
      "See the caveats in the documentation: https://pandas.pydata.org/pandas-docs/stable/user_guide/indexing.html#returning-a-view-versus-a-copy\n",
      "  final['yield'] = final['Total_Value'].pct_change()\n"
     ]
    },
    {
     "data": {
      "image/png": "[encoded data removed]",
      "text/plain": [
       "<Figure size 1000x600 with 1 Axes>"
      ]
     },
     "metadata": {},
     "output_type": "display_data"
    }
   ],
   "source": [
    "from plotter import plot_df_prices_lines\n",
    "senator_port_list = []\n",
    "for portfolios in senator_portfolio.values(): \n",
    "    if bool(portfolios):\n",
    "        portfolios.get_portfolio_value(close_df) \n",
    "        senator_port_list.append(portfolios)\n",
    "\n",
    "plot_df_prices_lines(senator_port_list)  # Plotting all senator portfolios"
   ]
  }
 ],
 "metadata": {
  "kernelspec": {
   "display_name": "finance",
   "language": "python",
   "name": "python3"
  },
  "language_info": {
   "codemirror_mode": {
    "name": "ipython",
    "version": 3
   },
   "file_extension": ".py",
   "mimetype": "text/x-python",
   "name": "python",
   "nbconvert_exporter": "python",
   "pygments_lexer": "ipython3",
   "version": "3.13.3"
  }
 },
 "nbformat": 4,
 "nbformat_minor": 5
}
