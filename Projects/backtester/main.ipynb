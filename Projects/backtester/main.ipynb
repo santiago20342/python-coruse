{
 "cells": [
  {
   "cell_type": "code",
   "execution_count": null,
   "id": "ff91d695",
   "metadata": {},
   "outputs": [
    {
     "name": "stdout",
     "output_type": "stream",
     "text": [
      "yfinance.Ticker object <MSFT>\n"
     ]
    }
   ],
   "source": [
    "import yfinance as yf\n",
    "dat = yf.Ticker(\"MSFT\")\n"
   ]
  },
  {
   "cell_type": "code",
   "execution_count": 3,
   "id": "639e0b7a",
   "metadata": {},
   "outputs": [
    {
     "name": "stdout",
     "output_type": "stream",
     "text": [
      "                                 Open        High         Low       Close  \\\n",
      "Date                                                                        \n",
      "2020-09-15 00:00:00-04:00  115.101701  115.588060  110.510472  112.387817   \n",
      "2020-09-16 00:00:00-04:00  112.086286  112.835275  108.983313  109.070854   \n",
      "2020-09-17 00:00:00-04:00  106.726594  109.138929  105.744146  107.329674   \n",
      "2020-09-18 00:00:00-04:00  107.388059  107.854960  103.195640  103.925179   \n",
      "2020-09-21 00:00:00-04:00  101.687917  107.183774  100.287201  107.076775   \n",
      "...                               ...         ...         ...         ...   \n",
      "2025-09-09 00:00:00-04:00  237.000000  238.779999  233.360001  234.350006   \n",
      "2025-09-10 00:00:00-04:00  232.190002  232.419998  225.949997  226.789993   \n",
      "2025-09-11 00:00:00-04:00  226.880005  230.449997  226.649994  230.029999   \n",
      "2025-09-12 00:00:00-04:00  229.220001  234.509995  229.020004  234.070007   \n",
      "2025-09-15 00:00:00-04:00  237.000000  238.190002  235.029999  236.514999   \n",
      "\n",
      "                              Volume  Dividends  Stock Splits  \n",
      "Date                                                           \n",
      "2020-09-15 00:00:00-04:00  184642000        0.0           0.0  \n",
      "2020-09-16 00:00:00-04:00  154679000        0.0           0.0  \n",
      "2020-09-17 00:00:00-04:00  178011000        0.0           0.0  \n",
      "2020-09-18 00:00:00-04:00  287104900        0.0           0.0  \n",
      "2020-09-21 00:00:00-04:00  195713800        0.0           0.0  \n",
      "...                              ...        ...           ...  \n",
      "2025-09-09 00:00:00-04:00   66313900        0.0           0.0  \n",
      "2025-09-10 00:00:00-04:00   83440800        0.0           0.0  \n",
      "2025-09-11 00:00:00-04:00   50208600        0.0           0.0  \n",
      "2025-09-12 00:00:00-04:00   55776500        0.0           0.0  \n",
      "2025-09-15 00:00:00-04:00   18536828        0.0           0.0  \n",
      "\n",
      "[1256 rows x 7 columns]\n"
     ]
    }
   ],
   "source": [
    "Apple = yf.Ticker('AAPL').history(period=\"5y\",interval=\"1d\")\n",
    "print(Apple)"
   ]
  },
  {
   "cell_type": "code",
   "execution_count": null,
   "id": "ea5882a7",
   "metadata": {},
   "outputs": [
    {
     "name": "stdout",
     "output_type": "stream",
     "text": [
      "https://raw.githubusercontent.com/PokeAPI/sprites/master/sprites/pokemon/25.png\n"
     ]
    }
   ],
   "source": [
    "import requests\n",
    "\n",
    "Pikachu =  requests.get(\"https://pokeapi.co/api/v2/pokemon/pikachu\")\n",
    "pik_front = Pikachu.json()['sprites']['front_default']#this is a url\n",
    "print(pik_front)"
   ]
  },
  {
   "cell_type": "code",
   "execution_count": null,
   "id": "ac890b33",
   "metadata": {},
   "outputs": [],
   "source": [
    "import requests\n",
    "from PIL import Image\n",
    "from io import BytesIO\n",
    "\n",
    "response = requests.get(pik_front)#use url from json above\n",
    "img = Image.open(BytesIO(response.content))\n",
    "img.show()"
   ]
  }
 ],
 "metadata": {
  "kernelspec": {
   "display_name": "finance",
   "language": "python",
   "name": "python3"
  },
  "language_info": {
   "codemirror_mode": {
    "name": "ipython",
    "version": 3
   },
   "file_extension": ".py",
   "mimetype": "text/x-python",
   "name": "python",
   "nbconvert_exporter": "python",
   "pygments_lexer": "ipython3",
   "version": "3.13.2"
  }
 },
 "nbformat": 4,
 "nbformat_minor": 5
}
